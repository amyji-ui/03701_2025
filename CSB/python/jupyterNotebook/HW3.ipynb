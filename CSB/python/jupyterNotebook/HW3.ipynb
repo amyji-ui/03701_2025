{
 "cells": [
  {
   "cell_type": "markdown",
   "id": "79b57e23-abe5-4e5b-9503-a50baf67d4b4",
   "metadata": {},
   "source": [
    "03701 HW3\n",
    "Amy Ji"
   ]
  },
  {
   "cell_type": "markdown",
   "id": "911bdf7d-29a8-426d-8a35-6af5218c1cba",
   "metadata": {},
   "source": [
    "Question 1:"
   ]
  },
  {
   "cell_type": "code",
   "execution_count": 2,
   "id": "e8bfdc31-d15f-4ea5-9d90-5aebf0fc72b8",
   "metadata": {},
   "outputs": [],
   "source": [
    "import pandas as pd\n",
    "df = pd.read_csv('../data/Dalziel2016_data.csv')"
   ]
  },
  {
   "cell_type": "code",
   "execution_count": null,
   "id": "df3a693f-6b13-424e-a5a3-0035ef846b21",
   "metadata": {},
   "outputs": [],
   "source": [
    "df.head()"
   ]
  },
  {
   "cell_type": "code",
   "execution_count": null,
   "id": "2c9babaa-a0ef-4068-b5da-611a179c5220",
   "metadata": {},
   "outputs": [],
   "source": [
    "# convert list to a set to remove all duplicated values. \n",
    "cityName = set(df['loc'])"
   ]
  },
  {
   "cell_type": "code",
   "execution_count": 10,
   "id": "d391d5e0-0edc-4307-aff2-546d79400d99",
   "metadata": {},
   "outputs": [
    {
     "name": "stdout",
     "output_type": "stream",
     "text": [
      "{'COLUMBUS', 'SAN FRANCISCO', 'MILWAUKEE', 'NEW ORLEANS', 'NEW HAVEN', 'NEW YORK', 'NASHVILLE', 'WASHINGTON', 'PROVIDENCE', 'DETROIT', 'FALL RIVER', 'PITTSBURGH', 'DULUTH', 'ST LOUIS', 'CHICAGO', 'CLEVELAND', 'READING.US', 'LOS ANGELES', 'GRAND RAPIDS', 'TRENTON', 'BOSTON', 'RICHMOND', 'NEWARK', 'KANSAS CITY', 'MINNEAPOLIS', 'INDIANAPOLIS', 'PHILADELPHIA', 'SPRINGFIELD', 'SPOKANE', 'HARTFORD', 'TOLEDO', 'BALTIMORE', 'CINCINNATI', 'SEATTLE', 'BRIDGEPORT', 'ROCHESTER', 'SALT LAKE CITY', 'WORCESTER', 'BUFFALO', 'DENVER'}\n"
     ]
    }
   ],
   "source": [
    "print(cityName)"
   ]
  },
  {
   "cell_type": "code",
   "execution_count": 19,
   "id": "e6adbd60-c248-4324-aa28-878f1ae9872c",
   "metadata": {},
   "outputs": [],
   "source": [
    "# Creates an empty map to hold city names and counts.\n",
    "cityCount = {}\n",
    "# Fetch city name from the \"loc\" column in df\n",
    "location = df[\"loc\"]\n",
    "# Loops through all rows in the column.\n",
    "for city in location:\n",
    "    # If city is not yet in the map, create one. If already in, plus one. \n",
    "    if city not in cityCount:\n",
    "        cityCount[city] = 1\n",
    "    else:\n",
    "        cityCount[city] += 1"
   ]
  },
  {
   "cell_type": "code",
   "execution_count": 20,
   "id": "7b984ec6-14f0-46db-a99a-31b5a22d64e6",
   "metadata": {},
   "outputs": [
    {
     "name": "stdout",
     "output_type": "stream",
     "text": [
      "{'BALTIMORE': 1118, 'BOSTON': 1118, 'BRIDGEPORT': 1118, 'BUFFALO': 1118, 'CHICAGO': 1118, 'CINCINNATI': 1118, 'CLEVELAND': 1118, 'COLUMBUS': 1118, 'DENVER': 1118, 'DETROIT': 1118, 'DULUTH': 1118, 'FALL RIVER': 1118, 'GRAND RAPIDS': 1118, 'HARTFORD': 1118, 'INDIANAPOLIS': 1118, 'KANSAS CITY': 1118, 'LOS ANGELES': 1118, 'MILWAUKEE': 1118, 'MINNEAPOLIS': 1118, 'NASHVILLE': 1118, 'NEW HAVEN': 1118, 'NEW ORLEANS': 1118, 'NEW YORK': 1118, 'NEWARK': 1118, 'PHILADELPHIA': 1118, 'PITTSBURGH': 1118, 'PROVIDENCE': 1118, 'READING.US': 1118, 'RICHMOND': 1118, 'ROCHESTER': 1118, 'SALT LAKE CITY': 1118, 'SAN FRANCISCO': 1118, 'SEATTLE': 1118, 'SPOKANE': 1118, 'SPRINGFIELD': 1118, 'ST LOUIS': 1118, 'TOLEDO': 1118, 'TRENTON': 1118, 'WASHINGTON': 1118, 'WORCESTER': 1118}\n"
     ]
    }
   ],
   "source": [
    "print(cityCount)"
   ]
  },
  {
   "cell_type": "code",
   "execution_count": 23,
   "id": "a99ef607-3746-493b-8560-1bc51f03599c",
   "metadata": {},
   "outputs": [
    {
     "data": {
      "text/plain": [
       "loc\n",
       "BALTIMORE         7.621327e+05\n",
       "BOSTON            7.497160e+05\n",
       "BRIDGEPORT        1.377390e+05\n",
       "BUFFALO           5.278970e+05\n",
       "CHICAGO           2.993272e+06\n",
       "CINCINNATI        4.262704e+05\n",
       "CLEVELAND         8.011217e+05\n",
       "COLUMBUS          2.650888e+05\n",
       "DENVER            2.828426e+05\n",
       "DETROIT           1.240488e+06\n",
       "DULUTH            9.669747e+04\n",
       "FALL RIVER        1.171931e+05\n",
       "GRAND RAPIDS      1.491154e+05\n",
       "HARTFORD          1.460925e+05\n",
       "INDIANAPOLIS      3.355697e+05\n",
       "KANSAS CITY       2.318232e+05\n",
       "LOS ANGELES       1.010930e+06\n",
       "MILWAUKEE         5.133019e+05\n",
       "MINNEAPOLIS       4.222321e+05\n",
       "NASHVILLE         1.413296e+05\n",
       "NEW HAVEN         1.562809e+05\n",
       "NEW ORLEANS       4.341763e+05\n",
       "NEW YORK          6.376268e+06\n",
       "NEWARK            4.126030e+05\n",
       "PHILADELPHIA      1.841881e+06\n",
       "PITTSBURGH        6.230363e+05\n",
       "PROVIDENCE        2.432906e+05\n",
       "READING.US        1.069126e+05\n",
       "RICHMOND          1.749708e+05\n",
       "ROCHESTER         2.972658e+05\n",
       "SALT LAKE CITY    1.306720e+05\n",
       "SAN FRANCISCO     5.698762e+05\n",
       "SEATTLE           3.345958e+05\n",
       "SPOKANE           1.138130e+05\n",
       "SPRINGFIELD       1.332612e+05\n",
       "ST LOUIS          7.839325e+05\n",
       "TOLEDO            2.529593e+05\n",
       "TRENTON           1.175117e+05\n",
       "WASHINGTON        5.119808e+05\n",
       "WORCESTER         1.817012e+05\n",
       "Name: pop, dtype: float64"
      ]
     },
     "execution_count": 23,
     "metadata": {},
     "output_type": "execute_result"
    }
   ],
   "source": [
    "# groupby city name and calculate mean value. \n",
    "df.groupby(['loc'])['pop'].mean()"
   ]
  },
  {
   "cell_type": "code",
   "execution_count": 28,
   "id": "7564709b-c2c4-4401-81bf-d5a526d866c6",
   "metadata": {},
   "outputs": [],
   "source": [
    "def calcMean (columnName):\n",
    "    result = df.groupby([columnName])['pop'].mean() \n",
    "    print(result)"
   ]
  },
  {
   "cell_type": "code",
   "execution_count": 29,
   "id": "d0bca5a6-164f-48e9-bc8f-2d57f11f0771",
   "metadata": {
    "scrolled": true
   },
   "outputs": [
    {
     "name": "stdout",
     "output_type": "stream",
     "text": [
      "year\n",
      "1906    419780.235728\n",
      "1907    431007.322048\n",
      "1908    442081.566145\n",
      "1909    452991.860039\n",
      "1910    463730.610619\n",
      "1911    474331.160626\n",
      "1912    484869.543314\n",
      "1913    495425.891660\n",
      "1914    506080.338675\n",
      "1915    516913.017375\n",
      "1916    528004.060744\n",
      "1917    539433.601787\n",
      "1918    551281.773513\n",
      "1919    563628.708914\n",
      "1920    576542.098624\n",
      "1921    589944.724338\n",
      "1922    603608.247610\n",
      "1923    617289.817180\n",
      "1924    630746.581820\n",
      "1925    643735.690275\n",
      "1926    656014.291294\n",
      "1927    667339.533653\n",
      "1928    677468.566084\n",
      "1929    686158.537372\n",
      "1930    693187.655189\n",
      "1931    698579.388369\n",
      "1932    702612.979399\n",
      "1933    705592.233960\n",
      "1934    707820.957735\n",
      "1935    709602.956396\n",
      "1936    711242.035612\n",
      "1937    713042.001072\n",
      "1938    715306.658449\n",
      "1939    718339.813434\n",
      "1940    722425.580980\n",
      "1941    727618.750327\n",
      "1942    733734.955341\n",
      "1943    740566.862671\n",
      "1944    747907.138937\n",
      "1945    755548.450804\n",
      "1946    763283.464893\n",
      "1947    770904.847844\n",
      "1948    778205.266302\n",
      "Name: pop, dtype: float64\n"
     ]
    }
   ],
   "source": [
    "calcMean('year')"
   ]
  },
  {
   "cell_type": "code",
   "execution_count": 30,
   "id": "65151d6b-9742-4a2c-8c62-7671663daec8",
   "metadata": {
    "scrolled": true
   },
   "outputs": [
    {
     "name": "stdout",
     "output_type": "stream",
     "text": [
      "loc\n",
      "BALTIMORE         7.621327e+05\n",
      "BOSTON            7.497160e+05\n",
      "BRIDGEPORT        1.377390e+05\n",
      "BUFFALO           5.278970e+05\n",
      "CHICAGO           2.993272e+06\n",
      "CINCINNATI        4.262704e+05\n",
      "CLEVELAND         8.011217e+05\n",
      "COLUMBUS          2.650888e+05\n",
      "DENVER            2.828426e+05\n",
      "DETROIT           1.240488e+06\n",
      "DULUTH            9.669747e+04\n",
      "FALL RIVER        1.171931e+05\n",
      "GRAND RAPIDS      1.491154e+05\n",
      "HARTFORD          1.460925e+05\n",
      "INDIANAPOLIS      3.355697e+05\n",
      "KANSAS CITY       2.318232e+05\n",
      "LOS ANGELES       1.010930e+06\n",
      "MILWAUKEE         5.133019e+05\n",
      "MINNEAPOLIS       4.222321e+05\n",
      "NASHVILLE         1.413296e+05\n",
      "NEW HAVEN         1.562809e+05\n",
      "NEW ORLEANS       4.341763e+05\n",
      "NEW YORK          6.376268e+06\n",
      "NEWARK            4.126030e+05\n",
      "PHILADELPHIA      1.841881e+06\n",
      "PITTSBURGH        6.230363e+05\n",
      "PROVIDENCE        2.432906e+05\n",
      "READING.US        1.069126e+05\n",
      "RICHMOND          1.749708e+05\n",
      "ROCHESTER         2.972658e+05\n",
      "SALT LAKE CITY    1.306720e+05\n",
      "SAN FRANCISCO     5.698762e+05\n",
      "SEATTLE           3.345958e+05\n",
      "SPOKANE           1.138130e+05\n",
      "SPRINGFIELD       1.332612e+05\n",
      "ST LOUIS          7.839325e+05\n",
      "TOLEDO            2.529593e+05\n",
      "TRENTON           1.175117e+05\n",
      "WASHINGTON        5.119808e+05\n",
      "WORCESTER         1.817012e+05\n",
      "Name: pop, dtype: float64\n"
     ]
    }
   ],
   "source": [
    "calcMean('loc')"
   ]
  },
  {
   "cell_type": "markdown",
   "id": "fa051e5b-6d4a-43ae-85d8-ea7f33c576e1",
   "metadata": {},
   "source": [
    "Question 2:"
   ]
  },
  {
   "cell_type": "code",
   "execution_count": 3,
   "id": "aa1f1b59-171c-414e-98db-8fe48ed689f2",
   "metadata": {},
   "outputs": [],
   "source": [
    "df2 = pd.read_csv('../data/Singh2015_data.csv')"
   ]
  },
  {
   "cell_type": "code",
   "execution_count": 4,
   "id": "025279c3-ee6b-4f91-b07c-dffc20d5c105",
   "metadata": {},
   "outputs": [
    {
     "data": {
      "text/html": [
       "<div>\n",
       "<style scoped>\n",
       "    .dataframe tbody tr th:only-of-type {\n",
       "        vertical-align: middle;\n",
       "    }\n",
       "\n",
       "    .dataframe tbody tr th {\n",
       "        vertical-align: top;\n",
       "    }\n",
       "\n",
       "    .dataframe thead th {\n",
       "        text-align: right;\n",
       "    }\n",
       "</style>\n",
       "<table border=\"1\" class=\"dataframe\">\n",
       "  <thead>\n",
       "    <tr style=\"text-align: right;\">\n",
       "      <th></th>\n",
       "      <th>Line</th>\n",
       "      <th>InfectionStatus</th>\n",
       "      <th>RecombinantFraction</th>\n",
       "    </tr>\n",
       "  </thead>\n",
       "  <tbody>\n",
       "    <tr>\n",
       "      <th>0</th>\n",
       "      <td>21</td>\n",
       "      <td>I</td>\n",
       "      <td>0.182692</td>\n",
       "    </tr>\n",
       "    <tr>\n",
       "      <th>1</th>\n",
       "      <td>21</td>\n",
       "      <td>I</td>\n",
       "      <td>0.185039</td>\n",
       "    </tr>\n",
       "    <tr>\n",
       "      <th>2</th>\n",
       "      <td>21</td>\n",
       "      <td>I</td>\n",
       "      <td>0.185654</td>\n",
       "    </tr>\n",
       "    <tr>\n",
       "      <th>3</th>\n",
       "      <td>21</td>\n",
       "      <td>I</td>\n",
       "      <td>0.186667</td>\n",
       "    </tr>\n",
       "    <tr>\n",
       "      <th>4</th>\n",
       "      <td>21</td>\n",
       "      <td>I</td>\n",
       "      <td>0.190476</td>\n",
       "    </tr>\n",
       "  </tbody>\n",
       "</table>\n",
       "</div>"
      ],
      "text/plain": [
       "   Line InfectionStatus  RecombinantFraction\n",
       "0    21               I             0.182692\n",
       "1    21               I             0.185039\n",
       "2    21               I             0.185654\n",
       "3    21               I             0.186667\n",
       "4    21               I             0.190476"
      ]
     },
     "execution_count": 4,
     "metadata": {},
     "output_type": "execute_result"
    }
   ],
   "source": [
    "df2.head()"
   ]
  },
  {
   "cell_type": "code",
   "execution_count": 79,
   "id": "a4b6c941-dda7-4d11-a9de-12037d40fa6a",
   "metadata": {},
   "outputs": [
    {
     "name": "stdout",
     "output_type": "stream",
     "text": [
      "Line 21 Average Recombinant Fraction\n",
      "W: 0.17806558009\n",
      "I: 0.1997298710375\n",
      "Line 40 Average Recombinant Fraction\n",
      "W: 0.177911198425\n",
      "I: 0.1801296349\n",
      "Line 45 Average Recombinant Fraction\n",
      "W: 0.18714082895555553\n",
      "I: 0.19119905962499997\n",
      "Line 73 Average Recombinant Fraction\n",
      "W: 0.17857852906\n",
      "I: 0.19948773387500002\n"
     ]
    }
   ],
   "source": [
    "#Create an empty map\n",
    "my_data = {}\n",
    "# iterate through all rows in the df and output a tuple corresponding to the three elements/columns in a row.\n",
    "for row in df2.itertuples(index=False, name=None):\n",
    "    Line, IfS, RF = row[0], row[1], row[2]\n",
    "    # If the Line is not alreay in the map, create a submap containing two keys:[]float for that Line.\n",
    "    if Line not in my_data:\n",
    "        my_data[Line] = {'W':[],'I':[]}\n",
    "    # append the Recombinant Fraction\n",
    "    my_data[Line][IfS].append(RF)\n",
    "\n",
    "# Import numpy for easy average calculation\n",
    "import numpy as np\n",
    "# Iterate through keys in the map.\n",
    "for key in my_data:\n",
    "    print('Line',key, 'Average Recombinant Fraction')\n",
    "    print('W:', np.mean(my_data[key]['W']))\n",
    "    print('I:', np.mean(my_data[key]['I']))\n",
    "    "
   ]
  }
 ],
 "metadata": {
  "kernelspec": {
   "display_name": "Python 3 (ipykernel)",
   "language": "python",
   "name": "python3"
  },
  "language_info": {
   "codemirror_mode": {
    "name": "ipython",
    "version": 3
   },
   "file_extension": ".py",
   "mimetype": "text/x-python",
   "name": "python",
   "nbconvert_exporter": "python",
   "pygments_lexer": "ipython3",
   "version": "3.13.5"
  }
 },
 "nbformat": 4,
 "nbformat_minor": 5
}
