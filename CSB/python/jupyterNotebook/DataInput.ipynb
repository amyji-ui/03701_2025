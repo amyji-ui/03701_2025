{
 "cells": [
  {
   "cell_type": "markdown",
   "id": "52110f44-b2b2-4a1f-9421-0ff29db965c2",
   "metadata": {},
   "source": [
    "# Data Input with Numpy and Pandas"
   ]
  },
  {
   "cell_type": "code",
   "execution_count": 1,
   "id": "973e92c8",
   "metadata": {},
   "outputs": [],
   "source": [
    "# import packages\n",
    "import numpy as np\n",
    "import pandas as pd\n",
    "import os\n",
    "# Note: os is the package for operating system interface. "
   ]
  },
  {
   "cell_type": "code",
   "execution_count": 2,
   "id": "40b32fa5",
   "metadata": {},
   "outputs": [
    {
     "data": {
      "text/plain": [
       "'/Users/jiayiji/CSB/python/jupyterNotebook'"
      ]
     },
     "execution_count": 2,
     "metadata": {},
     "output_type": "execute_result"
    }
   ],
   "source": [
    "# Check the current working directory\n",
    "os.getcwd()"
   ]
  },
  {
   "cell_type": "code",
   "execution_count": 4,
   "id": "df851b15",
   "metadata": {
    "scrolled": true
   },
   "outputs": [
    {
     "data": {
      "text/plain": [
       "['Table 2.8 Waist loss.xls',\n",
       " 'DataInput.ipynb',\n",
       " 'DataDisplay.ipynb',\n",
       " '2_python_functions.ipynb',\n",
       " 'python_Basics_3.ipynb',\n",
       " 'HW3.ipynb',\n",
       " '.ipynb_checkpoints',\n",
       " 'data.txt',\n",
       " 'GettingThingsDone.ipynb',\n",
       " 'Work_with_Numpy_Pandas.ipynb',\n",
       " '2_python_Basics_1.ipynb']"
      ]
     },
     "execution_count": 4,
     "metadata": {},
     "output_type": "execute_result"
    }
   ],
   "source": [
    "# Check the files in the current working directory, make sure that data.txt is in the directory.\n",
    "os.listdir()"
   ]
  },
  {
   "cell_type": "markdown",
   "id": "f291eb16-6fae-47e4-987b-1a47312035fa",
   "metadata": {},
   "source": [
    "## Input and output in Numpy\n",
    "* load data from file\n",
    "    * `np.loadtxt('file', delimiter=',' )`\n",
    "* save data to file\n",
    "    * `np.savetxt('result.txt', data, delimiter=',')`"
   ]
  },
  {
   "cell_type": "code",
   "execution_count": null,
   "id": "35e8521b",
   "metadata": {},
   "outputs": [],
   "source": [
    "# Load data.txt with Numpy\n"
   ]
  },
  {
   "cell_type": "code",
   "execution_count": null,
   "id": "d71a81f7-946d-4355-82b0-42d2f6880f8b",
   "metadata": {},
   "outputs": [],
   "source": [
    "# Make a new matrix\n"
   ]
  },
  {
   "cell_type": "code",
   "execution_count": null,
   "id": "d2d29995-60f9-4da7-b065-080c4ce07287",
   "metadata": {},
   "outputs": [],
   "source": [
    "# Save it to file matrix_data\n"
   ]
  },
  {
   "cell_type": "markdown",
   "id": "b8a8ee98-70d4-454f-ae94-281f798732ac",
   "metadata": {},
   "source": [
    "## Input and output in Pandas"
   ]
  },
  {
   "cell_type": "markdown",
   "id": "1fcea341-c180-48a7-a9d2-db042ba4aa56",
   "metadata": {},
   "source": [
    "* Load data from file\n",
    "    * `pd.read_csv('file')`\n",
    "    * `pd.read_excel('file', sheetname='Sheet1')`        \n",
    "      ```python\n",
    "      # directly read into  dataframe\n",
    "      df = pd.read_excel('file', sheetname='Sheet1')\n",
    "      ```\n",
    "    * `pd.ExcelFile('file')`\n",
    "        ```python\n",
    "        # use xls.parse to read into dataframe\n",
    "        xls = pd.read_excel('file', sheetname='Sheet1')\n",
    "        df = xls.parse('Sheet1', skiprows=2)\n",
    "        ```\n",
    "* Save data to file\n",
    "    * `df.to_cvs('output.csv')`\n",
    "    * `df.to_excel('output.xlsx', sheet_name='results')`"
   ]
  },
  {
   "cell_type": "code",
   "execution_count": 2,
   "id": "5a8df87a",
   "metadata": {
    "scrolled": true
   },
   "outputs": [
    {
     "ename": "SyntaxError",
     "evalue": "invalid syntax (593511002.py, line 2)",
     "output_type": "error",
     "traceback": [
      "  \u001b[36mCell\u001b[39m\u001b[36m \u001b[39m\u001b[32mIn[2]\u001b[39m\u001b[32m, line 2\u001b[39m\n\u001b[31m    \u001b[39m\u001b[31mpip install xlrd\u001b[39m\n        ^\n\u001b[31mSyntaxError\u001b[39m\u001b[31m:\u001b[39m invalid syntax\n"
     ]
    }
   ],
   "source": [
    "# Load data.txt with Pandas\n",
    "pip install xlrd"
   ]
  },
  {
   "cell_type": "code",
   "execution_count": null,
   "id": "82771072",
   "metadata": {},
   "outputs": [],
   "source": [
    "# If you don't specify the header\n"
   ]
  },
  {
   "cell_type": "code",
   "execution_count": null,
   "id": "f63d7e03-899b-4ea5-a7b7-6b9b1b872376",
   "metadata": {},
   "outputs": [],
   "source": [
    "# Load Sheet1 from \"Table 2.8 Waist loss.xls\"\n"
   ]
  },
  {
   "cell_type": "code",
   "execution_count": null,
   "id": "c03fa941",
   "metadata": {},
   "outputs": [],
   "source": [
    "# Input from Excel\n"
   ]
  },
  {
   "cell_type": "code",
   "execution_count": null,
   "id": "7be8ba3a-8e10-4aa6-9c61-4c042b7df653",
   "metadata": {},
   "outputs": [],
   "source": [
    "# Save df1 to csv\n"
   ]
  },
  {
   "cell_type": "code",
   "execution_count": null,
   "id": "ab83af20-d3f9-4910-b5e6-3bd1474ab533",
   "metadata": {},
   "outputs": [],
   "source": [
    "# Save df to excel\n"
   ]
  }
 ],
 "metadata": {
  "kernelspec": {
   "display_name": "Python 3 (ipykernel)",
   "language": "python",
   "name": "python3"
  },
  "language_info": {
   "codemirror_mode": {
    "name": "ipython",
    "version": 3
   },
   "file_extension": ".py",
   "mimetype": "text/x-python",
   "name": "python",
   "nbconvert_exporter": "python",
   "pygments_lexer": "ipython3",
   "version": "3.12.4"
  }
 },
 "nbformat": 4,
 "nbformat_minor": 5
}
