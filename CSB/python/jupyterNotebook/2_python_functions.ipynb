{
 "cells": [
  {
   "cell_type": "markdown",
   "id": "7c518273-521c-4acf-9c16-ef8e7d0e7dd4",
   "metadata": {},
   "source": [
    "# Python Basics\n",
    "## Part 4"
   ]
  },
  {
   "cell_type": "markdown",
   "id": "3f2ee807",
   "metadata": {},
   "source": [
    "## Functions\n",
    "* start with __def__\n",
    "* followed by the __name of the function__.\n",
    "* In parentheses, list the __inputs of the function__\n",
    "* The colon sign \"__:__\".\n",
    "* All the code belonging to the functions is __indented__.\n",
    "* If the function returns an output, preceded by __return__. "
   ]
  },
  {
   "cell_type": "code",
   "execution_count": null,
   "id": "4c7850e4",
   "metadata": {},
   "outputs": [],
   "source": [
    "# Write a function:\n",
    "# function name: GCcontent\n",
    "# input: single argument called dna\n",
    "# This function counts the occurrences of each nucleotide and calculate (G+C)/(A+T+G+C)\n",
    "# output: the GC content of the input sequence.\n"
   ]
  },
  {
   "cell_type": "markdown",
   "id": "3a3b097b-9a09-4ff1-8fa2-f07d9dd52d94",
   "metadata": {},
   "source": [
    "#### Use __whos__ to check the loaded variables, functions and modules in your current seesion:"
   ]
  },
  {
   "cell_type": "code",
   "execution_count": null,
   "id": "4d027a15",
   "metadata": {},
   "outputs": [],
   "source": []
  },
  {
   "cell_type": "code",
   "execution_count": null,
   "id": "39cb4150",
   "metadata": {},
   "outputs": [],
   "source": [
    "# Use this function to calculat GC content of \"AATTTCCCGGGAAA\"\n"
   ]
  },
  {
   "cell_type": "code",
   "execution_count": null,
   "id": "a5b771b0",
   "metadata": {},
   "outputs": [],
   "source": [
    "# Use this function to calculat GC content of \"ATGCATGCATGC\"\n"
   ]
  },
  {
   "cell_type": "code",
   "execution_count": null,
   "id": "82986aba",
   "metadata": {},
   "outputs": [],
   "source": [
    "# Write a function for printing a key and value pairs in a dictionary\n",
    "# function name\n",
    "# input\n",
    "# what does this function do --> print key and value in a dictionary\n",
    "# output --> nothing to \"return\"\n"
   ]
  },
  {
   "cell_type": "code",
   "execution_count": null,
   "id": "e39e39b7",
   "metadata": {},
   "outputs": [],
   "source": []
  },
  {
   "cell_type": "code",
   "execution_count": null,
   "id": "aa83ac9f",
   "metadata": {},
   "outputs": [],
   "source": [
    "# Use this function to print the key:value pairs in {\"a\":3.4, \"b\":[1,2,3,4],\"c\":\"astring\"}\n"
   ]
  },
  {
   "cell_type": "markdown",
   "id": "c4797d5b-0e53-4ab8-83d8-ad87a991a33d",
   "metadata": {},
   "source": [
    "* You can declare default arguments: if no input is provided. "
   ]
  },
  {
   "cell_type": "code",
   "execution_count": null,
   "id": "ddc856a5",
   "metadata": {},
   "outputs": [],
   "source": [
    "# Write a function to calculate the squared values of each elements in the input list and return a list with results\n",
    "# declare default arguments: if no input is provided, \n",
    "# assume start = 1, end = 10\n"
   ]
  },
  {
   "cell_type": "code",
   "execution_count": null,
   "id": "1bc6477c",
   "metadata": {},
   "outputs": [],
   "source": []
  },
  {
   "cell_type": "code",
   "execution_count": null,
   "id": "4c7e21e0",
   "metadata": {},
   "outputs": [],
   "source": [
    "# specify both start and end\n"
   ]
  },
  {
   "cell_type": "code",
   "execution_count": null,
   "id": "a785f67a",
   "metadata": {},
   "outputs": [],
   "source": [
    "# specify only start, end has default value 10\n"
   ]
  },
  {
   "cell_type": "code",
   "execution_count": null,
   "id": "5deb31ed",
   "metadata": {},
   "outputs": [],
   "source": [
    "# specify only end, start has default value 1\n"
   ]
  },
  {
   "cell_type": "code",
   "execution_count": null,
   "id": "bf95ba02",
   "metadata": {},
   "outputs": [],
   "source": [
    "# start has default value 1, end is 10\n"
   ]
  },
  {
   "cell_type": "code",
   "execution_count": null,
   "id": "c9f8ad7c",
   "metadata": {},
   "outputs": [],
   "source": []
  },
  {
   "cell_type": "code",
   "execution_count": null,
   "id": "48efb08e-4e9e-4f66-a251-a4d7dad626ed",
   "metadata": {},
   "outputs": [],
   "source": []
  },
  {
   "cell_type": "code",
   "execution_count": null,
   "id": "26a245cf-e357-45ec-afe2-f455ca9a1347",
   "metadata": {},
   "outputs": [],
   "source": []
  }
 ],
 "metadata": {
  "kernelspec": {
   "display_name": "Python 3 (ipykernel)",
   "language": "python",
   "name": "python3"
  },
  "language_info": {
   "codemirror_mode": {
    "name": "ipython",
    "version": 3
   },
   "file_extension": ".py",
   "mimetype": "text/x-python",
   "name": "python",
   "nbconvert_exporter": "python",
   "pygments_lexer": "ipython3",
   "version": "3.12.4"
  }
 },
 "nbformat": 4,
 "nbformat_minor": 5
}
