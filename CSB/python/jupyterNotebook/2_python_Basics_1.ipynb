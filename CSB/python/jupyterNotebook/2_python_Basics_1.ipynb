{
 "cells": [
  {
   "cell_type": "markdown",
   "id": "55ea5b9e",
   "metadata": {},
   "source": [
    "# Python Basics \n",
    "## Part 1. Simple Calculations with Basic Data Types"
   ]
  },
  {
   "cell_type": "code",
   "execution_count": 1,
   "id": "a0403256",
   "metadata": {},
   "outputs": [
    {
     "data": {
      "text/plain": [
       "4"
      ]
     },
     "execution_count": 1,
     "metadata": {},
     "output_type": "execute_result"
    }
   ],
   "source": [
    "# addition\n",
    "2 + 2"
   ]
  },
  {
   "cell_type": "code",
   "execution_count": 2,
   "id": "9208256c",
   "metadata": {
    "scrolled": true
   },
   "outputs": [
    {
     "data": {
      "text/plain": [
       "4"
      ]
     },
     "execution_count": 2,
     "metadata": {},
     "output_type": "execute_result"
    }
   ],
   "source": [
    "# multiplication\n",
    "2 * 2"
   ]
  },
  {
   "cell_type": "code",
   "execution_count": 3,
   "id": "532c289b",
   "metadata": {},
   "outputs": [
    {
     "data": {
      "text/plain": [
       "1.5"
      ]
     },
     "execution_count": 3,
     "metadata": {},
     "output_type": "execute_result"
    }
   ],
   "source": [
    "# division\n",
    "3 / 2"
   ]
  },
  {
   "cell_type": "code",
   "execution_count": 4,
   "id": "f8ee24e3",
   "metadata": {},
   "outputs": [
    {
     "data": {
      "text/plain": [
       "1"
      ]
     },
     "execution_count": 4,
     "metadata": {},
     "output_type": "execute_result"
    }
   ],
   "source": [
    "# integer division\n",
    "3 // 2"
   ]
  },
  {
   "cell_type": "markdown",
   "id": "52097cd6",
   "metadata": {},
   "source": [
    "### Logical operators return a Boolean value"
   ]
  },
  {
   "cell_type": "code",
   "execution_count": 5,
   "id": "a24729ef",
   "metadata": {},
   "outputs": [
    {
     "data": {
      "text/plain": [
       "False"
      ]
     },
     "execution_count": 5,
     "metadata": {},
     "output_type": "execute_result"
    }
   ],
   "source": [
    "# bigger than, smaller than\n",
    "2 > 3"
   ]
  },
  {
   "cell_type": "code",
   "execution_count": 6,
   "id": "4e461bf2",
   "metadata": {},
   "outputs": [
    {
     "data": {
      "text/plain": [
       "True"
      ]
     },
     "execution_count": 6,
     "metadata": {},
     "output_type": "execute_result"
    }
   ],
   "source": [
    "# equals\n",
    "2 == 2"
   ]
  },
  {
   "cell_type": "code",
   "execution_count": 7,
   "id": "4606695b",
   "metadata": {},
   "outputs": [
    {
     "data": {
      "text/plain": [
       "True"
      ]
     },
     "execution_count": 7,
     "metadata": {},
     "output_type": "execute_result"
    }
   ],
   "source": [
    "# is different\n",
    "2 != 4"
   ]
  },
  {
   "cell_type": "markdown",
   "id": "5fdebd28",
   "metadata": {},
   "source": [
    "### You can use either single or double quotation marks to define strings in Pyhon"
   ]
  },
  {
   "cell_type": "code",
   "execution_count": 8,
   "id": "dea35101",
   "metadata": {},
   "outputs": [
    {
     "data": {
      "text/plain": [
       "'This is a string'"
      ]
     },
     "execution_count": 8,
     "metadata": {},
     "output_type": "execute_result"
    }
   ],
   "source": [
    "# quotes define strings\n",
    "\"This is a string\""
   ]
  },
  {
   "cell_type": "code",
   "execution_count": 9,
   "id": "2ff578e4",
   "metadata": {},
   "outputs": [
    {
     "data": {
      "text/plain": [
       "\"The tree is 6'2 high. \""
      ]
     },
     "execution_count": 9,
     "metadata": {},
     "output_type": "execute_result"
    }
   ],
   "source": [
    "# You may even use triple quotes if your string already contains single and double quotes\n",
    "\"\"\"The tree is 6'2 high. \"\"\""
   ]
  },
  {
   "cell_type": "markdown",
   "id": "462df5d3",
   "metadata": {},
   "source": [
    "### Different operators have different precedence\n",
    "\n",
    "For example: 2*3^3"
   ]
  },
  {
   "cell_type": "code",
   "execution_count": 10,
   "id": "ad347a23",
   "metadata": {},
   "outputs": [
    {
     "data": {
      "text/plain": [
       "54"
      ]
     },
     "execution_count": 10,
     "metadata": {},
     "output_type": "execute_result"
    }
   ],
   "source": [
    "# here ** is the operator for exponentiation\n",
    "2 * 3 ** 3"
   ]
  },
  {
   "cell_type": "code",
   "execution_count": 1,
   "id": "1fbe39ad",
   "metadata": {},
   "outputs": [
    {
     "data": {
      "text/plain": [
       "216"
      ]
     },
     "execution_count": 1,
     "metadata": {},
     "output_type": "execute_result"
    }
   ],
   "source": [
    "# use ( ) to define the order of operators\n",
    "(2 * 3) ** 3"
   ]
  },
  {
   "cell_type": "code",
   "execution_count": 2,
   "id": "8ab92019",
   "metadata": {},
   "outputs": [
    {
     "data": {
      "text/plain": [
       "1"
      ]
     },
     "execution_count": 2,
     "metadata": {},
     "output_type": "execute_result"
    }
   ],
   "source": [
    "# % Modulo (remainder of integer division)\n",
    "15 % 7"
   ]
  },
  {
   "cell_type": "markdown",
   "id": "c6e15f2f",
   "metadata": {},
   "source": [
    "### Variable Assignment\n",
    "* To create a new variable: x = 25, my_var = 67\n",
    "* Note that in python, = is used for assign a value to a variable, while == is the equlity sign"
   ]
  },
  {
   "cell_type": "code",
   "execution_count": 4,
   "id": "850f0eec",
   "metadata": {},
   "outputs": [],
   "source": [
    "# assign value 5 to variable x\n",
    "x = 5"
   ]
  },
  {
   "cell_type": "code",
   "execution_count": 5,
   "id": "432840a9",
   "metadata": {},
   "outputs": [
    {
     "data": {
      "text/plain": [
       "5"
      ]
     },
     "execution_count": 5,
     "metadata": {},
     "output_type": "execute_result"
    }
   ],
   "source": [
    "# display x\n",
    "x"
   ]
  },
  {
   "cell_type": "code",
   "execution_count": 6,
   "id": "652f8855",
   "metadata": {},
   "outputs": [],
   "source": [
    "# assign value 67 to my_var\n",
    "my_var = 67"
   ]
  },
  {
   "cell_type": "code",
   "execution_count": 7,
   "id": "c131b045",
   "metadata": {},
   "outputs": [
    {
     "data": {
      "text/plain": [
       "67"
      ]
     },
     "execution_count": 7,
     "metadata": {},
     "output_type": "execute_result"
    }
   ],
   "source": [
    "# try type my_v then press the tab key\n",
    "my_var"
   ]
  },
  {
   "cell_type": "code",
   "execution_count": 8,
   "id": "cb4cf56b",
   "metadata": {},
   "outputs": [
    {
     "data": {
      "text/plain": [
       "72"
      ]
     },
     "execution_count": 8,
     "metadata": {},
     "output_type": "execute_result"
    }
   ],
   "source": [
    "# Once you have defined a variable, you can use it to perform operations.\n",
    "x + my_var"
   ]
  },
  {
   "cell_type": "code",
   "execution_count": 9,
   "id": "fe6e39f6",
   "metadata": {},
   "outputs": [
    {
     "data": {
      "text/plain": [
       "8"
      ]
     },
     "execution_count": 9,
     "metadata": {},
     "output_type": "execute_result"
    }
   ],
   "source": [
    "# assign a string\n",
    "x = 8\n",
    "x"
   ]
  },
  {
   "cell_type": "code",
   "execution_count": 17,
   "id": "716c5dbf",
   "metadata": {},
   "outputs": [
    {
     "data": {
      "text/plain": [
       "'this is a string'"
      ]
     },
     "execution_count": 17,
     "metadata": {},
     "output_type": "execute_result"
    }
   ],
   "source": [
    "# concatenate two strings\n",
    "s = \"this is a \"\n",
    "g = \"string\"\n",
    "Sg = s + g\n",
    "Sg\n"
   ]
  },
  {
   "cell_type": "markdown",
   "id": "7fb62eb2",
   "metadata": {},
   "source": [
    "### We cannot perform operations on variables that have different types:"
   ]
  },
  {
   "cell_type": "code",
   "execution_count": null,
   "id": "f6890778",
   "metadata": {},
   "outputs": [],
   "source": []
  },
  {
   "cell_type": "markdown",
   "id": "6ed3098e",
   "metadata": {},
   "source": [
    "### We can convert one data type into another using int( )-to integer, str( )-to string, float( )-to floating-point number"
   ]
  },
  {
   "cell_type": "code",
   "execution_count": null,
   "id": "c341197a",
   "metadata": {},
   "outputs": [],
   "source": []
  },
  {
   "cell_type": "markdown",
   "id": "378a6ed1",
   "metadata": {},
   "source": [
    "### You can assign different data types to the same variable within your program"
   ]
  },
  {
   "cell_type": "code",
   "execution_count": null,
   "id": "425e3983",
   "metadata": {},
   "outputs": [],
   "source": []
  },
  {
   "cell_type": "markdown",
   "id": "34131642",
   "metadata": {},
   "source": [
    "### You can use the type funtion to determine the type of a variable"
   ]
  },
  {
   "cell_type": "code",
   "execution_count": 24,
   "id": "f888552e",
   "metadata": {},
   "outputs": [],
   "source": [
    "# determine data type for x"
   ]
  },
  {
   "cell_type": "code",
   "execution_count": 25,
   "id": "26ef7e15",
   "metadata": {},
   "outputs": [],
   "source": [
    "# This overwrites the previous varable assignment to x"
   ]
  },
  {
   "cell_type": "markdown",
   "id": "208f7505",
   "metadata": {},
   "source": [
    "### Built-In functions"
   ]
  },
  {
   "cell_type": "code",
   "execution_count": 26,
   "id": "7e634305",
   "metadata": {},
   "outputs": [],
   "source": [
    "# You want to determine the lenght of the string stored in variable s:\n",
    "\n",
    "# returns the length of the variable specified within the parentheses. "
   ]
  },
  {
   "cell_type": "code",
   "execution_count": 27,
   "id": "7ec09907",
   "metadata": {},
   "outputs": [],
   "source": [
    "# absolute value"
   ]
  },
  {
   "cell_type": "code",
   "execution_count": 28,
   "id": "b699efcd",
   "metadata": {},
   "outputs": [],
   "source": [
    "# 3^6"
   ]
  },
  {
   "cell_type": "code",
   "execution_count": 29,
   "id": "90fbd7f9",
   "metadata": {},
   "outputs": [],
   "source": [
    "# print value of variable s"
   ]
  },
  {
   "cell_type": "code",
   "execution_count": 30,
   "id": "ab9c28ae",
   "metadata": {},
   "outputs": [],
   "source": [
    "# round to 3 digits"
   ]
  },
  {
   "cell_type": "markdown",
   "id": "15321808",
   "metadata": {},
   "source": [
    "### Get help for built-in functions"
   ]
  },
  {
   "cell_type": "code",
   "execution_count": 43,
   "id": "e2e2eddd",
   "metadata": {},
   "outputs": [
    {
     "name": "stdout",
     "output_type": "stream",
     "text": [
      "Help on built-in function round in module builtins:\n",
      "\n",
      "round(number, ndigits=None)\n",
      "    Round a number to a given precision in decimal digits.\n",
      "    \n",
      "    The return value is an integer if ndigits is omitted or None.  Otherwise\n",
      "    the return value has the same type as the number.  ndigits may be negative.\n",
      "\n"
     ]
    }
   ],
   "source": [
    "help(round)"
   ]
  },
  {
   "cell_type": "markdown",
   "id": "429c616e",
   "metadata": {},
   "source": [
    "### Strings"
   ]
  },
  {
   "cell_type": "code",
   "execution_count": 31,
   "id": "cf827c4e",
   "metadata": {},
   "outputs": [],
   "source": [
    "# Strings\n",
    "\n",
    "# return the length of the string\n"
   ]
  },
  {
   "cell_type": "markdown",
   "id": "9b95bb81",
   "metadata": {},
   "source": [
    "### Python is object oriented. Each variable is an object that contain both the data and useful methods to manoipulate the data. \n",
    "* For example: astring = \"ATCG ATCG\", commend astring.split( ) --> apply the method split on data \"ATCG\"\n",
    "* Press Tab after dot to list methods"
   ]
  },
  {
   "cell_type": "code",
   "execution_count": 32,
   "id": "e134e972",
   "metadata": {},
   "outputs": [],
   "source": [
    "# you can access all the methods accociated with an object by \n",
    "# typing the name of the object followed by a dot and pressing Tab\n"
   ]
  },
  {
   "cell_type": "code",
   "execution_count": 33,
   "id": "3283ae5c",
   "metadata": {},
   "outputs": [],
   "source": [
    "# replace characters\n"
   ]
  },
  {
   "cell_type": "code",
   "execution_count": 34,
   "id": "9483e3ea",
   "metadata": {},
   "outputs": [],
   "source": [
    "# position of first occurrence\n"
   ]
  },
  {
   "cell_type": "code",
   "execution_count": 35,
   "id": "961bdb96",
   "metadata": {},
   "outputs": [],
   "source": [
    "#count occurrences\n"
   ]
  },
  {
   "cell_type": "code",
   "execution_count": 37,
   "id": "f55bc004",
   "metadata": {},
   "outputs": [],
   "source": [
    "\n",
    "# split the string (using spaces by default)\n"
   ]
  },
  {
   "cell_type": "code",
   "execution_count": 38,
   "id": "26f4ca1e",
   "metadata": {},
   "outputs": [],
   "source": [
    "# specify how to split\n"
   ]
  },
  {
   "cell_type": "code",
   "execution_count": 39,
   "id": "08ece3e9",
   "metadata": {},
   "outputs": [],
   "source": [
    "# remove leading and trailing white space\n"
   ]
  },
  {
   "cell_type": "markdown",
   "id": "d65fdd35",
   "metadata": {},
   "source": [
    "#### It is possible to use string methods without first assigning the string to a variable. Simply define the string using quotation marks, followed by a dot and the name of the method:"
   ]
  },
  {
   "cell_type": "code",
   "execution_count": 40,
   "id": "3a7dfdb8",
   "metadata": {},
   "outputs": [],
   "source": [
    "# It is possible to use string methods without first assigning the string to a variable. Simply define the string using quotation marks, followed by a dot and the name of the method:\n",
    "# make uppercase\n"
   ]
  },
  {
   "cell_type": "code",
   "execution_count": 41,
   "id": "83d42663",
   "metadata": {},
   "outputs": [],
   "source": [
    "# make lowercase\n"
   ]
  },
  {
   "cell_type": "code",
   "execution_count": 43,
   "id": "a843089c",
   "metadata": {},
   "outputs": [],
   "source": [
    "# To concatenate strings, you can use the plus sign:\n",
    "\n",
    "# separate with a space\n"
   ]
  },
  {
   "cell_type": "code",
   "execution_count": 44,
   "id": "6bcbf550",
   "metadata": {},
   "outputs": [],
   "source": [
    "# We can use the method join instead\n",
    "# join requires a list of strings as input\n"
   ]
  },
  {
   "cell_type": "code",
   "execution_count": 45,
   "id": "bb82d4e2",
   "metadata": {},
   "outputs": [],
   "source": [
    "# specify any symbol as delimiter\n"
   ]
  },
  {
   "cell_type": "code",
   "execution_count": 46,
   "id": "d18bb9f3",
   "metadata": {},
   "outputs": [],
   "source": [
    "# Be careful not to confuse built-in functions with object-specific methods:\n",
    "\n",
    "# call the built-in function \"print\" on a string\n"
   ]
  },
  {
   "cell_type": "code",
   "execution_count": 47,
   "id": "4c26a2d9",
   "metadata": {},
   "outputs": [],
   "source": [
    "# if we try this\n"
   ]
  },
  {
   "cell_type": "markdown",
   "id": "c2b34b9f",
   "metadata": {},
   "source": [
    "## Part 2. Data Structures\n",
    "### Lists: an ordered collection of values. \n",
    " * Values are surrounded by a pair of square brackers, seperated by commas\n",
    " * To access the element of a list, use the index of the element. \n",
    " * Note that Python starts indexing at 0."
   ]
  },
  {
   "cell_type": "code",
   "execution_count": 48,
   "id": "d515a132",
   "metadata": {},
   "outputs": [],
   "source": [
    "# created an empty list\n",
    "# specify values\n",
    "# using the list function)"
   ]
  },
  {
   "cell_type": "code",
   "execution_count": 50,
   "id": "4c306237",
   "metadata": {},
   "outputs": [],
   "source": [
    "# when you try to access a nonexistent element, you will get an error:"
   ]
  },
  {
   "cell_type": "code",
   "execution_count": 98,
   "id": "367bda07",
   "metadata": {},
   "outputs": [],
   "source": [
    "# We can also use index notation to update a value:"
   ]
  },
  {
   "cell_type": "code",
   "execution_count": 51,
   "id": "2b6ec65c",
   "metadata": {},
   "outputs": [],
   "source": [
    "# you can access sequential elements by using the colon(:) operator. \n"
   ]
  },
  {
   "cell_type": "code",
   "execution_count": 52,
   "id": "e80eec09",
   "metadata": {},
   "outputs": [],
   "source": [
    "# elements 0 to 1 (noninclusive)"
   ]
  },
  {
   "cell_type": "code",
   "execution_count": 53,
   "id": "7da3ec52",
   "metadata": {},
   "outputs": [],
   "source": [
    "# elements 1 to 3 (noninclusive)"
   ]
  },
  {
   "cell_type": "code",
   "execution_count": 54,
   "id": "9f463c23",
   "metadata": {},
   "outputs": [],
   "source": [
    "# take the whole list"
   ]
  },
  {
   "cell_type": "code",
   "execution_count": 55,
   "id": "b131193c",
   "metadata": {},
   "outputs": [],
   "source": [
    "# from start to element 3"
   ]
  },
  {
   "cell_type": "code",
   "execution_count": 56,
   "id": "3e709311",
   "metadata": {},
   "outputs": [],
   "source": [
    "# from element 3 to the end"
   ]
  },
  {
   "cell_type": "code",
   "execution_count": 57,
   "id": "47b3b5a4",
   "metadata": {},
   "outputs": [],
   "source": [
    "# You can use negative numbers to index from the end:\n"
   ]
  },
  {
   "cell_type": "markdown",
   "id": "a9933a76",
   "metadata": {},
   "source": [
    "### These are the most useful methods for lists:"
   ]
  },
  {
   "cell_type": "code",
   "execution_count": 58,
   "id": "7bd3ef0e",
   "metadata": {},
   "outputs": [],
   "source": [
    "# append\n"
   ]
  },
  {
   "cell_type": "code",
   "execution_count": 59,
   "id": "014fa1a0",
   "metadata": {},
   "outputs": [],
   "source": [
    "# copy\n"
   ]
  },
  {
   "cell_type": "code",
   "execution_count": 60,
   "id": "800db989",
   "metadata": {},
   "outputs": [],
   "source": [
    "# clear\n"
   ]
  },
  {
   "cell_type": "code",
   "execution_count": 61,
   "id": "1606f2b9",
   "metadata": {},
   "outputs": [],
   "source": [
    "# count\n"
   ]
  },
  {
   "cell_type": "code",
   "execution_count": 62,
   "id": "3e9ffebe",
   "metadata": {},
   "outputs": [],
   "source": [
    "#index\n"
   ]
  },
  {
   "cell_type": "code",
   "execution_count": 63,
   "id": "c49a1b0d",
   "metadata": {},
   "outputs": [],
   "source": [
    "# pop\n"
   ]
  },
  {
   "cell_type": "code",
   "execution_count": 64,
   "id": "388a9101",
   "metadata": {},
   "outputs": [],
   "source": [
    "# sort\n"
   ]
  },
  {
   "cell_type": "code",
   "execution_count": 65,
   "id": "2965cbff",
   "metadata": {},
   "outputs": [],
   "source": [
    "# reverst\n"
   ]
  },
  {
   "cell_type": "code",
   "execution_count": 66,
   "id": "20e3783b",
   "metadata": {},
   "outputs": [],
   "source": [
    "# To delete an element from a list\n"
   ]
  }
 ],
 "metadata": {
  "kernelspec": {
   "display_name": "Python 3 (ipykernel)",
   "language": "python",
   "name": "python3"
  },
  "language_info": {
   "codemirror_mode": {
    "name": "ipython",
    "version": 3
   },
   "file_extension": ".py",
   "mimetype": "text/x-python",
   "name": "python",
   "nbconvert_exporter": "python",
   "pygments_lexer": "ipython3",
   "version": "3.12.4"
  }
 },
 "nbformat": 4,
 "nbformat_minor": 5
}
