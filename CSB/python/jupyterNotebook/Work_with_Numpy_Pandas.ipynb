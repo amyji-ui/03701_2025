{
 "cells": [
  {
   "cell_type": "markdown",
   "id": "1934a743-5e20-473a-adff-c891c2c9cb95",
   "metadata": {},
   "source": [
    "# Python Basics \n",
    "## Part 5. Work with Numpy and Pandas"
   ]
  },
  {
   "cell_type": "markdown",
   "id": "63224f96",
   "metadata": {},
   "source": [
    "## Work with Numpy"
   ]
  },
  {
   "cell_type": "markdown",
   "id": "d639faed",
   "metadata": {},
   "source": [
    "#### Import Numpy"
   ]
  },
  {
   "cell_type": "code",
   "execution_count": null,
   "id": "667cf858",
   "metadata": {},
   "outputs": [],
   "source": []
  },
  {
   "cell_type": "markdown",
   "id": "7ccf2a29",
   "metadata": {},
   "source": [
    "#### The main data structure provided by Numpy is called array, and is meant to contain \n",
    "* numerical vectors(1-d arrays)\n",
    "* matrices (2-d arrays)\n",
    "* tensors (n-d arrays). "
   ]
  },
  {
   "cell_type": "code",
   "execution_count": null,
   "id": "cf8f30a7",
   "metadata": {},
   "outputs": [],
   "source": [
    "# Create an array containing 0-8\n"
   ]
  },
  {
   "cell_type": "code",
   "execution_count": null,
   "id": "4fc88831",
   "metadata": {},
   "outputs": [],
   "source": [
    "# Multiply array by 2\n"
   ]
  },
  {
   "cell_type": "code",
   "execution_count": null,
   "id": "ce0a821e",
   "metadata": {},
   "outputs": [],
   "source": [
    "# Add 2 to elements of array\n"
   ]
  },
  {
   "cell_type": "markdown",
   "id": "f6811568",
   "metadata": {},
   "source": [
    "#### Attributes and functions associated with arrays. \n",
    "* a.shape, a.ndim, a.dtype.name, a.size\n",
    "* a.sum( ), a.mean( ), a.std( ), a.std( ), a.min( ), a.max( )"
   ]
  },
  {
   "cell_type": "code",
   "execution_count": null,
   "id": "9e48888a",
   "metadata": {},
   "outputs": [],
   "source": [
    "# length along each dimension\n"
   ]
  },
  {
   "cell_type": "code",
   "execution_count": null,
   "id": "6511a538",
   "metadata": {},
   "outputs": [],
   "source": [
    "# number of dimensions\n"
   ]
  },
  {
   "cell_type": "code",
   "execution_count": null,
   "id": "4c918805",
   "metadata": {},
   "outputs": [],
   "source": [
    "# data type of content\n"
   ]
  },
  {
   "cell_type": "code",
   "execution_count": null,
   "id": "a8cbea63",
   "metadata": {},
   "outputs": [],
   "source": [
    "# number of elements\n"
   ]
  },
  {
   "cell_type": "code",
   "execution_count": null,
   "id": "e69dba0f",
   "metadata": {},
   "outputs": [],
   "source": [
    "# sum \n"
   ]
  },
  {
   "cell_type": "code",
   "execution_count": null,
   "id": "295ecd54",
   "metadata": {},
   "outputs": [],
   "source": [
    "# mean\n"
   ]
  },
  {
   "cell_type": "code",
   "execution_count": null,
   "id": "f8998eb3",
   "metadata": {},
   "outputs": [],
   "source": [
    "# Standard deviation\n"
   ]
  },
  {
   "cell_type": "code",
   "execution_count": null,
   "id": "b38932a5",
   "metadata": {},
   "outputs": [],
   "source": [
    "# min \n"
   ]
  },
  {
   "cell_type": "code",
   "execution_count": null,
   "id": "060496b6",
   "metadata": {},
   "outputs": [],
   "source": [
    "# max\n"
   ]
  },
  {
   "cell_type": "markdown",
   "id": "a868e45f",
   "metadata": {},
   "source": [
    "#### Numpy library provideds many functions that can be applied to all elememts of the array\n",
    "* For example:   np.sqrt( ), np.exp( )\n"
   ]
  },
  {
   "cell_type": "code",
   "execution_count": null,
   "id": "69558368",
   "metadata": {},
   "outputs": [],
   "source": [
    "# square root\n"
   ]
  },
  {
   "cell_type": "code",
   "execution_count": null,
   "id": "606666f1",
   "metadata": {},
   "outputs": [],
   "source": [
    "# exponentiation\n"
   ]
  },
  {
   "cell_type": "markdown",
   "id": "6e38b06f",
   "metadata": {},
   "source": [
    "#### Multiple ways of creating arrays:"
   ]
  },
  {
   "cell_type": "code",
   "execution_count": null,
   "id": "33d46780",
   "metadata": {},
   "outputs": [],
   "source": [
    "# convert the following list to one-dimensional array: [1, 2, 3, 4]\n",
    "\n",
    "# data type of elements in this array?\n"
   ]
  },
  {
   "cell_type": "code",
   "execution_count": null,
   "id": "23615b1f",
   "metadata": {},
   "outputs": [],
   "source": [
    "# convert the following list to one-dimensional array: [1.0, 2.0, 3.0, 4.0]\n",
    "\n",
    "# data type of elements in this array?\n"
   ]
  },
  {
   "cell_type": "code",
   "execution_count": null,
   "id": "d1e0a8c3",
   "metadata": {},
   "outputs": [],
   "source": [
    "# convert list of lists to two-dimensional array: [[1, 2], [3, 4]]\n"
   ]
  },
  {
   "cell_type": "code",
   "execution_count": null,
   "id": "4af1828f",
   "metadata": {},
   "outputs": [],
   "source": [
    "# create 3X2 array filled with 0.0 (floating-point)\n"
   ]
  },
  {
   "cell_type": "code",
   "execution_count": null,
   "id": "c11a84a7",
   "metadata": {},
   "outputs": [],
   "source": [
    "# create an array containing the integers from 0 to 8 \n",
    "# and arrange it in a 3X3 array\n"
   ]
  },
  {
   "cell_type": "code",
   "execution_count": null,
   "id": "5877834f",
   "metadata": {},
   "outputs": [],
   "source": [
    "# create a 2X3 array with random values\n",
    "# draw from normal distribution \n"
   ]
  },
  {
   "cell_type": "markdown",
   "id": "ba8fba5e",
   "metadata": {},
   "source": [
    "#### Access the elements using indices. \n",
    "* Access a coefficient: a[n]\n",
    "* create a slice: a[n:m]\n",
    "* Access an element in a matrix: m[row, column]"
   ]
  },
  {
   "cell_type": "code",
   "execution_count": null,
   "id": "f39ab8c6",
   "metadata": {},
   "outputs": [],
   "source": [
    "# access the 2 element in array a\n"
   ]
  },
  {
   "cell_type": "code",
   "execution_count": null,
   "id": "7eb46bfe",
   "metadata": {},
   "outputs": [],
   "source": [
    "# access the first 4 elements in a\n"
   ]
  },
  {
   "cell_type": "code",
   "execution_count": null,
   "id": "cba9a5aa",
   "metadata": {},
   "outputs": [],
   "source": [
    "# access the last three elements in a\n"
   ]
  },
  {
   "cell_type": "code",
   "execution_count": null,
   "id": "d3fe2fb5",
   "metadata": {},
   "outputs": [],
   "source": [
    "# You have a matrix m\n"
   ]
  },
  {
   "cell_type": "code",
   "execution_count": null,
   "id": "ab924c04",
   "metadata": {},
   "outputs": [],
   "source": [
    "# from m, extract row: 1-3, column: 2-4 to make a submatrix\n"
   ]
  },
  {
   "cell_type": "code",
   "execution_count": null,
   "id": "98bb9e18",
   "metadata": {},
   "outputs": [],
   "source": [
    "# what is the second row of m?\n"
   ]
  },
  {
   "cell_type": "code",
   "execution_count": null,
   "id": "00095ad8",
   "metadata": {},
   "outputs": [],
   "source": [
    "# what is the second column of m?\n"
   ]
  },
  {
   "cell_type": "markdown",
   "id": "b8c86c17",
   "metadata": {},
   "source": [
    "#### Operate by row and column\n",
    "* axis = 0 \n",
    "* axis = 1 "
   ]
  },
  {
   "cell_type": "code",
   "execution_count": null,
   "id": "68fcc4b3",
   "metadata": {},
   "outputs": [],
   "source": [
    "# sum of whole matrix\n"
   ]
  },
  {
   "cell_type": "code",
   "execution_count": null,
   "id": "fd962a74",
   "metadata": {},
   "outputs": [],
   "source": [
    "# The sum of each row\n"
   ]
  },
  {
   "cell_type": "code",
   "execution_count": null,
   "id": "ae47309b",
   "metadata": {},
   "outputs": [],
   "source": [
    "# The sum of each column\n"
   ]
  },
  {
   "cell_type": "markdown",
   "id": "c9fdfc29",
   "metadata": {},
   "source": [
    "# Working with Pandas"
   ]
  },
  {
   "cell_type": "markdown",
   "id": "823e0b29",
   "metadata": {},
   "source": [
    "#### Import Pandas"
   ]
  },
  {
   "cell_type": "code",
   "execution_count": null,
   "id": "0c87254b",
   "metadata": {},
   "outputs": [],
   "source": [
    "import pandas as pd"
   ]
  },
  {
   "cell_type": "markdown",
   "id": "5c732265-2137-4f67-9396-75bcf8009fdc",
   "metadata": {},
   "source": [
    "### Pandas and DataFrame\n",
    "#### Pandas provides two main data structures:\n",
    "* Series --> to store a one-dimensional array. Data stored in a Series are all of the same type. \n",
    "* DataFrame --> contains data organized in rows and columns, as in a spreadsheet. In a DataFrame, each column can be of a different type. "
   ]
  },
  {
   "cell_type": "markdown",
   "id": "cbbcbee9-6070-477d-a769-9cb81a8e6c21",
   "metadata": {},
   "source": [
    "#### Generate DataFrame\n",
    "* use pd.DataFrame( )\n",
    "* read CSV file into DataFrame"
   ]
  },
  {
   "cell_type": "code",
   "execution_count": null,
   "id": "b939b75c-24ee-443d-951b-ad4be448c43e",
   "metadata": {
    "scrolled": true
   },
   "outputs": [],
   "source": [
    "# create a dataframe with column name: value being \"time\":[1, 2], \"x\":[3, 4] and \"y\":[5, 6]\n"
   ]
  },
  {
   "cell_type": "code",
   "execution_count": null,
   "id": "0f73bed7-34ce-4df2-ac68-fe57bfe9f290",
   "metadata": {},
   "outputs": [],
   "source": [
    "# From dictionary of ndarrays/lists\n",
    "d = {\"one\": [1.0, 2.0, 3.0, 4.0], \"two\": [4.0, 3.0, 2.0, 1.0]}\n",
    "# Create a dataframe from dictionary d\n"
   ]
  },
  {
   "cell_type": "code",
   "execution_count": null,
   "id": "512505f6-1b58-4c99-b369-50a6f849827f",
   "metadata": {
    "scrolled": true
   },
   "outputs": [],
   "source": [
    "# From multiple arrays of data\n",
    "t = np.arange(0, 10, 0.1)\n",
    "x = np.sin(t)\n",
    "y = np.cos(t)\n",
    "# Create a dataframe with column names 'Time', 'x' and 'y', and corresponding values from t, x, and y\n"
   ]
  },
  {
   "cell_type": "markdown",
   "id": "118f4526-328a-48a5-b4d9-b6b8a3824f37",
   "metadata": {},
   "source": [
    "#### In pandas, rows are addressed through indices and columns through their name. You can address a column in two ways:\n",
    "* df.column_name\n",
    "* df['column_name']"
   ]
  },
  {
   "cell_type": "code",
   "execution_count": null,
   "id": "3f668013-1c7b-4586-a83f-ae25239f9f39",
   "metadata": {},
   "outputs": [],
   "source": [
    "# get the column \"Time\" in df\n"
   ]
  },
  {
   "cell_type": "code",
   "execution_count": null,
   "id": "588c73e7-5fdd-4492-b38d-f0b5a2c493b7",
   "metadata": {},
   "outputs": [],
   "source": [
    "# get the column \"Time\" in df using a 2nd method\n"
   ]
  },
  {
   "cell_type": "markdown",
   "id": "cf2a7016-a1de-4fdc-abf0-0055fb4ec987",
   "metadata": {},
   "source": [
    "#### To extract two columns at the same time:\n",
    "* df[ [ 'column1_name', 'column2_name' ] ]"
   ]
  },
  {
   "cell_type": "code",
   "execution_count": null,
   "id": "5707bcbe-ee1c-4226-a342-c9d827cbf063",
   "metadata": {
    "scrolled": true
   },
   "outputs": [],
   "source": [
    "# Extract column \"Time\" and \"y\" from df\n"
   ]
  },
  {
   "cell_type": "code",
   "execution_count": null,
   "id": "64a34016-80f3-451c-a38a-d4e5e880f4a7",
   "metadata": {},
   "outputs": [],
   "source": [
    "# Display the first few rows\n"
   ]
  },
  {
   "cell_type": "code",
   "execution_count": null,
   "id": "305495f2-827a-4322-b0ec-b2f978587c9d",
   "metadata": {},
   "outputs": [],
   "source": [
    "# Display the last few rows\n"
   ]
  },
  {
   "cell_type": "code",
   "execution_count": null,
   "id": "e30e49cb-e0f7-4ed4-94d1-959ec892398d",
   "metadata": {},
   "outputs": [],
   "source": [
    "# Display the first row\n"
   ]
  },
  {
   "cell_type": "code",
   "execution_count": null,
   "id": "f2b57f95-da5e-44ac-93ba-6c7c5a41a135",
   "metadata": {},
   "outputs": [],
   "source": [
    "# Extract rows from 5 to 10\n"
   ]
  },
  {
   "cell_type": "code",
   "execution_count": null,
   "id": "d9de2d55-26af-4d66-8450-09a545d80912",
   "metadata": {},
   "outputs": [],
   "source": [
    "# Extract rows 4:10 from columns 'Time' and 'y' by using column names\n"
   ]
  },
  {
   "cell_type": "code",
   "execution_count": null,
   "id": "3f9fdc23-7c32-4b9a-9c2c-e4f2b8553808",
   "metadata": {},
   "outputs": [],
   "source": [
    "# To extract specific rows 4:10 and columns 'Time' and 'y' by using row/column index \n"
   ]
  },
  {
   "cell_type": "code",
   "execution_count": null,
   "id": "a236eaa2-3e92-4212-bcdb-d0fd3044c629",
   "metadata": {},
   "outputs": [],
   "source": [
    "# To directly access the data, not to the DataFrame\n",
    "\n",
    "# This returns a numpy array"
   ]
  },
  {
   "cell_type": "markdown",
   "id": "28d03ce2",
   "metadata": {},
   "source": [
    "#### Read CSV file into DataFrame\n",
    "* df = pd.read_csv('File_name')"
   ]
  },
  {
   "cell_type": "code",
   "execution_count": null,
   "id": "69454f66",
   "metadata": {},
   "outputs": [],
   "source": [
    "# read Dale2015_data.csv into DataFrame\n"
   ]
  },
  {
   "cell_type": "markdown",
   "id": "e6feb92f",
   "metadata": {},
   "source": [
    "Note: \n",
    "* You can specify the delimiter --> sep=':' , sep=' ' , default sep=','"
   ]
  },
  {
   "cell_type": "code",
   "execution_count": null,
   "id": "19bcf79f",
   "metadata": {
    "scrolled": true
   },
   "outputs": [],
   "source": []
  },
  {
   "cell_type": "markdown",
   "id": "8b91219f",
   "metadata": {},
   "source": [
    "#### Attributes and methods\n",
    "* df.shape --> (# of rows, # of columns)\n",
    "* df.columns --> names of the columns\n",
    "* df.head( ), df.tail( ) --> show the first/last few rows of df"
   ]
  },
  {
   "cell_type": "code",
   "execution_count": null,
   "id": "777d0490",
   "metadata": {},
   "outputs": [],
   "source": [
    "# get the shape of data\n"
   ]
  },
  {
   "cell_type": "code",
   "execution_count": null,
   "id": "9b6f6d73",
   "metadata": {},
   "outputs": [],
   "source": [
    "# get the names of the columns of data\n"
   ]
  },
  {
   "cell_type": "code",
   "execution_count": null,
   "id": "d82f95b0",
   "metadata": {},
   "outputs": [],
   "source": [
    "# print the values in column 'Female_plumage_score'\n"
   ]
  },
  {
   "cell_type": "code",
   "execution_count": null,
   "id": "44a86f2a",
   "metadata": {},
   "outputs": [],
   "source": [
    "# create a new column called 'Sum_scores' with sum of Female_plumage_score and Male_plumage_score\n"
   ]
  },
  {
   "cell_type": "code",
   "execution_count": null,
   "id": "fc6c7d79",
   "metadata": {},
   "outputs": [],
   "source": [
    "# run data.head() to see the result\n"
   ]
  },
  {
   "cell_type": "code",
   "execution_count": null,
   "id": "c620dc4a",
   "metadata": {},
   "outputs": [],
   "source": [
    "# add a column name 'Study' to data with value 1\n"
   ]
  },
  {
   "cell_type": "code",
   "execution_count": null,
   "id": "eebac6f1",
   "metadata": {},
   "outputs": [],
   "source": [
    "# show the last few lines of data\n"
   ]
  },
  {
   "cell_type": "code",
   "execution_count": null,
   "id": "91568487",
   "metadata": {},
   "outputs": [],
   "source": [
    "# use NumPy function to add a cloumn name 'Rnd' of random numbers\n",
    "# data.shape[0] provides the number of rows\n"
   ]
  },
  {
   "cell_type": "code",
   "execution_count": null,
   "id": "86665063-30c1-4d00-a162-9a4e0392cad3",
   "metadata": {},
   "outputs": [],
   "source": []
  },
  {
   "cell_type": "code",
   "execution_count": null,
   "id": "c741b37f",
   "metadata": {},
   "outputs": [],
   "source": [
    "# To remove a single column use: del(df.['column_name'])\n",
    "# now, remove the the column 'Sum_scores' from data\n"
   ]
  },
  {
   "cell_type": "code",
   "execution_count": null,
   "id": "8beb87b5-ce61-4193-869b-64509d139f69",
   "metadata": {},
   "outputs": [],
   "source": []
  },
  {
   "cell_type": "code",
   "execution_count": null,
   "id": "28b81d74",
   "metadata": {},
   "outputs": [],
   "source": [
    "# To remove multiple columns use: data.drop(['col_1, col_2'], axis=1, inplace = True)\n",
    "# now, remove the columns 'Rnd' and 'Study'\n"
   ]
  },
  {
   "cell_type": "code",
   "execution_count": null,
   "id": "9e40e87e-e58e-44a6-8a06-11b35c3e3586",
   "metadata": {},
   "outputs": [],
   "source": [
    "# check the dataframe"
   ]
  },
  {
   "cell_type": "code",
   "execution_count": null,
   "id": "a2b6783b",
   "metadata": {},
   "outputs": [],
   "source": [
    "# select data by column label df['column name']\n",
    "# select first three rows of column 'Scientific_name' in data\n"
   ]
  },
  {
   "cell_type": "code",
   "execution_count": null,
   "id": "983ef2d8",
   "metadata": {},
   "outputs": [],
   "source": [
    "# column names can be specified using a dot df.column_name\n",
    "# use this method to select first three rows of column 'Scientific_name' in data\n"
   ]
  },
  {
   "cell_type": "code",
   "execution_count": null,
   "id": "f5ea61d3",
   "metadata": {},
   "outputs": [],
   "source": [
    "# select rows by index label: df.loc[row_index_label]\n",
    "# select first four rows of columns 'Scientific_name' and 'English_name'\n"
   ]
  },
  {
   "cell_type": "code",
   "execution_count": null,
   "id": "dcf4a6bb",
   "metadata": {},
   "outputs": [],
   "source": [
    "# select rows with Scientific_name Zosterops mouroniensis\n"
   ]
  },
  {
   "cell_type": "code",
   "execution_count": null,
   "id": "01579e46",
   "metadata": {},
   "outputs": [],
   "source": [
    "# select subset by x, y position \n",
    "# select third row, second column\n"
   ]
  },
  {
   "cell_type": "code",
   "execution_count": null,
   "id": "6c527fb9",
   "metadata": {},
   "outputs": [],
   "source": [
    "# filter rows based on their content: df[df['column_name' > n ]]\n",
    "# select rows with Male_plumage_score larger than 65\n"
   ]
  },
  {
   "cell_type": "code",
   "execution_count": null,
   "id": "41044375",
   "metadata": {},
   "outputs": [],
   "source": [
    "# concatenate multiple conditions: df[(df.column_name1 > n ) & (df.column_name2 < m )]\n",
    "# In data, concatenate Male_plumage_score > 70 and Female_plumage_score < 40\n"
   ]
  },
  {
   "cell_type": "code",
   "execution_count": null,
   "id": "f2cd5e15",
   "metadata": {},
   "outputs": [],
   "source": [
    "# take a subset of the data, and separate it from the original data\n"
   ]
  },
  {
   "cell_type": "code",
   "execution_count": null,
   "id": "a4d258c5",
   "metadata": {
    "scrolled": true
   },
   "outputs": [],
   "source": [
    "# sort rows by Male_plumage_score, then by Female_plumage_score\n"
   ]
  },
  {
   "cell_type": "code",
   "execution_count": null,
   "id": "d8b1cfe3",
   "metadata": {},
   "outputs": [],
   "source": [
    "# Unique Male_plumage_score\n"
   ]
  },
  {
   "cell_type": "markdown",
   "id": "ab59d513",
   "metadata": {},
   "source": [
    "#### DataFrame.plot( ) is convenient for quick visualizations"
   ]
  },
  {
   "cell_type": "code",
   "execution_count": null,
   "id": "eb542dff",
   "metadata": {},
   "outputs": [],
   "source": [
    "# df.column_name.hist()\n",
    "# show the histgrame of Male_plumage_score\n"
   ]
  },
  {
   "cell_type": "code",
   "execution_count": null,
   "id": "8d70c119",
   "metadata": {},
   "outputs": [],
   "source": [
    "# df.plot.scatter\n",
    "# In data, plot the scatter plot for x='Male_plumage_score', y='Female_plumage_score'\n"
   ]
  },
  {
   "cell_type": "code",
   "execution_count": null,
   "id": "d0dcad1b",
   "metadata": {},
   "outputs": [],
   "source": [
    "# df[['column_1', 'column_2']].plot.box()\n",
    "# In data, plot the box plot of 'Male_plumage_score' and 'Female_plumage_score'\n"
   ]
  },
  {
   "cell_type": "markdown",
   "id": "b23e6e06-65c5-40f9-92bd-621bad77c6b5",
   "metadata": {},
   "source": [
    "#### Grouping\n",
    "* Use DataFrame to efficiently group objects, and do a statistical evaluation of each group.\n",
    "* df.groupby('column_name')\n",
    "* df.groupby('column_name').get_group('group_name') -> Get the groups as DataFrames"
   ]
  },
  {
   "cell_type": "code",
   "execution_count": null,
   "id": "afe58a64-a8b1-4ac8-b310-3398793d29f5",
   "metadata": {},
   "outputs": [],
   "source": [
    "# Generate a DataFrame\n",
    "data = pd.DataFrame({\n",
    "    'Gender': ['f', 'f', 'm', 'f', 'm',\n",
    "              'm', 'f', 'm', 'f', 'm', 'm'],\n",
    "    'TV': [3.4, 3.5, 2.6, 4.7, 4.1, 4.1, \n",
    "          5.1, 3.9, 3.7, 2.1, 4.3]\n",
    "})"
   ]
  },
  {
   "cell_type": "code",
   "execution_count": null,
   "id": "db6e526d-bbd3-4f26-8020-df2407e04c4d",
   "metadata": {},
   "outputs": [],
   "source": [
    "# Group the data by Gender\n",
    "\n",
    "# Do some overview statistics \n"
   ]
  },
  {
   "cell_type": "code",
   "execution_count": null,
   "id": "c970c867-efd5-46dd-82e2-525f3188ed2c",
   "metadata": {},
   "outputs": [],
   "source": [
    "# Plot the data:\n"
   ]
  },
  {
   "cell_type": "code",
   "execution_count": null,
   "id": "55943e53-e8f0-4253-bb0e-e6c73cb2a5e3",
   "metadata": {},
   "outputs": [],
   "source": [
    "# Get the groups as DataFrames\n"
   ]
  },
  {
   "cell_type": "code",
   "execution_count": null,
   "id": "a628442d-5f6b-45ab-9a57-dde045be454d",
   "metadata": {},
   "outputs": [],
   "source": [
    "# Get the corresponding nmypy-array\n"
   ]
  },
  {
   "cell_type": "markdown",
   "id": "e02aa4ca-b9b8-4453-83b2-fa934669a157",
   "metadata": {},
   "source": [
    "### Exercise"
   ]
  },
  {
   "cell_type": "markdown",
   "id": "f8c9b0df-fa32-4ffc-894c-f619f01fd276",
   "metadata": {},
   "source": [
    "#### 1. Read CSV file Gachter2016_data.csv into DataFrame"
   ]
  },
  {
   "cell_type": "code",
   "execution_count": null,
   "id": "8240fde2-3b7d-427d-856f-298f3e9d1bfd",
   "metadata": {},
   "outputs": [],
   "source": [
    "# Read data Gachter2016_data.csv\n"
   ]
  },
  {
   "cell_type": "markdown",
   "id": "4ce4818f-30fa-4578-9f14-54ab60bed7ca",
   "metadata": {},
   "source": [
    "#### 2. Use .head() to see the structure of the data"
   ]
  },
  {
   "cell_type": "code",
   "execution_count": null,
   "id": "27a2045e-d0d8-40c0-b750-afd81d4b03f4",
   "metadata": {},
   "outputs": [],
   "source": [
    "# See the structure\n"
   ]
  },
  {
   "cell_type": "markdown",
   "id": "7c3f5280-31f9-4675-8635-0d7cd47acc7f",
   "metadata": {},
   "source": [
    "#### 3. Extract data for Claim == 0 and copy the dataFrame to a new dataFrame"
   ]
  },
  {
   "cell_type": "code",
   "execution_count": null,
   "id": "161fc321-0980-4d40-85bf-4cc5884ee2f3",
   "metadata": {},
   "outputs": [],
   "source": [
    "# Extract data for Claim ==0 and copy the dataFrame\n"
   ]
  },
  {
   "cell_type": "markdown",
   "id": "96ba7d0d-6730-46cc-863e-c2c6ba6ee176",
   "metadata": {},
   "source": [
    "#### 4. From data extreact for Claim == 0, print the row showing the country with the highest Cumulativefrequency "
   ]
  },
  {
   "cell_type": "code",
   "execution_count": null,
   "id": "57c552ce-4f8b-4723-b3d1-f8efc4064031",
   "metadata": {},
   "outputs": [],
   "source": [
    "# Country with the highest frequency of 0s\n"
   ]
  },
  {
   "cell_type": "markdown",
   "id": "2bed8f07-8795-44e6-ac1f-7c1182720c1e",
   "metadata": {},
   "source": [
    "#### 5. Extract the data for Claim == 4 and copy the DataFrame to generate a new DataFrame"
   ]
  },
  {
   "cell_type": "code",
   "execution_count": null,
   "id": "a28c4d73-8ad4-405f-bb8b-bc8ce757d836",
   "metadata": {},
   "outputs": [],
   "source": [
    "# extract the data for Claim == 4 and copy the DataFrame\n"
   ]
  },
  {
   "cell_type": "markdown",
   "id": "ceb7d938-5c04-460f-8916-b3578fa9c781",
   "metadata": {},
   "source": [
    "#### 6. In this new DataFrame, update values for \"Claim\" to 5, and the \"CumulativeFrequency\" to be 1 - \"CumulativeFrequency\" of Claim == 4. "
   ]
  },
  {
   "cell_type": "code",
   "execution_count": null,
   "id": "32b950e5-8b44-4659-8731-ce0a76c287f6",
   "metadata": {},
   "outputs": [],
   "source": [
    "# update values\n"
   ]
  },
  {
   "cell_type": "markdown",
   "id": "59c9e7f0-8255-44e6-8d2f-c4849b337a15",
   "metadata": {},
   "source": [
    "#### 7. From the DataFrame obtained in 6, print the row showing the country with the lowest Cumulativefrequency "
   ]
  },
  {
   "cell_type": "code",
   "execution_count": null,
   "id": "7c16362e-7807-4ca5-8c6a-64f9228b1a74",
   "metadata": {},
   "outputs": [],
   "source": [
    "# Country with the lowest frequency of 5s\n"
   ]
  },
  {
   "cell_type": "markdown",
   "id": "32a10444-0e45-4035-9b00-43ea3d47e87c",
   "metadata": {},
   "source": [
    "#### 8. From the DataFrame obtained in 6, print the row showing the country with the highest Cumulativefrequency"
   ]
  },
  {
   "cell_type": "code",
   "execution_count": null,
   "id": "3d85b898-05bf-4237-ac88-d35c452682c1",
   "metadata": {},
   "outputs": [],
   "source": [
    "# Country with the highest frequency of 5s\n"
   ]
  },
  {
   "cell_type": "code",
   "execution_count": null,
   "id": "a2bb9452-36dc-4371-872b-37ee59f2962d",
   "metadata": {},
   "outputs": [],
   "source": []
  }
 ],
 "metadata": {
  "kernelspec": {
   "display_name": "Python 3 (ipykernel)",
   "language": "python",
   "name": "python3"
  },
  "language_info": {
   "codemirror_mode": {
    "name": "ipython",
    "version": 3
   },
   "file_extension": ".py",
   "mimetype": "text/x-python",
   "name": "python",
   "nbconvert_exporter": "python",
   "pygments_lexer": "ipython3",
   "version": "3.12.4"
  }
 },
 "nbformat": 4,
 "nbformat_minor": 5
}
