{
 "cells": [
  {
   "cell_type": "markdown",
   "id": "628a054f-f284-4d8a-bbcc-b421658c63d5",
   "metadata": {},
   "source": [
    "# Biopython"
   ]
  },
  {
   "cell_type": "markdown",
   "id": "40dfdcd6-1818-40ba-82f8-0fe0ce5fffcb",
   "metadata": {},
   "source": [
    "To insall Bio module run `%pip install Bio`"
   ]
  },
  {
   "cell_type": "markdown",
   "id": "c5381b3a-e3e7-4d74-b83d-a649c34162e2",
   "metadata": {},
   "source": [
    "### Biopython Seq"
   ]
  },
  {
   "cell_type": "markdown",
   "id": "7fff17ee-c07c-4de7-b9b1-33b0238eacca",
   "metadata": {},
   "source": [
    "* `Seq('ATCGAAT')` -> creates a Seq object\n",
    "* Built-in methods\n",
    "    *  `.complement()`\n",
    "    *  `.reverse_complement()`\n",
    "    *  `.transcribe()`\n",
    "    *  `.translate()`"
   ]
  },
  {
   "cell_type": "code",
   "execution_count": 1,
   "id": "4dd4b4b6-a81b-4ab3-8850-238bb54ca121",
   "metadata": {},
   "outputs": [],
   "source": [
    "from Bio.Seq import Seq"
   ]
  },
  {
   "cell_type": "markdown",
   "id": "80a4de79-e610-4ee3-8cce-431746a12a10",
   "metadata": {},
   "source": [
    "Use `Seq()` to create a Seq object"
   ]
  },
  {
   "cell_type": "code",
   "execution_count": 6,
   "id": "363dd6f2-771c-4cae-a31d-559d8544e4e4",
   "metadata": {},
   "outputs": [],
   "source": [
    "seq0 = Seq('AGTACACTGGT')"
   ]
  },
  {
   "cell_type": "markdown",
   "id": "d8bd0e33-7fbb-415f-b295-01bbb58562aa",
   "metadata": {},
   "source": [
    "Get the complement of the sequence"
   ]
  },
  {
   "cell_type": "code",
   "execution_count": 7,
   "id": "40058471-43f9-4f68-b305-bfc47a135321",
   "metadata": {},
   "outputs": [
    {
     "data": {
      "text/plain": [
       "Seq('TCATGTGACCA')"
      ]
     },
     "execution_count": 7,
     "metadata": {},
     "output_type": "execute_result"
    }
   ],
   "source": [
    "seq0.complement()"
   ]
  },
  {
   "cell_type": "markdown",
   "id": "664bfd0c-bed4-450a-b573-4f41b137aaef",
   "metadata": {},
   "source": [
    "Get the reverse complement of the sequence"
   ]
  },
  {
   "cell_type": "code",
   "execution_count": 8,
   "id": "bd564261-a5ae-4599-9254-66ade03a39d1",
   "metadata": {},
   "outputs": [
    {
     "data": {
      "text/plain": [
       "Seq('ACCAGTGTACT')"
      ]
     },
     "execution_count": 8,
     "metadata": {},
     "output_type": "execute_result"
    }
   ],
   "source": [
    "seq0.reverse_complement()"
   ]
  },
  {
   "cell_type": "markdown",
   "id": "5c1cd585-da65-4bea-a86f-ba3310b21137",
   "metadata": {},
   "source": [
    "You can treat the Seq object in a similar way to string objects"
   ]
  },
  {
   "cell_type": "code",
   "execution_count": 15,
   "id": "b9678097-3630-4c1f-9e65-c3776545955e",
   "metadata": {},
   "outputs": [
    {
     "name": "stdout",
     "output_type": "stream",
     "text": [
      "0 A\n",
      "1 G\n",
      "2 T\n",
      "3 A\n",
      "4 C\n",
      "5 A\n",
      "6 C\n",
      "7 T\n",
      "8 G\n",
      "9 G\n",
      "10 T\n"
     ]
    }
   ],
   "source": [
    "# enumerate elements\n",
    "for i, nt in enumerate(seq0):\n",
    "    print (i, nt)"
   ]
  },
  {
   "cell_type": "code",
   "execution_count": 16,
   "id": "a2affd01-d591-476d-bde6-cba162f59b5f",
   "metadata": {},
   "outputs": [
    {
     "data": {
      "text/plain": [
       "11"
      ]
     },
     "execution_count": 16,
     "metadata": {},
     "output_type": "execute_result"
    }
   ],
   "source": [
    "# get the length\n",
    "len(seq0)"
   ]
  },
  {
   "cell_type": "code",
   "execution_count": 18,
   "id": "c94b9210-f266-42b9-94c2-c3ea36319f93",
   "metadata": {},
   "outputs": [
    {
     "data": {
      "text/plain": [
       "Seq('AGTA')"
      ]
     },
     "execution_count": 18,
     "metadata": {},
     "output_type": "execute_result"
    }
   ],
   "source": [
    "# slice\n",
    "seq0[0:4]"
   ]
  },
  {
   "cell_type": "code",
   "execution_count": 20,
   "id": "616f3483-564c-4f3a-916b-0fbdf75fc391",
   "metadata": {},
   "outputs": [
    {
     "data": {
      "text/plain": [
       "1"
      ]
     },
     "execution_count": 20,
     "metadata": {},
     "output_type": "execute_result"
    }
   ],
   "source": [
    "# count \n",
    "seq0.count(\"AG\")"
   ]
  },
  {
   "cell_type": "markdown",
   "id": "c259aae5-6745-4cf5-9464-3b33c697e939",
   "metadata": {},
   "source": [
    "Find the GC content of the sequence"
   ]
  },
  {
   "cell_type": "code",
   "execution_count": 21,
   "id": "78b87efa-fd29-46ea-8664-b72b32e5d13a",
   "metadata": {},
   "outputs": [
    {
     "data": {
      "text/plain": [
       "0.45454545454545453"
      ]
     },
     "execution_count": 21,
     "metadata": {},
     "output_type": "execute_result"
    }
   ],
   "source": [
    "(seq0.count(\"G\") + seq0.count(\"C\"))/len(seq0)"
   ]
  },
  {
   "cell_type": "markdown",
   "id": "e24a4d3b-2c24-43f9-b503-01df75ad03c0",
   "metadata": {},
   "source": [
    "A built-in function in Biopython to get GC content\n",
    "* `Bio.SeqUtils.gc_fraction()`"
   ]
  },
  {
   "cell_type": "code",
   "execution_count": 22,
   "id": "69f49a01-dad4-447c-8f18-caa08fff02df",
   "metadata": {},
   "outputs": [],
   "source": [
    "from Bio.SeqUtils import gc_fraction"
   ]
  },
  {
   "cell_type": "markdown",
   "id": "0180e7b9-b469-4739-8f77-0944f80d3a23",
   "metadata": {},
   "source": [
    "Concatenate sequences"
   ]
  },
  {
   "cell_type": "code",
   "execution_count": 23,
   "id": "f2e26665-867f-46f8-8640-581957270f90",
   "metadata": {},
   "outputs": [
    {
     "data": {
      "text/plain": [
       "Seq('GATATATGTCTAGTACACTGGT')"
      ]
     },
     "execution_count": 23,
     "metadata": {},
     "output_type": "execute_result"
    }
   ],
   "source": [
    "seq1 = \"GATATATGTCT\"\n",
    "seq1 + seq0"
   ]
  },
  {
   "cell_type": "markdown",
   "id": "cbe7a598-f19d-4f46-908a-7d3270c2c019",
   "metadata": {},
   "source": [
    "Convert DNA to RNA or peptide sequences"
   ]
  },
  {
   "cell_type": "code",
   "execution_count": 26,
   "id": "51978ac9-7158-49a5-bd40-d21c1ce4618e",
   "metadata": {},
   "outputs": [],
   "source": [
    "dna = Seq(\"ATGGCCATTGTAATGGGCCGCTGAAAGGGTGCCCGATAG\")\n",
    "mRNA = dna.transcribe()"
   ]
  },
  {
   "cell_type": "code",
   "execution_count": 28,
   "id": "683fdde8-2c8f-447a-909e-df6502782e84",
   "metadata": {},
   "outputs": [
    {
     "name": "stdout",
     "output_type": "stream",
     "text": [
      "ATGGCCATTGTAATGGGCCGCTGAAAGGGTGCCCGATAG\n"
     ]
    }
   ],
   "source": [
    "cDNA = mRNA.back_transcribe()\n",
    "print(cDNA)"
   ]
  },
  {
   "cell_type": "code",
   "execution_count": 33,
   "id": "3e1107d3-f2d0-460c-8a46-3a422397268a",
   "metadata": {},
   "outputs": [
    {
     "name": "stdout",
     "output_type": "stream",
     "text": [
      "MAIVMGR*KGAR*\n"
     ]
    }
   ],
   "source": [
    "protein = mRNA.translate()\n",
    "print(protein)"
   ]
  },
  {
   "cell_type": "markdown",
   "id": "4ce15614-948d-432c-9eac-ce5f32a8125f",
   "metadata": {},
   "source": [
    "Here `*` is the stop condon, and the sequence above has two stop codons. What if we want only what\n",
    "a ribosome would produce, where the mRNA detaches from the ribosome after the first stop\n",
    "codon?"
   ]
  },
  {
   "cell_type": "code",
   "execution_count": 32,
   "id": "b3cc31a0-f300-44b8-923a-5838c7566e22",
   "metadata": {},
   "outputs": [
    {
     "name": "stdout",
     "output_type": "stream",
     "text": [
      "MAIVMGR\n"
     ]
    }
   ],
   "source": [
    "protein = mRNA.translate(to_stop=True)\n",
    "print(protein)"
   ]
  },
  {
   "cell_type": "markdown",
   "id": "8e3b5f98-6278-43d5-88bc-ee25439daabc",
   "metadata": {},
   "source": [
    "Some organisms used preferred codons or different codons - translation tables"
   ]
  },
  {
   "cell_type": "code",
   "execution_count": 35,
   "id": "22a8923d-fd17-403e-b383-ca33149c36d4",
   "metadata": {},
   "outputs": [
    {
     "name": "stdout",
     "output_type": "stream",
     "text": [
      "MAIVMGRWKGAR*\n"
     ]
    }
   ],
   "source": [
    "protein = mRNA.translate(table=2) # table 2 corresponds to mitochondrial protein\n",
    "print (protein)"
   ]
  },
  {
   "cell_type": "markdown",
   "id": "9d50dae9-f5e2-4de0-a986-6942bcedb8e6",
   "metadata": {},
   "source": [
    "We can check what tables look like with `CondonTable`"
   ]
  },
  {
   "cell_type": "code",
   "execution_count": 38,
   "id": "be224080-25b6-4d71-948a-b84c72a19249",
   "metadata": {},
   "outputs": [
    {
     "name": "stdout",
     "output_type": "stream",
     "text": [
      "Table 2 Vertebrate Mitochondrial, SGC1\n",
      "\n",
      "  |  T      |  C      |  A      |  G      |\n",
      "--+---------+---------+---------+---------+--\n",
      "T | TTT F   | TCT S   | TAT Y   | TGT C   | T\n",
      "T | TTC F   | TCC S   | TAC Y   | TGC C   | C\n",
      "T | TTA L   | TCA S   | TAA Stop| TGA W   | A\n",
      "T | TTG L   | TCG S   | TAG Stop| TGG W   | G\n",
      "--+---------+---------+---------+---------+--\n",
      "C | CTT L   | CCT P   | CAT H   | CGT R   | T\n",
      "C | CTC L   | CCC P   | CAC H   | CGC R   | C\n",
      "C | CTA L   | CCA P   | CAA Q   | CGA R   | A\n",
      "C | CTG L   | CCG P   | CAG Q   | CGG R   | G\n",
      "--+---------+---------+---------+---------+--\n",
      "A | ATT I(s)| ACT T   | AAT N   | AGT S   | T\n",
      "A | ATC I(s)| ACC T   | AAC N   | AGC S   | C\n",
      "A | ATA M(s)| ACA T   | AAA K   | AGA Stop| A\n",
      "A | ATG M(s)| ACG T   | AAG K   | AGG Stop| G\n",
      "--+---------+---------+---------+---------+--\n",
      "G | GTT V   | GCT A   | GAT D   | GGT G   | T\n",
      "G | GTC V   | GCC A   | GAC D   | GGC G   | C\n",
      "G | GTA V   | GCA A   | GAA E   | GGA G   | A\n",
      "G | GTG V(s)| GCG A   | GAG E   | GGG G   | G\n",
      "--+---------+---------+---------+---------+--\n"
     ]
    }
   ],
   "source": [
    "from Bio.Data import CodonTable\n",
    "mito_table = CodonTable.unambiguous_dna_by_id[2]\n",
    "print (mito_table)"
   ]
  },
  {
   "cell_type": "markdown",
   "id": "66498f9b-056f-4969-8692-1d3494a5b5c9",
   "metadata": {},
   "source": [
    "Let’s also look at the default standard codon table"
   ]
  },
  {
   "cell_type": "code",
   "execution_count": 37,
   "id": "a185ea6b-346f-42b3-8c73-0b5e68e8e70f",
   "metadata": {},
   "outputs": [
    {
     "name": "stdout",
     "output_type": "stream",
     "text": [
      "Table 1 Standard, SGC0\n",
      "\n",
      "  |  T      |  C      |  A      |  G      |\n",
      "--+---------+---------+---------+---------+--\n",
      "T | TTT F   | TCT S   | TAT Y   | TGT C   | T\n",
      "T | TTC F   | TCC S   | TAC Y   | TGC C   | C\n",
      "T | TTA L   | TCA S   | TAA Stop| TGA Stop| A\n",
      "T | TTG L(s)| TCG S   | TAG Stop| TGG W   | G\n",
      "--+---------+---------+---------+---------+--\n",
      "C | CTT L   | CCT P   | CAT H   | CGT R   | T\n",
      "C | CTC L   | CCC P   | CAC H   | CGC R   | C\n",
      "C | CTA L   | CCA P   | CAA Q   | CGA R   | A\n",
      "C | CTG L(s)| CCG P   | CAG Q   | CGG R   | G\n",
      "--+---------+---------+---------+---------+--\n",
      "A | ATT I   | ACT T   | AAT N   | AGT S   | T\n",
      "A | ATC I   | ACC T   | AAC N   | AGC S   | C\n",
      "A | ATA I   | ACA T   | AAA K   | AGA R   | A\n",
      "A | ATG M(s)| ACG T   | AAG K   | AGG R   | G\n",
      "--+---------+---------+---------+---------+--\n",
      "G | GTT V   | GCT A   | GAT D   | GGT G   | T\n",
      "G | GTC V   | GCC A   | GAC D   | GGC G   | C\n",
      "G | GTA V   | GCA A   | GAA E   | GGA G   | A\n",
      "G | GTG V   | GCG A   | GAG E   | GGG G   | G\n",
      "--+---------+---------+---------+---------+--\n"
     ]
    }
   ],
   "source": [
    "standard_table = CodonTable.unambiguous_dna_by_id[1]\n",
    "print (standard_table)"
   ]
  },
  {
   "cell_type": "markdown",
   "id": "394de409-eef2-43f5-93fe-1901d9d94c9a",
   "metadata": {},
   "source": [
    "### Sequence alignments with Biopython\n",
    "* Module `Bio.Align` contain `PairwiseAligner` class for global and local pairwise alignments\n",
    "* `aligner` object\n",
    "    * `aligner.score()`\n",
    "    * `aligner.align()` -> returns `Alignment` object\n",
    "    * `print(alignment)` \n",
    "        * Numbers along top/bottom → indices in original sequences.\n",
    "        * Matches shown with |.\n",
    "        * Gaps shown with -."
   ]
  },
  {
   "cell_type": "code",
   "execution_count": 40,
   "id": "031a05ba-a5fa-43f5-87e5-aed46783ffa5",
   "metadata": {},
   "outputs": [],
   "source": [
    "from Bio import Align\n",
    "aligner = Align.PairwiseAligner()"
   ]
  },
  {
   "cell_type": "markdown",
   "id": "a7bae685-264b-4fcf-8b26-13c3f4a316b3",
   "metadata": {},
   "source": [
    "Align two sequences and get the score"
   ]
  },
  {
   "cell_type": "code",
   "execution_count": 42,
   "id": "b319d851-d03a-4273-9939-81955021f61f",
   "metadata": {},
   "outputs": [
    {
     "name": "stdout",
     "output_type": "stream",
     "text": [
      "5.0\n"
     ]
    }
   ],
   "source": [
    "target  = \"GAACTAGTC\"\n",
    "query = \"GAAGT\"\n",
    "score = aligner.score(target, query)\n",
    "print (score)"
   ]
  },
  {
   "cell_type": "markdown",
   "id": "b95be4a8-af82-4dbd-8f1e-5b2213ce3231",
   "metadata": {},
   "source": [
    "`aligner.align()` -> returns `Alignment` object"
   ]
  },
  {
   "cell_type": "code",
   "execution_count": 43,
   "id": "a03703a6-28b4-4c91-8554-48df940ff139",
   "metadata": {},
   "outputs": [
    {
     "name": "stdout",
     "output_type": "stream",
     "text": [
      "<Bio.Align.PairwiseAlignments object at 0x10a815fd0>\n"
     ]
    }
   ],
   "source": [
    "alignments = aligner.align(target, query)"
   ]
  },
  {
   "cell_type": "code",
   "execution_count": 44,
   "id": "b6640207-24ce-4ab9-b0e2-23f244ae27b0",
   "metadata": {},
   "outputs": [
    {
     "data": {
      "text/plain": [
       "3"
      ]
     },
     "execution_count": 44,
     "metadata": {},
     "output_type": "execute_result"
    }
   ],
   "source": [
    "len(alignments)"
   ]
  },
  {
   "cell_type": "code",
   "execution_count": 54,
   "id": "13e874df-0419-496d-b62b-d8ef4e46a471",
   "metadata": {},
   "outputs": [
    {
     "name": "stdout",
     "output_type": "stream",
     "text": [
      "target            0 GAACTAGTC 9\n",
      "                  0 |||---||- 9\n",
      "query             0 GAA---GT- 5\n",
      "\n",
      "target            0 GAACTAGTC 9\n",
      "                  0 ||---|||- 9\n",
      "query             0 GA---AGT- 5\n",
      "\n",
      "target            0 GAACTAGTC 9\n",
      "                  0 |-|--|||- 9\n",
      "query             0 G-A--AGT- 5\n",
      "\n"
     ]
    }
   ],
   "source": [
    "print (alignments[0])\n",
    "print (alignments[1])\n",
    "print (alignments[2])"
   ]
  },
  {
   "cell_type": "markdown",
   "id": "a358bf50-88e0-4ef9-914e-9857f7e84d16",
   "metadata": {},
   "source": [
    "We can use a for loop to print all alignments"
   ]
  },
  {
   "cell_type": "code",
   "execution_count": 50,
   "id": "3e379f07-e3b4-4ea4-abed-4b9f57c2cef1",
   "metadata": {},
   "outputs": [
    {
     "name": "stdout",
     "output_type": "stream",
     "text": [
      "target            0 GAACTAGTC 9\n",
      "                  0 |||---||- 9\n",
      "query             0 GAA---GT- 5\n",
      "\n",
      "target            0 GAACTAGTC 9\n",
      "                  0 ||---|||- 9\n",
      "query             0 GA---AGT- 5\n",
      "\n",
      "target            0 GAACTAGTC 9\n",
      "                  0 |-|--|||- 9\n",
      "query             0 G-A--AGT- 5\n",
      "\n"
     ]
    }
   ],
   "source": [
    "for alignment in alignments:\n",
    "    print (alignment)"
   ]
  },
  {
   "cell_type": "markdown",
   "id": "f94c71be-c527-48bf-ad74-bcfae12f4779",
   "metadata": {},
   "source": [
    "#### Align a transcript sequence to a genomic chromosome sequence"
   ]
  },
  {
   "cell_type": "markdown",
   "id": "afa32554-4833-4d15-9c8d-8b103be3f53c",
   "metadata": {},
   "source": [
    "* `aligner.mode`\n",
    "    * `global` -> The entire sequence is aligned end-to-end\n",
    "    * `local` -> Finds the best matching subsequence region\n",
    "* `aligner.open_gap_score` -> penalty for starting a new gap\n",
    "* `aligner.extend_gap_score` -> penalty for extending an existing gap by one more position"
   ]
  },
  {
   "cell_type": "code",
   "execution_count": 65,
   "id": "c33ecc69-ed7e-4d1a-ab92-da3bda7df94e",
   "metadata": {},
   "outputs": [
    {
     "name": "stdout",
     "output_type": "stream",
     "text": [
      "9\n",
      "target           12 CCCCCCCAAAAAAAAAAAAAAAGGGGGGG 41\n",
      "                  0 |||||||---------------||||||| 29\n",
      "query             0 CCCCCCC---------------GGGGGGG 14\n",
      "\n",
      "target           11 CCCCCCCCAAAAAAAAAAAAAAAGGGGGGG 41\n",
      "                  0 |||||||----------------||||||| 30\n",
      "query             0 CCCCCCC----------------GGGGGGG 14\n",
      "\n",
      "target           10 CCCCCCCCCAAAAAAAAAAAAAAAGGGGGGG 41\n",
      "                  0 |||||||-----------------||||||| 31\n",
      "query             0 CCCCCCC-----------------GGGGGGG 14\n",
      "\n",
      "target           12 CCCCCCCAAAAAAAAAAAAAAAGGGGGGGG 42\n",
      "                  0 |||||||----------------||||||| 30\n",
      "query             0 CCCCCCC----------------GGGGGGG 14\n",
      "\n",
      "target           11 CCCCCCCCAAAAAAAAAAAAAAAGGGGGGGG 42\n",
      "                  0 |||||||-----------------||||||| 31\n",
      "query             0 CCCCCCC-----------------GGGGGGG 14\n",
      "\n",
      "target           10 CCCCCCCCCAAAAAAAAAAAAAAAGGGGGGGG 42\n",
      "                  0 |||||||------------------||||||| 32\n",
      "query             0 CCCCCCC------------------GGGGGGG 14\n",
      "\n",
      "target           12 CCCCCCCAAAAAAAAAAAAAAAGGGGGGGGG 43\n",
      "                  0 |||||||-----------------||||||| 31\n",
      "query             0 CCCCCCC-----------------GGGGGGG 14\n",
      "\n",
      "target           11 CCCCCCCCAAAAAAAAAAAAAAAGGGGGGGGG 43\n",
      "                  0 |||||||------------------||||||| 32\n",
      "query             0 CCCCCCC------------------GGGGGGG 14\n",
      "\n",
      "target           10 CCCCCCCCCAAAAAAAAAAAAAAAGGGGGGGGG 43\n",
      "                  0 |||||||-------------------||||||| 33\n",
      "query             0 CCCCCCC-------------------GGGGGGG 14\n",
      "\n"
     ]
    }
   ],
   "source": [
    "chromosome = \"AAAAAAAAAACCCCCCCCCAAAAAAAAAAAAAAAGGGGGGGGGAAAAAAAAAAA\"\n",
    "transcript = \"CCCCCCCGGGGGGG\"\n",
    "\n",
    "aligner.mode = \"local\"\n",
    "aligner.open_gap_score = -1\n",
    "aligner.extend_gap_score = 0\n",
    "\n",
    "alignments = aligner.align(chromosome, transcript)\n",
    "print(len(alignments))\n",
    "for alignment in alignments:\n",
    "    print(alignment)"
   ]
  },
  {
   "cell_type": "markdown",
   "id": "ef78167c-d566-407f-8ece-07dbe9ca0d43",
   "metadata": {},
   "source": [
    "### Sequence motifs with Biopython\n",
    "* Module `Bio.motifs`: represent and analyze sequence motifs\n",
    "    * `motifs.create()` -> create a `motif` object from a list of sequences\n",
    "    * `.consensus` -> most common base at each position\n",
    "    * `.counts` -> counts of each nucleotide at each position\n",
    "    * `.relative_entropy` -> how much a motif differs from a background nucleotide distribution.\n",
    "        * If =0 -> motif is completely random\n",
    "        * if >0 -> motif carries information"
   ]
  },
  {
   "cell_type": "code",
   "execution_count": 66,
   "id": "1a28c199-1ca4-46e1-8e22-8ea8a1c84e1a",
   "metadata": {},
   "outputs": [],
   "source": [
    "from Bio import motifs"
   ]
  },
  {
   "cell_type": "code",
   "execution_count": 68,
   "id": "0aab0e30-7068-454e-9d95-8451df281c05",
   "metadata": {},
   "outputs": [],
   "source": [
    "seqs = [Seq(\"TACAA\"), Seq(\"TACGC\"), Seq(\"TACAC\"), \n",
    "        Seq(\"TACCC\"), Seq(\"AACCC\"), Seq(\"AATGC\"), Seq(\"AATGC\")]"
   ]
  },
  {
   "cell_type": "code",
   "execution_count": 73,
   "id": "f1d14de4-a6ad-42c9-a1ce-54ed07cbd386",
   "metadata": {},
   "outputs": [
    {
     "name": "stdout",
     "output_type": "stream",
     "text": [
      "TACAA\n",
      "TACGC\n",
      "TACAC\n",
      "TACCC\n",
      "AACCC\n",
      "AATGC\n",
      "AATGC\n",
      "        0      1      2      3      4\n",
      "A:   3.00   7.00   0.00   2.00   1.00\n",
      "C:   0.00   0.00   5.00   2.00   6.00\n",
      "G:   0.00   0.00   0.00   3.00   0.00\n",
      "T:   4.00   0.00   2.00   0.00   0.00\n",
      "\n"
     ]
    }
   ],
   "source": [
    "m = motifs.create(seqs)\n",
    "print(m)\n",
    "print(m.counts)"
   ]
  },
  {
   "cell_type": "markdown",
   "id": "f6384cbd-6bd2-4568-8a07-f347e5a2f1ea",
   "metadata": {},
   "source": [
    "Get the most common sequence"
   ]
  },
  {
   "cell_type": "code",
   "execution_count": 74,
   "id": "5c71b638-a042-440f-b369-93a57adbd42d",
   "metadata": {},
   "outputs": [
    {
     "data": {
      "text/plain": [
       "Seq('TACGC')"
      ]
     },
     "execution_count": 74,
     "metadata": {},
     "output_type": "execute_result"
    }
   ],
   "source": [
    "m.consensus"
   ]
  },
  {
   "cell_type": "markdown",
   "id": "324fe291-7153-45d6-915c-62e8592cb8c0",
   "metadata": {},
   "source": [
    "Get consensus sequence using IUPAC ambiguity codes (e.g. ACGT + RYSWKM + BDHV + N)"
   ]
  },
  {
   "cell_type": "code",
   "execution_count": 75,
   "id": "b8e1ac47-b81c-4bb5-ace5-0b453da92000",
   "metadata": {},
   "outputs": [
    {
     "data": {
      "text/plain": [
       "Seq('WACVC')"
      ]
     },
     "execution_count": 75,
     "metadata": {},
     "output_type": "execute_result"
    }
   ],
   "source": [
    "m.degenerate_consensus"
   ]
  },
  {
   "cell_type": "code",
   "execution_count": 77,
   "id": "85685af0-a228-477a-a97c-7f76fccd7893",
   "metadata": {},
   "outputs": [
    {
     "name": "stdout",
     "output_type": "stream",
     "text": [
      "[1.01477186 2.         1.13687943 0.44334329 1.40832722]\n",
      "6.0033218093539675\n"
     ]
    }
   ],
   "source": [
    "# The amount of information in each position \n",
    "print(m.relative_entropy)\n",
    "# The total information\n",
    "print(sum(m.relative_entropy))\n",
    "# Export a motif logo image\n",
    "m.weblogo(\"my_motif.png\")"
   ]
  },
  {
   "cell_type": "markdown",
   "id": "29cc091c-8251-4855-8c35-11e924a037a5",
   "metadata": {},
   "source": [
    "### Retrieving Sequences from NCBI\n",
    "* Module `Bio.Entrez`: a Python interface to the NCBI Entrez databases\n",
    "    * `Entrez.esearch()` -> search records and return result as handle\n",
    "    * `Entrez.read()` \n",
    "    * `Entrez.efetch()` -> return the data as a handle object for reading data from a file\n",
    "* ***handle***\n",
    "    * standardized \"wrapper\" around text information\n",
    "    * useful for reading information incrementally\n",
    "    * often used to pass information to a parser, e.g. `Entrez.read()`"
   ]
  },
  {
   "cell_type": "code",
   "execution_count": 11,
   "id": "e91bcc31-38c1-4051-8d14-d442a03a3c93",
   "metadata": {},
   "outputs": [],
   "source": [
    "# import the package\n",
    "from Bio import Entrez\n",
    "# you need to enter your email here to identify yourself\n",
    "Entrez.email = \"amyji@andrew.cmu.edu\""
   ]
  },
  {
   "cell_type": "markdown",
   "id": "6d49897a-70f2-4a2d-9caf-db5c378ec504",
   "metadata": {},
   "source": [
    "#### Search sequence in NCBI\n",
    "* `Entrez.esearch()`:\n",
    "    * `db` -> database,\n",
    "    * `term` -> Entrez text query"
   ]
  },
  {
   "cell_type": "markdown",
   "id": "dbbd7fe3-6607-40c2-960f-a9fd66292c18",
   "metadata": {},
   "source": [
    "Retrieve infor about the inquisitive shrew mole (*Uropsilus investigator*)"
   ]
  },
  {
   "cell_type": "code",
   "execution_count": 19,
   "id": "1212f49c-2190-4108-828a-404550326e7e",
   "metadata": {},
   "outputs": [],
   "source": [
    "handle = Entrez.esearch(db = \"nuccore\", term = (\"Uropsilus investigator[Organism]\"))"
   ]
  },
  {
   "cell_type": "code",
   "execution_count": 20,
   "id": "30c743ce-53d2-4ca3-a1fb-c891d9e5e7eb",
   "metadata": {},
   "outputs": [],
   "source": [
    "record = Entrez.read(handle)\n",
    "handle.close()"
   ]
  },
  {
   "cell_type": "markdown",
   "id": "11c70e45-c0aa-49e4-9e9e-4f8a2439eb17",
   "metadata": {},
   "source": [
    "record is a **dictinary**, we can look at the keys"
   ]
  },
  {
   "cell_type": "code",
   "execution_count": 21,
   "id": "4bd932a8-3119-4766-8c2c-7e04c3b9c967",
   "metadata": {},
   "outputs": [
    {
     "data": {
      "text/plain": [
       "dict_keys(['Count', 'RetMax', 'RetStart', 'IdList', 'TranslationSet', 'TranslationStack', 'QueryTranslation'])"
      ]
     },
     "execution_count": 21,
     "metadata": {},
     "output_type": "execute_result"
    }
   ],
   "source": [
    "record.keys()"
   ]
  },
  {
   "cell_type": "code",
   "execution_count": 22,
   "id": "527a75e0-b8be-4f1c-91ed-555b8af77522",
   "metadata": {},
   "outputs": [
    {
     "data": {
      "text/plain": [
       "'128'"
      ]
     },
     "execution_count": 22,
     "metadata": {},
     "output_type": "execute_result"
    }
   ],
   "source": [
    "# Get value for the key: Count (total number of records)\n",
    "record.values()\n",
    "record[\"Count\"]"
   ]
  },
  {
   "cell_type": "code",
   "execution_count": 23,
   "id": "798a2af8-3ccb-4542-a5b4-962485d2de32",
   "metadata": {},
   "outputs": [
    {
     "data": {
      "text/plain": [
       "'20'"
      ]
     },
     "execution_count": 23,
     "metadata": {},
     "output_type": "execute_result"
    }
   ],
   "source": [
    "# RetMax -> Maximum number of records retured (defult is 20)\n",
    "record[\"RetMax\"]"
   ]
  },
  {
   "cell_type": "code",
   "execution_count": 24,
   "id": "f0732349-7f55-4dc5-993f-e96b7367d0b3",
   "metadata": {},
   "outputs": [
    {
     "name": "stdout",
     "output_type": "stream",
     "text": [
      "['2192921072', '2292855435', '478247724', '478247688', '478247686', '478247684', '478247644', '478247642', '478247640', '426259247', '1631860235', '1631860231', '1631860225', '1631860187', '1631860183', '1631860181', '1631860179', '1631860169', '1631859951', '1631859923']\n"
     ]
    }
   ],
   "source": [
    "# List of sequence IDs for the mole\n",
    "id_list = record[\"IdList\"]\n",
    "print(id_list)"
   ]
  },
  {
   "cell_type": "markdown",
   "id": "c798d278-79cd-478c-acdf-c77325e311be",
   "metadata": {},
   "source": [
    "**Obtain sequence**   \n",
    "* `Entrez.efetch`\n",
    "    * `db` -> database\n",
    "    * `rettype` -> return type\n",
    "    * `retmode` -> return mode\n",
    "    * `id` -> NCBI Id"
   ]
  },
  {
   "cell_type": "code",
   "execution_count": 25,
   "id": "9c9cbf0a-603e-45a6-9c16-de6dd1a94f66",
   "metadata": {},
   "outputs": [],
   "source": [
    "handle = Entrez.efetch(db = \"nuccore\", rettype = \"fasta\", retmode = \"text\", id = id_list[:10] )\n",
    "\n",
    "# Save obtained sequence data as fasta file\n",
    "with open (\"Uropsilus_seq.fasta\", \"w\") as f:\n",
    "    for line in handle:\n",
    "        f.write(line)\n",
    "handle.close()"
   ]
  },
  {
   "cell_type": "markdown",
   "id": "2d4cf309-c3ca-4eca-99b5-41c5625cc043",
   "metadata": {},
   "source": [
    "### Input and Output of Sequence Data Using SeqIO\n",
    "* Module `Bio.SeqIO` -> Sequence Input/Output interface for BioPython\n",
    "    * `SeqIO.parse()` -> read in sequence data as `SeqRecord` objects.\n",
    "    * `SeqRecrod` object -> `Seq` object + annotation"
   ]
  },
  {
   "cell_type": "code",
   "execution_count": 27,
   "id": "3eaeed95-74a8-4c20-a48f-e37a4e256464",
   "metadata": {},
   "outputs": [],
   "source": [
    "from Bio import SeqIO"
   ]
  },
  {
   "cell_type": "code",
   "execution_count": 28,
   "id": "60c9afac-dd73-40ca-9042-5cd73fbba6fe",
   "metadata": {},
   "outputs": [
    {
     "name": "stdout",
     "output_type": "stream",
     "text": [
      "NC_060485.1 Uropsilus investigator mitochondrion, complete genome\n",
      "16519\n",
      "MW682667.1 Uropsilus investigator voucher KIZ:PM180283 cytochrome b (cytb) gene, complete cds; mitochondrial\n",
      "1140\n",
      "KC516837.1 Uropsilus investigator isolate A11 apolipoprotein B (ApoB) gene, partial cds\n",
      "573\n",
      "KC516819.1 Uropsilus investigator voucher mlxs331 cytochrome c oxidase subunit I (COI) gene, partial cds, alternatively spliced; mitochondrial\n",
      "912\n",
      "KC516818.1 Uropsilus investigator voucher mlxs022 cytochrome c oxidase subunit I (COI) gene, partial cds, alternatively spliced; mitochondrial\n",
      "912\n",
      "KC516817.1 Uropsilus investigator voucher CY11N009 cytochrome c oxidase subunit I (COI) gene, partial cds, alternatively spliced; mitochondrial\n",
      "912\n",
      "KC516797.1 Uropsilus investigator voucher mlxs331 cytochrome b (CYTB) gene, complete cds; mitochondrial\n",
      "1140\n",
      "KC516796.1 Uropsilus investigator voucher mlxs022 cytochrome b (CYTB) gene, complete cds; mitochondrial\n",
      "1140\n",
      "KC516795.1 Uropsilus investigator voucher CY11N009 cytochrome b (CYTB) gene, complete cds; mitochondrial\n",
      "1140\n",
      "JX945574.1 Uropsilus investigator mitochondrion, complete genome\n",
      "16519\n"
     ]
    }
   ],
   "source": [
    "handle = open(\"Uropsilus_seq.fasta\", \"r\")\n",
    "\n",
    "for record in SeqIO.parse(handle, \"fasta\"):\n",
    "    print(record.description)\n",
    "    print(len(record))\n",
    "\n",
    "handle.close()"
   ]
  },
  {
   "cell_type": "markdown",
   "id": "0161ef95-bf0b-4dfc-af54-7d736ecb98b4",
   "metadata": {},
   "source": [
    "`SeqIO.parse` returns a SeqRecord object"
   ]
  },
  {
   "cell_type": "code",
   "execution_count": 29,
   "id": "816e16b6-10f2-4736-aaec-af3b843fa57f",
   "metadata": {},
   "outputs": [],
   "source": [
    "import re"
   ]
  },
  {
   "cell_type": "code",
   "execution_count": 31,
   "id": "ed788cef-9dac-40e1-82e0-f04d18a0f39f",
   "metadata": {},
   "outputs": [
    {
     "name": "stdout",
     "output_type": "stream",
     "text": [
      "KC516837.1\n"
     ]
    }
   ],
   "source": [
    "with open(\"Uropsilus_ApoB.fasta\", \"w\")as f:\n",
    "    for record in SeqIO.parse(\"Uropsilus_seq.fasta\", \"fasta\"):\n",
    "        if re.search(r\"ApoB\", record.description):\n",
    "            print(record.id)\n",
    "            # shorten sequence by Python slicing.\n",
    "            short_seq = record[:100] ## first 100 nt of sequence\n",
    "            SeqIO.write(short_seq, f, \"fasta\") # Write this sequence to file."
   ]
  },
  {
   "cell_type": "markdown",
   "id": "4655f3a5-6109-418e-8511-19ee9bff5a76",
   "metadata": {},
   "source": [
    "### Programmatic BLAST Search\n",
    "* BLAST: Basic Local Alignment Search Tool\n",
    "* Finds regions of similarity between sequences\n",
    "* By default, the BLAST query resturns an XML file (parse using the NCBIXML parser)\n",
    "* Module: `Bio.Blast.NCBIWWW`\n",
    "* `.qblast(program, database, sequence)` -> run BLAST search\n",
    "    * program \n",
    "        * `blastn` -> nucleotide vs nucleotide\n",
    "        * `blastp` -> protein vs protein\n",
    "    * database\n",
    "        * `nt` -> nucleotide collection\n",
    "        * `nr` -> non-redundant protein sequences\n",
    "* returns `Blast.Recrod` object\n",
    "* `.descriptions` -> summary of all hits\n",
    "* `.alignments` -> list of hits, each is a `Blast.Record.Aligment` object\n",
    "    * Each `alignment` has\n",
    "        * `alignment.title` -> description of hit\n",
    "        * `alignment.length` -> subject sequence length\n",
    "        * `alignment.hsps` -> list of HSPs (high-scoring segment pairs)\n",
    "            * Each HSP has:\n",
    "                * `hsp.expect` -> E-value\n",
    "                * `hsp.score` -> raw BLAST score\n",
    "                * `hsp.sbjct` -> subject sequence (aligned portion)\n",
    "                * `hsp.query` -> query sequence (aligned portion)\n",
    "                * `hsp.match` -> string showing matches/mismatches"
   ]
  },
  {
   "cell_type": "code",
   "execution_count": 32,
   "id": "0d795387-ee8a-4bf4-8fb8-ca72adc93e5a",
   "metadata": {},
   "outputs": [],
   "source": [
    "from Bio.Blast import NCBIWWW\n",
    "from Bio.Blast import NCBIXML"
   ]
  },
  {
   "cell_type": "code",
   "execution_count": 33,
   "id": "59336e27-d822-4e56-942a-c8b6cfd09998",
   "metadata": {},
   "outputs": [
    {
     "name": "stdout",
     "output_type": "stream",
     "text": [
      "KC516837.1   TTAAGTGTAAAGACTCAGTATAAGAAAAACAAAGACAAGCATTCCATCCCAATTCCTTTGGATGCATTTTATGTGTTTATCAATCATAACATCAATTCTT\n"
     ]
    }
   ],
   "source": [
    "# retrieve sequences using SeqIO\n",
    "with open(\"Uropsilus_ApoB.fasta\", \"r\") as f:\n",
    "    records = list(SeqIO.parse(f, \"fasta\"))\n",
    "print(records[0].id, \" \", records[0].seq)"
   ]
  },
  {
   "cell_type": "code",
   "execution_count": 36,
   "id": "6d30122e-cb23-4380-b80a-c12c8ac41b5d",
   "metadata": {},
   "outputs": [
    {
     "name": "stdout",
     "output_type": "stream",
     "text": [
      "blasting\n",
      "done\n"
     ]
    }
   ],
   "source": [
    "print(\"blasting, this may take a while.\")\n",
    "result_handle = NCBIWWW.qblast(\"blastn\", \"nt\", records[0].seq)\n",
    "print(\"done\")\n",
    "save_file = open(\"my_blast.xml\", \"w\")\n",
    "save_file.write(result_handle.read())\n",
    "save_file.close()\n",
    "result_handle.close()"
   ]
  },
  {
   "cell_type": "markdown",
   "id": "72cd3b47-412f-4b01-ba22-f49dde63aa3d",
   "metadata": {},
   "source": [
    "Use `NCBIXML.read()` if you run BLAST for one sequence, use `NCBIXML.parse()` for multiple sequences"
   ]
  },
  {
   "cell_type": "code",
   "execution_count": 37,
   "id": "1f11a456-2e6e-42d5-af6a-6c88834835f5",
   "metadata": {},
   "outputs": [],
   "source": [
    "result_handle = open(\"my_blast.xml\")\n",
    "blast_records = NCBIXML.read(result_handle)\n",
    "result_handle.close()"
   ]
  },
  {
   "cell_type": "code",
   "execution_count": 38,
   "id": "499b26f6-4d7e-4ab2-97e9-77359a4619ac",
   "metadata": {},
   "outputs": [
    {
     "data": {
      "text/plain": [
       "50"
      ]
     },
     "execution_count": 38,
     "metadata": {},
     "output_type": "execute_result"
    }
   ],
   "source": [
    "len(blast_records.alignments)"
   ]
  },
  {
   "cell_type": "code",
   "execution_count": 39,
   "id": "5a4b22d8-c5da-4710-8e91-c9069ed0a095",
   "metadata": {},
   "outputs": [
    {
     "name": "stdout",
     "output_type": "stream",
     "text": [
      "gi|478247720|gb|KC516835.1| Uropsilus gracilis isolate A9 apolipoprotein B (ApoB) gene, partial cds\n",
      "           Length = 573\n",
      "\n"
     ]
    }
   ],
   "source": [
    "print(blast_records.alignments[0])"
   ]
  },
  {
   "cell_type": "code",
   "execution_count": 40,
   "id": "6a6047fd-80c3-484f-9527-b1da32f40264",
   "metadata": {},
   "outputs": [
    {
     "name": "stdout",
     "output_type": "stream",
     "text": [
      "****Alignment****\n",
      "sequence: gi|478247720|gb|KC516835.1| Uropsilus gracilis isolate A9 apolipoprotein B (ApoB) gene, partial cds\n",
      "length: 573\n",
      "E value: 1.26335e-41\n",
      "TTAAGTGTAAAGACTCAGTATAAGAAAAACAAAGACAAGCATTCCATCCCAATTCCTTTGGATGCATTTTATGTG...\n",
      "|||||||||||||||||||||||||||||||||||||||||||||||||||||||||||||||||||||||||||...\n",
      "TTAAGTGTAAAGACTCAGTATAAGAAAAACAAAGACAAGCATTCCATCCCAATTCCTTTGGATGCATTTTATGTG...\n",
      "****Alignment****\n",
      "sequence: gi|478247704|gb|KC516827.1| Uropsilus sp. LY-2012 isolate A1 apolipoprotein B (ApoB) gene, partial cds\n",
      "length: 573\n",
      "E value: 1.26335e-41\n",
      "TTAAGTGTAAAGACTCAGTATAAGAAAAACAAAGACAAGCATTCCATCCCAATTCCTTTGGATGCATTTTATGTG...\n",
      "|||||||||||||||||||||||||||||||||||||||||||||||||||||||||||||||||||||||||||...\n",
      "TTAAGTGTAAAGACTCAGTATAAGAAAAACAAAGACAAGCATTCCATCCCAATTCCTTTGGATGCATTTTATGTG...\n",
      "****Alignment****\n",
      "sequence: gi|478247730|gb|KC516840.1| Uropsilus soricipes isolate A14 apolipoprotein B (ApoB) gene, partial cds\n",
      "length: 573\n",
      "E value: 1.26335e-41\n",
      "TTAAGTGTAAAGACTCAGTATAAGAAAAACAAAGACAAGCATTCCATCCCAATTCCTTTGGATGCATTTTATGTG...\n",
      "|||||||||||||||||||||||||||||||||||||||||||||||||||||||||||||||||||||||||||...\n",
      "TTAAGTGTAAAGACTCAGTATAAGAAAAACAAAGACAAGCATTCCATCCCAATTCCTTTGGATGCATTTTATGTG...\n",
      "****Alignment****\n",
      "sequence: gi|478247712|gb|KC516831.1| Uropsilus andersoni isolate A5 apolipoprotein B (ApoB) gene, partial cds\n",
      "length: 573\n",
      "E value: 1.26335e-41\n",
      "TTAAGTGTAAAGACTCAGTATAAGAAAAACAAAGACAAGCATTCCATCCCAATTCCTTTGGATGCATTTTATGTG...\n",
      "|||||||||||||||||||||||||||||||||||||||||||||||||||||||||||||||||||||||||||...\n",
      "TTAAGTGTAAAGACTCAGTATAAGAAAAACAAAGACAAGCATTCCATCCCAATTCCTTTGGATGCATTTTATGTG...\n",
      "****Alignment****\n",
      "sequence: gi|478247708|gb|KC516829.1| Uropsilus sp. LY-2012 isolate A3 apolipoprotein B (ApoB) gene, partial cds\n",
      "length: 573\n",
      "E value: 1.26335e-41\n",
      "TTAAGTGTAAAGACTCAGTATAAGAAAAACAAAGACAAGCATTCCATCCCAATTCCTTTGGATGCATTTTATGTG...\n",
      "|||||||||||||||||||||||||||||||||||||||||||||||||||||||||||||||||||||||||||...\n",
      "TTAAGTGTAAAGACTCAGTATAAGAAAAACAAAGACAAGCATTCCATCCCAATTCCTTTGGATGCATTTTATGTG...\n",
      "****Alignment****\n",
      "sequence: gi|1104680275|gb|KX755190.1| Uropsilus soricipes isolate Uropso_2 apolipoprotein B (APOB) gene, partial cds\n",
      "length: 790\n",
      "E value: 1.26335e-41\n",
      "TTAAGTGTAAAGACTCAGTATAAGAAAAACAAAGACAAGCATTCCATCCCAATTCCTTTGGATGCATTTTATGTG...\n",
      "|||||||||||||||||||||||||||||||||||||||||||||||||||||||||||||||||||||||||||...\n",
      "TTAAGTGTAAAGACTCAGTATAAGAAAAACAAAGACAAGCATTCCATCCCAATTCCTTTGGATGCATTTTATGTG...\n",
      "****Alignment****\n",
      "sequence: gi|1104680277|gb|KX755191.1| Uropsilus soricipes isolate Uropso_5 apolipoprotein B (APOB) gene, partial cds\n",
      "length: 790\n",
      "E value: 1.26335e-41\n",
      "TTAAGTGTAAAGACTCAGTATAAGAAAAACAAAGACAAGCATTCCATCCCAATTCCTTTGGATGCATTTTATGTG...\n",
      "|||||||||||||||||||||||||||||||||||||||||||||||||||||||||||||||||||||||||||...\n",
      "TTAAGTGTAAAGACTCAGTATAAGAAAAACAAAGACAAGCATTCCATCCCAATTCCTTTGGATGCATTTTATGTG...\n",
      "****Alignment****\n",
      "sequence: gi|478247718|gb|KC516834.1| Uropsilus gracilis isolate A8 apolipoprotein B (ApoB) gene, partial cds\n",
      "length: 573\n",
      "E value: 1.26335e-41\n",
      "TTAAGTGTAAAGACTCAGTATAAGAAAAACAAAGACAAGCATTCCATCCCAATTCCTTTGGATGCATTTTATGTG...\n",
      "|||||||||||||||||||||||||||||||||||||||||||||||||||||||||||||||||||||||||||...\n",
      "TTAAGTGTAAAGACTCAGTATAAGAAAAACAAAGACAAGCATTCCATCCCAATTCCTTTGGATGCATTTTATGTG...\n",
      "****Alignment****\n",
      "sequence: gi|478247728|gb|KC516839.1| Uropsilus soricipes isolate A13 apolipoprotein B (ApoB) gene, partial cds\n",
      "length: 573\n",
      "E value: 1.26335e-41\n",
      "TTAAGTGTAAAGACTCAGTATAAGAAAAACAAAGACAAGCATTCCATCCCAATTCCTTTGGATGCATTTTATGTG...\n",
      "|||||||||||||||||||||||||||||||||||||||||||||||||||||||||||||||||||||||||||...\n",
      "TTAAGTGTAAAGACTCAGTATAAGAAAAACAAAGACAAGCATTCCATCCCAATTCCTTTGGATGCATTTTATGTG...\n",
      "****Alignment****\n",
      "sequence: gi|478247710|gb|KC516830.1| Uropsilus andersoni isolate A4 apolipoprotein B (ApoB) gene, partial cds\n",
      "length: 573\n",
      "E value: 1.26335e-41\n",
      "TTAAGTGTAAAGACTCAGTATAAGAAAAACAAAGACAAGCATTCCATCCCAATTCCTTTGGATGCATTTTATGTG...\n",
      "|||||||||||||||||||||||||||||||||||||||||||||||||||||||||||||||||||||||||||...\n",
      "TTAAGTGTAAAGACTCAGTATAAGAAAAACAAAGACAAGCATTCCATCCCAATTCCTTTGGATGCATTTTATGTG...\n",
      "****Alignment****\n",
      "sequence: gi|478247724|gb|KC516837.1| Uropsilus investigator isolate A11 apolipoprotein B (ApoB) gene, partial cds\n",
      "length: 573\n",
      "E value: 1.26335e-41\n",
      "TTAAGTGTAAAGACTCAGTATAAGAAAAACAAAGACAAGCATTCCATCCCAATTCCTTTGGATGCATTTTATGTG...\n",
      "|||||||||||||||||||||||||||||||||||||||||||||||||||||||||||||||||||||||||||...\n",
      "TTAAGTGTAAAGACTCAGTATAAGAAAAACAAAGACAAGCATTCCATCCCAATTCCTTTGGATGCATTTTATGTG...\n",
      "****Alignment****\n",
      "sequence: gi|478247722|gb|KC516836.1| Uropsilus gracilis isolate A10 apolipoprotein B (ApoB) gene, partial cds\n",
      "length: 573\n",
      "E value: 1.26335e-41\n",
      "TTAAGTGTAAAGACTCAGTATAAGAAAAACAAAGACAAGCATTCCATCCCAATTCCTTTGGATGCATTTTATGTG...\n",
      "|||||||||||||||||||||||||||||||||||||||||||||||||||||||||||||||||||||||||||...\n",
      "TTAAGTGTAAAGACTCAGTATAAGAAAAACAAAGACAAGCATTCCATCCCAATTCCTTTGGATGCATTTTATGTG...\n",
      "****Alignment****\n",
      "sequence: gi|1104680273|gb|KX755189.1| Uropsilus soricipes isolate Uropso_1 apolipoprotein B (APOB) gene, partial cds\n",
      "length: 756\n",
      "E value: 1.26335e-41\n",
      "TTAAGTGTAAAGACTCAGTATAAGAAAAACAAAGACAAGCATTCCATCCCAATTCCTTTGGATGCATTTTATGTG...\n",
      "|||||||||||||||||||||||||||||||||||||||||||||||||||||||||||||||||||||||||||...\n",
      "TTAAGTGTAAAGACTCAGTATAAGAAAAACAAAGACAAGCATTCCATCCCAATTCCTTTGGATGCATTTTATGTG...\n",
      "****Alignment****\n",
      "sequence: gi|478247726|gb|KC516838.1| Uropsilus soricipes isolate A12 apolipoprotein B (ApoB) gene, partial cds\n",
      "length: 573\n",
      "E value: 1.26335e-41\n",
      "TTAAGTGTAAAGACTCAGTATAAGAAAAACAAAGACAAGCATTCCATCCCAATTCCTTTGGATGCATTTTATGTG...\n",
      "|||||||||||||||||||||||||||||||||||||||||||||||||||||||||||||||||||||||||||...\n",
      "TTAAGTGTAAAGACTCAGTATAAGAAAAACAAAGACAAGCATTCCATCCCAATTCCTTTGGATGCATTTTATGTG...\n",
      "****Alignment****\n",
      "sequence: gi|478247706|gb|KC516828.1| Uropsilus sp. LY-2012 isolate A2 apolipoprotein B (ApoB) gene, partial cds\n",
      "length: 573\n",
      "E value: 1.26335e-41\n",
      "TTAAGTGTAAAGACTCAGTATAAGAAAAACAAAGACAAGCATTCCATCCCAATTCCTTTGGATGCATTTTATGTG...\n",
      "|||||||||||||||||||||||||||||||||||||||||||||||||||||||||||||||||||||||||||...\n",
      "TTAAGTGTAAAGACTCAGTATAAGAAAAACAAAGACAAGCATTCCATCCCAATTCCTTTGGATGCATTTTATGTG...\n",
      "****Alignment****\n",
      "sequence: gi|1104680269|gb|KX755187.1| Uropsilus nivatus isolate Uropgr_1 apolipoprotein B (APOB) gene, partial cds >gi|1104680271|gb|KX755188.1| Uropsilus nivatus isolate Uropgr_2 apolipoprotein B (APOB) gene, partial cds\n",
      "length: 756\n",
      "E value: 1.26335e-41\n",
      "TTAAGTGTAAAGACTCAGTATAAGAAAAACAAAGACAAGCATTCCATCCCAATTCCTTTGGATGCATTTTATGTG...\n",
      "|||||||||||||||||||||||||||||||||||||||||||||||||||||||||||||||||||||||||||...\n",
      "TTAAGTGTAAAGACTCAGTATAAGAAAAACAAAGACAAGCATTCCATCCCAATTCCTTTGGATGCATTTTATGTG...\n",
      "****Alignment****\n",
      "sequence: gi|478247716|gb|KC516833.1| Uropsilus gracilis isolate A7 apolipoprotein B (ApoB) gene, partial cds\n",
      "length: 573\n",
      "E value: 1.26335e-41\n",
      "TTAAGTGTAAAGACTCAGTATAAGAAAAACAAAGACAAGCATTCCATCCCAATTCCTTTGGATGCATTTTATGTG...\n",
      "|||||||||||||||||||||||||||||||||||||||||||||||||||||||||||||||||||||||||||...\n",
      "TTAAGTGTAAAGACTCAGTATAAGAAAAACAAAGACAAGCATTCCATCCCAATTCCTTTGGATGCATTTTATGTG...\n",
      "****Alignment****\n",
      "sequence: gi|478247732|gb|KC516841.1| Uropsilus soricipes isolate A15 apolipoprotein B (ApoB) gene, partial cds\n",
      "length: 573\n",
      "E value: 1.26335e-41\n",
      "TTAAGTGTAAAGACTCAGTATAAGAAAAACAAAGACAAGCATTCCATCCCAATTCCTTTGGATGCATTTTATGTG...\n",
      "|||||||||||||||||||||||||||||||||||||||||||||||||||||||||||||||||||||||||||...\n",
      "TTAAGTGTAAAGACTCAGTATAAGAAAAACAAAGACAAGCATTCCATCCCAATTCCTTTGGATGCATTTTATGTG...\n",
      "****Alignment****\n",
      "sequence: gi|478247714|gb|KC516832.1| Uropsilus gracilis isolate A6 apolipoprotein B (ApoB) gene, partial cds\n",
      "length: 573\n",
      "E value: 5.3719e-40\n",
      "TTAAGTGTAAAGACTCAGTATAAGAAAAACAAAGACAAGCATTCCATCCCAATTCCTTTGGATGCATTTTATGTG...\n",
      "|||||||||||||||||||||||||||||||||||||||||||||||| ||||||||||||||||||||||||||...\n",
      "TTAAGTGTAAAGACTCAGTATAAGAAAAACAAAGACAAGCATTCCATCACAATTCCTTTGGATGCATTTTATGTG...\n",
      "****Alignment****\n",
      "sequence: gi|1104680279|gb|KX755192.1| Uropsilus sp. 1 KH-2016 isolate Uropsp_6 apolipoprotein B (APOB) gene, partial cds\n",
      "length: 790\n",
      "E value: 5.3719e-40\n",
      "TTAAGTGTAAAGACTCAGTATAAGAAAAACAAAGACAAGCATTCCATCCCAATTCCTTTGGATGCATTTTATGTG...\n",
      "|||||||||||||||||||||||||||||||||||||||||||||||| ||||||||||||||||||||||||||...\n",
      "TTAAGTGTAAAGACTCAGTATAAGAAAAACAAAGACAAGCATTCCATCACAATTCCTTTGGATGCATTTTATGTG...\n",
      "****Alignment****\n",
      "sequence: gi|1104680189|gb|KX755147.1| Euroscaptor parvidens isolate Eparvi_1 apolipoprotein B (APOB) gene, partial cds\n",
      "length: 861\n",
      "E value: 2.78271e-37\n",
      "TTAAGTGTAAAGACTCAGTATAAGAAAAACAAAGACAAGCATTCCATCCCAATTCCTTTGGATGCATTTTATGTG...\n",
      "||||||||||||||||||||||||||||||||||||||||||||||||||||||||||||||||  |||||||||...\n",
      "TTAAGTGTAAAGACTCAGTATAAGAAAAACAAAGACAAGCATTCCATCCCAATTCCTTTGGATGTGTTTTATGTG...\n",
      "****Alignment****\n",
      "sequence: gi|1143697024|gb|KX164192.1| Euroscaptor parvidens voucher ZIN:98916 apolipoprotein B (apoB) gene, partial cds\n",
      "length: 943\n",
      "E value: 2.78271e-37\n",
      "TTAAGTGTAAAGACTCAGTATAAGAAAAACAAAGACAAGCATTCCATCCCAATTCCTTTGGATGCATTTTATGTG...\n",
      "||||||||||||||||||||||||||||||||||||||||||||||||||||||||||||||||  |||||||||...\n",
      "TTAAGTGTAAAGACTCAGTATAAGAAAAACAAAGACAAGCATTCCATCCCAATTCCTTTGGATGTGTTTTATGTG...\n",
      "****Alignment****\n",
      "sequence: gi|1104680191|gb|KX755148.1| Euroscaptor longirostris isolate Eurolo_1 apolipoprotein B (APOB) gene, partial cds >gi|1104680193|gb|KX755149.1| Euroscaptor longirostris isolate Eurolo_2 apolipoprotein B (APOB) gene, partial cds\n",
      "length: 861\n",
      "E value: 2.78271e-37\n",
      "TTAAGTGTAAAGACTCAGTATAAGAAAAACAAAGACAAGCATTCCATCCCAATTCCTTTGGATGCATTTTATGTG...\n",
      "||||||||||||||||||||||||||||||||||||||||||||||||||||||||||||||||  |||||||||...\n",
      "TTAAGTGTAAAGACTCAGTATAAGAAAAACAAAGACAAGCATTCCATCCCAATTCCTTTGGATGTGTTTTATGTG...\n",
      "****Alignment****\n",
      "sequence: gi|1143697032|gb|KX164196.1| Euroscaptor parvidens voucher ZIN:101901 apolipoprotein B (apoB) gene, partial cds >gi|1143697036|gb|KX164198.1| Euroscaptor parvidens voucher ZIN:101902 apolipoprotein B (apoB) gene, partial cds\n",
      "length: 951\n",
      "E value: 2.78271e-37\n",
      "TTAAGTGTAAAGACTCAGTATAAGAAAAACAAAGACAAGCATTCCATCCCAATTCCTTTGGATGCATTTTATGTG...\n",
      "||||||||||||||||||||||||||||||||||||||||||||||||||||||||||||||||  |||||||||...\n",
      "TTAAGTGTAAAGACTCAGTATAAGAAAAACAAAGACAAGCATTCCATCCCAATTCCTTTGGATGTGTTTTATGTG...\n",
      "****Alignment****\n",
      "sequence: gi|1104680185|gb|KX755145.1| Euroscaptor malayana isolate Emalay_1 apolipoprotein B (APOB) gene, partial cds\n",
      "length: 861\n",
      "E value: 2.78271e-37\n",
      "TTAAGTGTAAAGACTCAGTATAAGAAAAACAAAGACAAGCATTCCATCCCAATTCCTTTGGATGCATTTTATGTG...\n",
      "||||||||||||||||||||||||||||||||||||||||||||||||||||||||||||||||  |||||||||...\n",
      "TTAAGTGTAAAGACTCAGTATAAGAAAAACAAAGACAAGCATTCCATCCCAATTCCTTTGGATGTGTTTTATGTG...\n",
      "****Alignment****\n",
      "sequence: gi|1143697026|gb|KX164193.1| Euroscaptor parvidens voucher ZIN:96665 apolipoprotein B (apoB) gene, partial cds\n",
      "length: 937\n",
      "E value: 2.78271e-37\n",
      "TTAAGTGTAAAGACTCAGTATAAGAAAAACAAAGACAAGCATTCCATCCCAATTCCTTTGGATGCATTTTATGTG...\n",
      "||||||||||||||||||||||||||||||||||||||||||||||||||||||||||||||||  |||||||||...\n",
      "TTAAGTGTAAAGACTCAGTATAAGAAAAACAAAGACAAGCATTCCATCCCAATTCCTTTGGATGTGTTTTATGTG...\n",
      "****Alignment****\n",
      "sequence: gi|1143697034|gb|KX164197.1| Euroscaptor parvidens voucher ZMMU:S-195070 apolipoprotein B (apoB) gene, partial cds >gi|1143697038|gb|KX164199.1| Euroscaptor parvidens voucher ZMMU:S-195071 apolipoprotein B (apoB) gene, partial cds\n",
      "length: 951\n",
      "E value: 2.78271e-37\n",
      "TTAAGTGTAAAGACTCAGTATAAGAAAAACAAAGACAAGCATTCCATCCCAATTCCTTTGGATGCATTTTATGTG...\n",
      "||||||||||||||||||||||||||||||||||||||||||||||||||||||||||||||||  |||||||||...\n",
      "TTAAGTGTAAAGACTCAGTATAAGAAAAACAAAGACAAGCATTCCATCCCAATTCCTTTGGATGTGTTTTATGTG...\n",
      "****Alignment****\n",
      "sequence: gi|950834829|gb|KP995380.1| Mogera insularis latouchei voucher ZIN:101813 apolipoprotein B (ApoB) gene, partial cds\n",
      "length: 958\n",
      "E value: 2.78271e-37\n",
      "TTAAGTGTAAAGACTCAGTATAAGAAAAACAAAGACAAGCATTCCATCCCAATTCCTTTGGATGCATTTTATGTG...\n",
      "|||||||||||||||||||||||||||||||||||||||||||||||| ||||||||||||||| ||||||||||...\n",
      "TTAAGTGTAAAGACTCAGTATAAGAAAAACAAAGACAAGCATTCCATCTCAATTCCTTTGGATGTATTTTATGTG...\n",
      "****Alignment****\n",
      "sequence: gi|1104680217|gb|KX755161.1| Parascaptor leucura isolate Parale_1 apolipoprotein B (APOB) gene, partial cds >gi|1104680219|gb|KX755162.1| Parascaptor leucura isolate Parale_2 apolipoprotein B (APOB) gene, partial cds\n",
      "length: 861\n",
      "E value: 2.78271e-37\n",
      "TTAAGTGTAAAGACTCAGTATAAGAAAAACAAAGACAAGCATTCCATCCCAATTCCTTTGGATGCATTTTATGTG...\n",
      "||||||||||||||||||||||||||||||||||||||||||||||||||||||||||||||||  |||||||||...\n",
      "TTAAGTGTAAAGACTCAGTATAAGAAAAACAAAGACAAGCATTCCATCCCAATTCCTTTGGATGTGTTTTATGTG...\n",
      "****Alignment****\n",
      "sequence: gi|1104680221|gb|KX755163.1| Parascaptor leucura isolate Parale_3 apolipoprotein B (APOB) gene, partial cds\n",
      "length: 861\n",
      "E value: 2.78271e-37\n",
      "TTAAGTGTAAAGACTCAGTATAAGAAAAACAAAGACAAGCATTCCATCCCAATTCCTTTGGATGCATTTTATGTG...\n",
      "||||||||||||||||||||||||||||||||||||||||||||||||||||||||||||||||  |||||||||...\n",
      "TTAAGTGTAAAGACTCAGTATAAGAAAAACAAAGACAAGCATTCCATCCCAATTCCTTTGGATGTGTTTTATGTG...\n",
      "****Alignment****\n",
      "sequence: gi|1104680201|gb|KX755153.1| Mogera insularis isolate Minsul_1 apolipoprotein B (APOB) gene, partial cds\n",
      "length: 861\n",
      "E value: 2.78271e-37\n",
      "TTAAGTGTAAAGACTCAGTATAAGAAAAACAAAGACAAGCATTCCATCCCAATTCCTTTGGATGCATTTTATGTG...\n",
      "|||||||||||||||||||||||||||||||||||||||||||||||| ||||||||||||||| ||||||||||...\n",
      "TTAAGTGTAAAGACTCAGTATAAGAAAAACAAAGACAAGCATTCCATCTCAATTCCTTTGGATGTATTTTATGTG...\n",
      "****Alignment****\n",
      "sequence: gi|821185519|gb|KP717258.1| Euroscaptor longirostris voucher ZIN 97789 (f.c. Eu long 167) apolipoprotein B (apoB) gene, partial cds\n",
      "length: 973\n",
      "E value: 2.78271e-37\n",
      "TTAAGTGTAAAGACTCAGTATAAGAAAAACAAAGACAAGCATTCCATCCCAATTCCTTTGGATGCATTTTATGTG...\n",
      "||||||||||||||||||||||||||||||||||||||||||||||||||||||||||||||||  |||||||||...\n",
      "TTAAGTGTAAAGACTCAGTATAAGAAAAACAAAGACAAGCATTCCATCCCAATTCCTTTGGATGTGTTTTATGTG...\n",
      "****Alignment****\n",
      "sequence: gi|821185517|gb|KP717257.1| Euroscaptor parvidens voucher ZIN 98917 (f.c. Eu par 15) apolipoprotein B (apoB) gene, partial cds\n",
      "length: 959\n",
      "E value: 2.78271e-37\n",
      "TTAAGTGTAAAGACTCAGTATAAGAAAAACAAAGACAAGCATTCCATCCCAATTCCTTTGGATGCATTTTATGTG...\n",
      "||||||||||||||||||||||||||||||||||||||||||||||||||||||||||||||||  |||||||||...\n",
      "TTAAGTGTAAAGACTCAGTATAAGAAAAACAAAGACAAGCATTCCATCCCAATTCCTTTGGATGTGTTTTATGTG...\n",
      "****Alignment****\n",
      "sequence: gi|821185515|gb|KP717256.1| Mogera insularis latouchei voucher AVA 13-114 apolipoprotein B (apoB) gene, partial cds\n",
      "length: 960\n",
      "E value: 2.78271e-37\n",
      "TTAAGTGTAAAGACTCAGTATAAGAAAAACAAAGACAAGCATTCCATCCCAATTCCTTTGGATGCATTTTATGTG...\n",
      "|||||||||||||||||||||||||||||||||||||||||||||||| ||||||||||||||| ||||||||||...\n",
      "TTAAGTGTAAAGACTCAGTATAAGAAAAACAAAGACAAGCATTCCATCTCAATTCCTTTGGATGTATTTTATGTG...\n",
      "****Alignment****\n",
      "sequence: gi|1143697028|gb|KX164194.1| Euroscaptor parvidens voucher ZIN:101921 apolipoprotein B (apoB) gene, partial cds\n",
      "length: 913\n",
      "E value: 3.39004e-36\n",
      "AAGTGTAAAGACTCAGTATAAGAAAAACAAAGACAAGCATTCCATCCCAATTCCTTTGGATGCATTTTATGTGTT...\n",
      "||||||||||||||||||||||||||||||||||||||||||||||||||||||||||||||  |||||||||||...\n",
      "AAGTGTAAAGACTCAGTATAAGAAAAACAAAGACAAGCATTCCATCCCAATTCCTTTGGATGTGTTTTATGTGTT...\n",
      "****Alignment****\n",
      "sequence: gi|1143697030|gb|KX164195.1| Euroscaptor parvidens voucher ZIN:101923 apolipoprotein B (apoB) gene, partial cds\n",
      "length: 913\n",
      "E value: 3.39004e-36\n",
      "AAGTGTAAAGACTCAGTATAAGAAAAACAAAGACAAGCATTCCATCCCAATTCCTTTGGATGCATTTTATGTGTT...\n",
      "||||||||||||||||||||||||||||||||||||||||||||||||||||||||||||||  |||||||||||...\n",
      "AAGTGTAAAGACTCAGTATAAGAAAAACAAAGACAAGCATTCCATCCCAATTCCTTTGGATGTGTTTTATGTGTT...\n",
      "****Alignment****\n",
      "sequence: gi|1819700611|gb|MK168890.1| Mogera robusta isolate AVA 14-262 voucher ZIN 102801 apolipoprotein B (apoB) gene, partial cds\n",
      "length: 600\n",
      "E value: 3.39004e-36\n",
      "TTAAGTGTAAAGACTCAGTATAAGAAAAACAAAGACAAGCATTCCATCCCAATTCCTTTGGATGCATTTTATGTG...\n",
      "|||||||||||||||||||||||||||||||||||||||||||||||| |||||||||||||||  |||||||||...\n",
      "TTAAGTGTAAAGACTCAGTATAAGAAAAACAAAGACAAGCATTCCATCTCAATTCCTTTGGATGTGTTTTATGTG...\n",
      "****Alignment****\n",
      "sequence: gi|1819700609|gb|MK168889.1| Mogera robusta isolate 606 voucher FSCEATB 606 apolipoprotein B (apoB) gene, partial cds\n",
      "length: 596\n",
      "E value: 3.39004e-36\n",
      "TTAAGTGTAAAGACTCAGTATAAGAAAAACAAAGACAAGCATTCCATCCCAATTCCTTTGGATGCATTTTATGTG...\n",
      "|||||||||||||||||||||||||||||||||||||||||||||||| |||||||||||||||  |||||||||...\n",
      "TTAAGTGTAAAGACTCAGTATAAGAAAAACAAAGACAAGCATTCCATCTCAATTCCTTTGGATGTGTTTTATGTG...\n",
      "****Alignment****\n",
      "sequence: gi|1819700627|gb|MK168898.1| Mogera robusta isolate AVA 14-286 voucher ZIN 102805 apolipoprotein B (apoB) gene, partial cds\n",
      "length: 600\n",
      "E value: 3.39004e-36\n",
      "TTAAGTGTAAAGACTCAGTATAAGAAAAACAAAGACAAGCATTCCATCCCAATTCCTTTGGATGCATTTTATGTG...\n",
      "|||||||||||||||||||||||||||||||||||||||||||||||| |||||||||||||||  |||||||||...\n",
      "TTAAGTGTAAAGACTCAGTATAAGAAAAACAAAGACAAGCATTCCATCTCAATTCCTTTGGATGTGTTTTATGTG...\n",
      "****Alignment****\n",
      "sequence: gi|1819700625|gb|MK168897.1| Mogera robusta isolate AVA 16-112 voucher ZIN 104247 apolipoprotein B (apoB) gene, partial cds\n",
      "length: 600\n",
      "E value: 3.39004e-36\n",
      "TTAAGTGTAAAGACTCAGTATAAGAAAAACAAAGACAAGCATTCCATCCCAATTCCTTTGGATGCATTTTATGTG...\n",
      "|||||||||||||||||||||||||||||||||||||||||||||||| |||||||||||||||  |||||||||...\n",
      "TTAAGTGTAAAGACTCAGTATAAGAAAAACAAAGACAAGCATTCCATCTCAATTCCTTTGGATGTGTTTTATGTG...\n",
      "****Alignment****\n",
      "sequence: gi|1819700607|gb|MK168888.1| Mogera robusta isolate 607 voucher FSCEATB 607 apolipoprotein B (apoB) gene, partial cds\n",
      "length: 595\n",
      "E value: 3.39004e-36\n",
      "TTAAGTGTAAAGACTCAGTATAAGAAAAACAAAGACAAGCATTCCATCCCAATTCCTTTGGATGCATTTTATGTG...\n",
      "|||||||||||||||||||||||||||||||||||||||||||||||| |||||||||||||||  |||||||||...\n",
      "TTAAGTGTAAAGACTCAGTATAAGAAAAACAAAGACAAGCATTCCATCTCAATTCCTTTGGATGTGTTTTATGTG...\n",
      "****Alignment****\n",
      "sequence: gi|1819700623|gb|MK168896.1| Mogera robusta isolate AVA 16-137 voucher ZIN 104259 apolipoprotein B (apoB) gene, partial cds\n",
      "length: 600\n",
      "E value: 3.39004e-36\n",
      "TTAAGTGTAAAGACTCAGTATAAGAAAAACAAAGACAAGCATTCCATCCCAATTCCTTTGGATGCATTTTATGTG...\n",
      "|||||||||||||||||||||||||||||||||||||||||||||||| |||||||||||||||  |||||||||...\n",
      "TTAAGTGTAAAGACTCAGTATAAGAAAAACAAAGACAAGCATTCCATCTCAATTCCTTTGGATGTGTTTTATGTG...\n",
      "****Alignment****\n",
      "sequence: gi|1819700617|gb|MK168893.1| Mogera robusta isolate AVA 16-152 voucher ZIN 104271 apolipoprotein B (apoB) gene, partial cds\n",
      "length: 600\n",
      "E value: 3.39004e-36\n",
      "TTAAGTGTAAAGACTCAGTATAAGAAAAACAAAGACAAGCATTCCATCCCAATTCCTTTGGATGCATTTTATGTG...\n",
      "|||||||||||||||||||||||||||||||||||||||||||||||| |||||||||||||||  |||||||||...\n",
      "TTAAGTGTAAAGACTCAGTATAAGAAAAACAAAGACAAGCATTCCATCTCAATTCCTTTGGATGTGTTTTATGTG...\n",
      "****Alignment****\n",
      "sequence: gi|1819700603|gb|MK168886.1| Mogera robusta isolate 2117 voucher FSCEATB 2117 apolipoprotein B (apoB) gene, partial cds\n",
      "length: 600\n",
      "E value: 3.39004e-36\n",
      "TTAAGTGTAAAGACTCAGTATAAGAAAAACAAAGACAAGCATTCCATCCCAATTCCTTTGGATGCATTTTATGTG...\n",
      "|||||||||||||||||||||||||||||||||||||||||||||||| |||||||||||||||  |||||||||...\n",
      "TTAAGTGTAAAGACTCAGTATAAGAAAAACAAAGACAAGCATTCCATCTCAATTCCTTTGGATGTGTTTTATGTG...\n",
      "****Alignment****\n",
      "sequence: gi|1819700629|gb|MK168899.1| Mogera robusta isolate AVA 14-230 voucher ZIN 102795 apolipoprotein B (apoB) gene, partial cds\n",
      "length: 600\n",
      "E value: 3.39004e-36\n",
      "TTAAGTGTAAAGACTCAGTATAAGAAAAACAAAGACAAGCATTCCATCCCAATTCCTTTGGATGCATTTTATGTG...\n",
      "|||||||||||||||||||||||||||||||||||||||||||||||| |||||||||||||||  |||||||||...\n",
      "TTAAGTGTAAAGACTCAGTATAAGAAAAACAAAGACAAGCATTCCATCTCAATTCCTTTGGATGTGTTTTATGTG...\n",
      "****Alignment****\n",
      "sequence: gi|1819700631|gb|MK168900.1| Mogera robusta isolate AVA 14-210 voucher ZIN 102785 apolipoprotein B (apoB) gene, partial cds\n",
      "length: 600\n",
      "E value: 3.39004e-36\n",
      "TTAAGTGTAAAGACTCAGTATAAGAAAAACAAAGACAAGCATTCCATCCCAATTCCTTTGGATGCATTTTATGTG...\n",
      "|||||||||||||||||||||||||||||||||||||||||||||||| |||||||||||||||  |||||||||...\n",
      "TTAAGTGTAAAGACTCAGTATAAGAAAAACAAAGACAAGCATTCCATCTCAATTCCTTTGGATGTGTTTTATGTG...\n",
      "****Alignment****\n",
      "sequence: gi|1819700613|gb|MK168891.1| Mogera robusta isolate AVA 16-180 voucher ZIN 104279 apolipoprotein B (apoB) gene, partial cds\n",
      "length: 600\n",
      "E value: 3.39004e-36\n",
      "TTAAGTGTAAAGACTCAGTATAAGAAAAACAAAGACAAGCATTCCATCCCAATTCCTTTGGATGCATTTTATGTG...\n",
      "|||||||||||||||||||||||||||||||||||||||||||||||| |||||||||||||||  |||||||||...\n",
      "TTAAGTGTAAAGACTCAGTATAAGAAAAACAAAGACAAGCATTCCATCTCAATTCCTTTGGATGTGTTTTATGTG...\n",
      "****Alignment****\n",
      "sequence: gi|1819700605|gb|MK168887.1| Mogera robusta isolate 707 voucher FSCEATB 707 apolipoprotein B (apoB) gene, partial cds\n",
      "length: 600\n",
      "E value: 3.39004e-36\n",
      "TTAAGTGTAAAGACTCAGTATAAGAAAAACAAAGACAAGCATTCCATCCCAATTCCTTTGGATGCATTTTATGTG...\n",
      "|||||||||||||||||||||||||||||||||||||||||||||||| |||||||||||||||  |||||||||...\n",
      "TTAAGTGTAAAGACTCAGTATAAGAAAAACAAAGACAAGCATTCCATCTCAATTCCTTTGGATGTGTTTTATGTG...\n",
      "****Alignment****\n",
      "sequence: gi|1819700621|gb|MK168895.1| Mogera robusta isolate AVA 16-150 voucher ZIN 104269 apolipoprotein B (apoB) gene, partial cds\n",
      "length: 600\n",
      "E value: 3.39004e-36\n",
      "TTAAGTGTAAAGACTCAGTATAAGAAAAACAAAGACAAGCATTCCATCCCAATTCCTTTGGATGCATTTTATGTG...\n",
      "|||||||||||||||||||||||||||||||||||||||||||||||| |||||||||||||||  |||||||||...\n",
      "TTAAGTGTAAAGACTCAGTATAAGAAAAACAAAGACAAGCATTCCATCTCAATTCCTTTGGATGTGTTTTATGTG...\n",
      "****Alignment****\n",
      "sequence: gi|1819700619|gb|MK168894.1| Mogera robusta isolate AVA 16-151 voucher ZIN 104270 apolipoprotein B (apoB) gene, partial cds\n",
      "length: 600\n",
      "E value: 3.39004e-36\n",
      "TTAAGTGTAAAGACTCAGTATAAGAAAAACAAAGACAAGCATTCCATCCCAATTCCTTTGGATGCATTTTATGTG...\n",
      "|||||||||||||||||||||||||||||||||||||||||||||||| |||||||||||||||  |||||||||...\n",
      "TTAAGTGTAAAGACTCAGTATAAGAAAAACAAAGACAAGCATTCCATCTCAATTCCTTTGGATGTGTTTTATGTG...\n"
     ]
    }
   ],
   "source": [
    "E_VALUE_THRESH = 0.04\n",
    "for alignment in blast_records.alignments:\n",
    "    for hsp in alignment.hsps:\n",
    "        if hsp.expect < E_VALUE_THRESH and alignment.length > 300:\n",
    "            print(\"****Alignment****\")\n",
    "            print(\"sequence:\", alignment.title)\n",
    "            print(\"length:\", alignment.length)\n",
    "            print(\"E value:\", hsp.expect)\n",
    "            print(hsp.query[0:75] + \"...\")\n",
    "            print(hsp.match[0:75] + \"...\")\n",
    "            print(hsp.sbjct[0:75] + \"...\")"
   ]
  },
  {
   "cell_type": "code",
   "execution_count": null,
   "id": "d7fc8ffd-99c1-4fbf-8508-22d0d21d724d",
   "metadata": {},
   "outputs": [],
   "source": []
  }
 ],
 "metadata": {
  "kernelspec": {
   "display_name": "Python 3 (ipykernel)",
   "language": "python",
   "name": "python3"
  },
  "language_info": {
   "codemirror_mode": {
    "name": "ipython",
    "version": 3
   },
   "file_extension": ".py",
   "mimetype": "text/x-python",
   "name": "python",
   "nbconvert_exporter": "python",
   "pygments_lexer": "ipython3",
   "version": "3.12.4"
  }
 },
 "nbformat": 4,
 "nbformat_minor": 5
}
