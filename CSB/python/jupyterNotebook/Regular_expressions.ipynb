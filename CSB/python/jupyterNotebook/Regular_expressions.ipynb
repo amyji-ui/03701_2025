{
 "cells": [
  {
   "cell_type": "markdown",
   "id": "01963245-a9a5-4180-8f16-419627cc8a33",
   "metadata": {},
   "source": [
    "# Python Regular Expressions"
   ]
  },
  {
   "cell_type": "markdown",
   "id": "2bbdfffb-d6ad-4f52-afbf-e23d68a9dadd",
   "metadata": {},
   "source": [
    "### Raw string notation and escaping metacharacters\n",
    "* Raw string notation: `r\"string\"`\n",
    "    * `\"This is a string.\"`\n",
    "    * `r\"This is a raw string.\\n\"` -> treates `\\` as literal characters, not as escape sequences.\n",
    "* Escaping metacharacters\n",
    "    * Use another `\\` -> `\\\\n`"
   ]
  },
  {
   "cell_type": "code",
   "execution_count": null,
   "id": "6986c893-b1ea-4722-abd2-569a6c42ca2a",
   "metadata": {},
   "outputs": [],
   "source": []
  },
  {
   "cell_type": "code",
   "execution_count": null,
   "id": "e2f518e1-ad72-4369-85d9-353778d7faef",
   "metadata": {},
   "outputs": [],
   "source": []
  },
  {
   "cell_type": "code",
   "execution_count": null,
   "id": "232f4797-642d-4e31-9ceb-e22c99c68d1a",
   "metadata": {},
   "outputs": [],
   "source": []
  },
  {
   "cell_type": "code",
   "execution_count": null,
   "id": "11f82874-cd1e-492b-bd99-6090103e75dc",
   "metadata": {},
   "outputs": [],
   "source": []
  },
  {
   "cell_type": "code",
   "execution_count": null,
   "id": "eacc8362-c4d4-4690-8327-1ec00e89ab33",
   "metadata": {},
   "outputs": [],
   "source": []
  },
  {
   "cell_type": "markdown",
   "id": "95a93eda-5387-4790-a45d-195adb4c128f",
   "metadata": {},
   "source": [
    "### Python built-in module for regular expressions: ***re***"
   ]
  },
  {
   "cell_type": "code",
   "execution_count": 3,
   "id": "a12b531c-5a9d-45d1-850c-05181cd62de7",
   "metadata": {},
   "outputs": [],
   "source": [
    "import re"
   ]
  },
  {
   "cell_type": "code",
   "execution_count": 13,
   "id": "afdf3603-c0bf-449e-9e32-b1ec5ea330ed",
   "metadata": {},
   "outputs": [],
   "source": [
    "my_string = \"a given string\"\n",
    "m = re.search(\"given\", my_string)"
   ]
  },
  {
   "cell_type": "markdown",
   "id": "d58c38df-a416-49a7-9ca0-a9cd1cee5445",
   "metadata": {},
   "source": [
    "m is a match object"
   ]
  },
  {
   "cell_type": "code",
   "execution_count": 14,
   "id": "d86c8ee7-fc6f-49f1-bf9a-bc4d93a3f40d",
   "metadata": {},
   "outputs": [
    {
     "name": "stdout",
     "output_type": "stream",
     "text": [
      "<re.Match object; span=(2, 7), match='given'>\n"
     ]
    }
   ],
   "source": [
    "print(m)"
   ]
  },
  {
   "cell_type": "markdown",
   "id": "c50c86fa-a3a8-4366-a7d8-e97c374d0203",
   "metadata": {},
   "source": [
    ".group() -> the string of matched pattern"
   ]
  },
  {
   "cell_type": "code",
   "execution_count": 15,
   "id": "2f5ca1ea-b6e0-4a8d-983e-131040c2a1b7",
   "metadata": {},
   "outputs": [
    {
     "data": {
      "text/plain": [
       "'given'"
      ]
     },
     "execution_count": 15,
     "metadata": {},
     "output_type": "execute_result"
    }
   ],
   "source": [
    "m.group()"
   ]
  },
  {
   "cell_type": "code",
   "execution_count": null,
   "id": "37e439de-01f1-4133-8e3e-aba95d39e6c4",
   "metadata": {},
   "outputs": [],
   "source": []
  },
  {
   "cell_type": "markdown",
   "id": "d69074d5-06c2-486f-92a6-e8294f9c7f58",
   "metadata": {},
   "source": [
    "### Building regular expressions"
   ]
  },
  {
   "cell_type": "markdown",
   "id": "decc4bcb-f814-420f-b9ff-9314f1ed0cca",
   "metadata": {},
   "source": [
    "#### Metacharacters"
   ]
  },
  {
   "cell_type": "markdown",
   "id": "0d06e9c1-d89d-4659-838e-3befcd69c3cd",
   "metadata": {},
   "source": [
    "We define metacharacters by prepending a backslask `\\`\n",
    "* `\\n` -> match a newline\n",
    "* `\\t` -> match a tab\n",
    "* `\\s` -> match white space\n",
    "* `\\w` -> match a \"word character\"\n",
    "* `\\d` -> match a digit\n",
    "* `.`  -> match any character"
   ]
  },
  {
   "cell_type": "markdown",
   "id": "75907b29-746a-425b-a95f-7ca9086fd32f",
   "metadata": {},
   "source": [
    "Match a white space"
   ]
  },
  {
   "cell_type": "code",
   "execution_count": 20,
   "id": "e875a112-6ea5-4e16-b9a9-852c35005a2e",
   "metadata": {},
   "outputs": [
    {
     "name": "stdout",
     "output_type": "stream",
     "text": [
      "a given string\n",
      "<re.Match object; span=(1, 2), match=' '>\n"
     ]
    },
    {
     "data": {
      "text/plain": [
       "' '"
      ]
     },
     "execution_count": 20,
     "metadata": {},
     "output_type": "execute_result"
    }
   ],
   "source": [
    "# match white space \\s\n",
    "m = re.search(r\"\\s\", my_string)\n",
    "print(my_string)\n",
    "print(m)\n",
    "m.group()"
   ]
  },
  {
   "cell_type": "markdown",
   "id": "2a6c2ded-ae10-44fa-87ef-0b30b5b8e834",
   "metadata": {},
   "source": [
    "Match a white space followed by five \"word\" characters"
   ]
  },
  {
   "cell_type": "code",
   "execution_count": 21,
   "id": "8a67aa3f-d91a-4365-ace9-f49229f768b6",
   "metadata": {},
   "outputs": [
    {
     "name": "stdout",
     "output_type": "stream",
     "text": [
      "<re.Match object; span=(1, 7), match=' given'>\n"
     ]
    },
    {
     "data": {
      "text/plain": [
       "' given'"
      ]
     },
     "execution_count": 21,
     "metadata": {},
     "output_type": "execute_result"
    }
   ],
   "source": [
    "m = re.search(r\"\\s\\w\\w\\w\\w\\w\", my_string)\n",
    "print(m)\n",
    "m.group()"
   ]
  },
  {
   "cell_type": "markdown",
   "id": "c2f30269-294f-4f48-8808-2f2de818a31f",
   "metadata": {},
   "source": [
    "Note that re.search returns only the first instance."
   ]
  },
  {
   "cell_type": "markdown",
   "id": "26636448-4734-463a-b6d1-53c2bb325ba4",
   "metadata": {},
   "source": [
    "#### Sets\n",
    "Sets --> `[]`, provide several options or a range of characters to match"
   ]
  },
  {
   "cell_type": "code",
   "execution_count": 23,
   "id": "d50da1c9-e7fe-441c-b7fc-c66c52d47490",
   "metadata": {},
   "outputs": [
    {
     "name": "stdout",
     "output_type": "stream",
     "text": [
      "<re.Match object; span=(0, 3), match='sun'>\n"
     ]
    },
    {
     "data": {
      "text/plain": [
       "'sun'"
      ]
     },
     "execution_count": 23,
     "metadata": {},
     "output_type": "execute_result"
    }
   ],
   "source": [
    "my_string = \"sunflowers are described on page 89\"\n",
    "# match lowercase or uppercase \"s\" followed by two word characters\n",
    "m = re.search(r\"[sS]\\w\\w\", my_string)\n",
    "print(m)\n",
    "m.group()"
   ]
  },
  {
   "cell_type": "code",
   "execution_count": 25,
   "id": "da8cfe30-5ccf-4e81-ba79-b1634287479d",
   "metadata": {},
   "outputs": [
    {
     "name": "stdout",
     "output_type": "stream",
     "text": [
      "<re.Match object; span=(33, 35), match='89'>\n"
     ]
    },
    {
     "data": {
      "text/plain": [
       "'89'"
      ]
     },
     "execution_count": 25,
     "metadata": {},
     "output_type": "execute_result"
    }
   ],
   "source": [
    "# search for a number with two digits\n",
    "m = re.search(r\"[0-9][0-9]\", my_string)\n",
    "print(m)\n",
    "m.group()"
   ]
  },
  {
   "cell_type": "markdown",
   "id": "c7f34f4b-4e4d-4547-afcc-ce3535c48519",
   "metadata": {},
   "source": [
    "A caret `^` as the frist symbol within a set `[^]`--> match any character not listed in the set"
   ]
  },
  {
   "cell_type": "code",
   "execution_count": 26,
   "id": "8fdf32c6-8a61-453f-9de4-5e94072fce69",
   "metadata": {},
   "outputs": [
    {
     "data": {
      "text/plain": [
       "'nflower'"
      ]
     },
     "execution_count": 26,
     "metadata": {},
     "output_type": "execute_result"
    }
   ],
   "source": [
    "# Match a character not in s-z followed by 6 word characters\n",
    "m = re.search(r\"[^s-z]\\w\\w\\w\\w\\w\\w\", my_string)\n",
    "m.group()"
   ]
  },
  {
   "cell_type": "markdown",
   "id": "de3d5ddf-f0e7-4136-88eb-52d4a3adb16b",
   "metadata": {},
   "source": [
    "#### Quantifiers"
   ]
  },
  {
   "cell_type": "markdown",
   "id": "05734951-f83d-4f82-b1b8-0db020ae3f3b",
   "metadata": {},
   "source": [
    "Quantifiers: determine how many characters of a certain type to expect.\n",
    "* `?` -> match zero or one time\n",
    "* `*` -> match zero or more times\n",
    "* `+` -> match one or more times\n",
    "* `{n}` -> match exactly n times.\n",
    "* `{n,}` -> match at least n times.\n",
    "* `{n, m}` -> match at least n but not more than m times. "
   ]
  },
  {
   "cell_type": "markdown",
   "id": "8c984bc5-561e-425a-8e20-cafe75ef6d0d",
   "metadata": {},
   "source": [
    "Match one or more letters A, C, G or T"
   ]
  },
  {
   "cell_type": "code",
   "execution_count": 39,
   "id": "f4f39c56-6436-4ba3-a206-3bacc152d205",
   "metadata": {},
   "outputs": [],
   "source": [
    "motif = \"ATTTGT AT\""
   ]
  },
  {
   "cell_type": "code",
   "execution_count": 41,
   "id": "e99ed07b-8aff-4ebd-a1e7-235fb2348a29",
   "metadata": {},
   "outputs": [
    {
     "name": "stdout",
     "output_type": "stream",
     "text": [
      "<re.Match object; span=(0, 6), match='ATTTGT'>\n"
     ]
    }
   ],
   "source": [
    "#Match 1 or more letters of A, C, G or T\n",
    "n = re.search(r\"[ATCG]+\", motif)\n",
    "print(n)"
   ]
  },
  {
   "cell_type": "markdown",
   "id": "07cad734-8031-4c8c-8371-531018208561",
   "metadata": {},
   "source": [
    "Match any sequence of 3 or more letters, each of which must be A, C, G or T"
   ]
  },
  {
   "cell_type": "code",
   "execution_count": 42,
   "id": "290473a2-4733-42be-b7f3-22717b5c47b9",
   "metadata": {},
   "outputs": [
    {
     "name": "stdout",
     "output_type": "stream",
     "text": [
      "<re.Match object; span=(0, 6), match='ATTTGT'>\n"
     ]
    }
   ],
   "source": [
    "n = re.search(r\"[ACGT]{3,}\", motif)\n",
    "print(n)"
   ]
  },
  {
   "cell_type": "code",
   "execution_count": null,
   "id": "bb3d62ac-467f-4933-81a8-21600d904fdc",
   "metadata": {},
   "outputs": [],
   "source": []
  },
  {
   "cell_type": "code",
   "execution_count": null,
   "id": "e9e92769-6742-40a9-98e0-9cc34c5cafd1",
   "metadata": {},
   "outputs": [],
   "source": []
  },
  {
   "cell_type": "code",
   "execution_count": null,
   "id": "c25fb120-6f82-4622-bd2d-254789f6fd59",
   "metadata": {},
   "outputs": [],
   "source": []
  },
  {
   "cell_type": "code",
   "execution_count": null,
   "id": "1377de5a-09cb-4c77-bd22-f0894dfba141",
   "metadata": {},
   "outputs": [],
   "source": []
  },
  {
   "cell_type": "markdown",
   "id": "114c2bba-fa66-4717-855e-9dd593bddfdb",
   "metadata": {},
   "source": [
    "Combining `*` and `?`     \n",
    "Example\n",
    "* `.*\\s` -> match any number of characters followed by a white space\n",
    "* `.?\\s` -> match any character once followed by a white space\n",
    "* `.*?\\s` -> match any number of characters followed by a white space once"
   ]
  },
  {
   "cell_type": "code",
   "execution_count": 43,
   "id": "f91c46c1-c492-40bc-acc8-f0cb44dadee0",
   "metadata": {},
   "outputs": [
    {
     "data": {
      "text/plain": [
       "'once upon a '"
      ]
     },
     "execution_count": 43,
     "metadata": {},
     "output_type": "execute_result"
    }
   ],
   "source": [
    "my_string = \"once upon a time\"\n",
    "# match any number of characters\n",
    "# followed by a white space\n",
    "m = re.search(r\".*\\s\", my_string)\n",
    "m.group()"
   ]
  },
  {
   "cell_type": "code",
   "execution_count": 44,
   "id": "972d279c-feba-4331-b29e-37451a024724",
   "metadata": {},
   "outputs": [
    {
     "data": {
      "text/plain": [
       "'e '"
      ]
     },
     "execution_count": 44,
     "metadata": {},
     "output_type": "execute_result"
    }
   ],
   "source": [
    "m = re.search(r\".?\\s\", my_string)\n",
    "m.group()"
   ]
  },
  {
   "cell_type": "code",
   "execution_count": 45,
   "id": "eda26223-ce1d-45df-b17b-74d9d3c3df6a",
   "metadata": {},
   "outputs": [
    {
     "data": {
      "text/plain": [
       "'once '"
      ]
     },
     "execution_count": 45,
     "metadata": {},
     "output_type": "execute_result"
    }
   ],
   "source": [
    "m = re.search(r\".*?\\s\", my_string)\n",
    "m.group()"
   ]
  },
  {
   "cell_type": "code",
   "execution_count": 52,
   "id": "a06fa997-55ea-4de4-b7b7-9a8272093850",
   "metadata": {},
   "outputs": [
    {
     "data": {
      "text/plain": [
       "<re.Match object; span=(9, 12), match=' a '>"
      ]
     },
     "execution_count": 52,
     "metadata": {},
     "output_type": "execute_result"
    }
   ],
   "source": [
    "m = re.search(r\"\\s\\w\\s\", my_string)\n",
    "m"
   ]
  },
  {
   "cell_type": "markdown",
   "id": "c689716e-7e0c-4b8f-9f1d-aedc3b6e9dcf",
   "metadata": {},
   "source": [
    "#### Anchors"
   ]
  },
  {
   "cell_type": "markdown",
   "id": "b62057e2-f04a-4d25-9db1-0d9e025410ab",
   "metadata": {},
   "source": [
    "* `^` -> match the beginning of a string     \n",
    "* `$` -> match the end of a string"
   ]
  },
  {
   "cell_type": "code",
   "execution_count": null,
   "id": "38d14564-0c72-45e8-b7bc-af2d002d8fc1",
   "metadata": {},
   "outputs": [],
   "source": [
    "my_string = \"ATATA\"\n",
    "m = re.search()"
   ]
  },
  {
   "cell_type": "code",
   "execution_count": null,
   "id": "5e77c11b-7eee-43dd-9c44-69e5a904b400",
   "metadata": {},
   "outputs": [],
   "source": [
    "# searching at the end of the string\n"
   ]
  },
  {
   "cell_type": "markdown",
   "id": "3aba8785-ecb2-4fe3-bf38-26eeaf35c073",
   "metadata": {},
   "source": [
    "##### Intermezzo 5.1\n",
    "Write down the search pattern in the following regular expressions, and check the result by runing the code. "
   ]
  },
  {
   "cell_type": "code",
   "execution_count": 53,
   "id": "3ebf091b-5838-4e28-ab1c-da6505a7d6d6",
   "metadata": {},
   "outputs": [
    {
     "data": {
      "text/plain": [
       "'2'"
      ]
     },
     "execution_count": 53,
     "metadata": {},
     "output_type": "execute_result"
    }
   ],
   "source": [
    "# a. \n",
    "re.search(r\"\\d\", \"it takes 2 to tango\").group()"
   ]
  },
  {
   "cell_type": "code",
   "execution_count": 54,
   "id": "120e9395-0905-41b3-b784-0ac9d0afc5c1",
   "metadata": {},
   "outputs": [
    {
     "data": {
      "text/plain": [
       "'take 2 grames of H2'"
      ]
     },
     "execution_count": 54,
     "metadata": {},
     "output_type": "execute_result"
    }
   ],
   "source": [
    "# b\n",
    "re.search(r\"\\w*\\s\\d.*\\d\", \"take 2 grames of H2O\").group()"
   ]
  },
  {
   "cell_type": "code",
   "execution_count": 55,
   "id": "7e1cdc0e-02f9-4f9c-a034-939166dc11dc",
   "metadata": {},
   "outputs": [
    {
     "data": {
      "text/plain": [
       "' upon '"
      ]
     },
     "execution_count": 55,
     "metadata": {},
     "output_type": "execute_result"
    }
   ],
   "source": [
    "# c. \n",
    "re.search(r\"\\s\\w*\\s\", \"once upon at time\").group()"
   ]
  },
  {
   "cell_type": "code",
   "execution_count": 56,
   "id": "fa19975f-768a-4acc-b94e-f629877919b5",
   "metadata": {},
   "outputs": [
    {
     "data": {
      "text/plain": [
       "' upon at '"
      ]
     },
     "execution_count": 56,
     "metadata": {},
     "output_type": "execute_result"
    }
   ],
   "source": [
    "# Note:\n",
    "re.search(r\"\\s\\w.*\\s\", \"once upon at time\").group()"
   ]
  },
  {
   "cell_type": "code",
   "execution_count": 57,
   "id": "fe2128c8-fadd-4711-8ead-7d972c069479",
   "metadata": {},
   "outputs": [
    {
     "data": {
      "text/plain": [
       "' at '"
      ]
     },
     "execution_count": 57,
     "metadata": {},
     "output_type": "execute_result"
    }
   ],
   "source": [
    "# d. \n",
    "re.search(r\"\\s\\w{1,3}\\s\", \"once upon at time\").group()"
   ]
  },
  {
   "cell_type": "code",
   "execution_count": 58,
   "id": "96a7a64b-be6b-4841-893e-f08f2b46dde5",
   "metadata": {},
   "outputs": [
    {
     "data": {
      "text/plain": [
       "' time'"
      ]
     },
     "execution_count": 58,
     "metadata": {},
     "output_type": "execute_result"
    }
   ],
   "source": [
    "# e. \n",
    "re.search(r\"\\s\\w*$\", \"once upon at time\").group()"
   ]
  },
  {
   "cell_type": "markdown",
   "id": "fbb02a06-e3f6-49f3-9964-099148b747a1",
   "metadata": {},
   "source": [
    "#### Alternations\n",
    "* use pipe symbol `|` to provide alternations.  "
   ]
  },
  {
   "cell_type": "code",
   "execution_count": null,
   "id": "5b580d79-a59e-4325-8f23-725ccae95a0a",
   "metadata": {},
   "outputs": [],
   "source": [
    "my_string = \"I found my cat!\"\n"
   ]
  },
  {
   "cell_type": "markdown",
   "id": "360cb0c8-fd91-4352-92f5-f3794adf083a",
   "metadata": {},
   "source": [
    "#### Regular expression with raw string"
   ]
  },
  {
   "cell_type": "markdown",
   "id": "ea1801c1-38c9-4b79-92e2-a4ab474ae114",
   "metadata": {},
   "source": [
    "What if we want to search for `?`, `*`, `+` in data? -> Use `\\` in front"
   ]
  },
  {
   "cell_type": "markdown",
   "id": "4a641ecc-4b0d-4bf6-86c5-6607a55c2911",
   "metadata": {},
   "source": [
    "Example: search number of line contain the `*` sign in file Marra2014_BLAST_data.txt"
   ]
  },
  {
   "cell_type": "code",
   "execution_count": 73,
   "id": "8bbb4093-94f3-4ff2-a73e-b6a059bd78dd",
   "metadata": {},
   "outputs": [
    {
     "name": "stdout",
     "output_type": "stream",
     "text": [
      "contig01987\t2b14_human ame: full=hla class ii histocompatibility drb1-4 beta chain ame: full=mhc class ii antigen drb1*4 short=dr-4 short=dr4 flags: precursor\t112\t5\t5.07E-10\t78.60%\n",
      "\n",
      "contig05816\t1c08_human ame: full=hla class i histocompatibility cw-8 alpha chain ame: full=mhc class i antigen cw*8 flags: precursor\t825\t5\t1.06E-97\t67.80%\n",
      "\n",
      "contig05821\t1b46_human ame: full=hla class i histocompatibility b-46 alpha chain ame: full=bw-46 ame: full=mhc class i antigen b*46 flags: precursor\t606\t5\t9.86E-09\t67.60%\n",
      "\n",
      "contig22120\t2b11_human ame: full=hla class ii histocompatibility drb1-1 beta chain ame: full=mhc class ii antigen drb1*1 short=dr-1 short=dr1 flags: precursor\t137\t5\t5.05E-11\t76.80%\n",
      "\n",
      "contig23154\tmmrn1_human ame: full=multimerin-1 ame: full=emilin-4 ame: full=elastin microfibril interface located protein 4 short=elastin microfibril interfacer 4 ame: full=endothelial cell multimerin contains: ame: full=platelet glycoprotein ia* contains: ame: full=155 kda platelet multimerin short=p-155 short=p155 flags: precursor\t4524\t5\t0\t62.00%\n",
      "\n",
      "contig27667\tud13_human ame: full=udp-glucuronosyltransferase 1-3 short=udpgt 1-3 short=ugt1*3 short=ugt1-03 short= ame: full=udp-glucuronosyltransferase 1-c short=ugt-1c short=ugt1c ame: full=udp-glucuronosyltransferase 1a3 flags: precursor\t1818\t5\t0\t84.40%\n",
      "\n",
      "The pattern was matched in 6 lines\n"
     ]
    }
   ],
   "source": [
    "# read the .fasta file as pyfaidx.Fasta data type\n",
    "with open(\"../../regex/data/Marra2014_BLAST_data.txt\") as f:\n",
    "    counter = 0\n",
    "    # search for pattern in each line \n",
    "    for line in f:\n",
    "        m = re.search(r\"\\*\", line)\n",
    "        # only if a match was found, increase counter and print the line\n",
    "        if m:\n",
    "            counter += 1\n",
    "            print(line)\n",
    "print(\"The pattern was matched in {0} lines\".format(counter))"
   ]
  },
  {
   "cell_type": "markdown",
   "id": "64dac6f8-5096-4920-a6a6-7e608e28d3a3",
   "metadata": {},
   "source": [
    "Note: `if m:` checks whether a regex search has found matches      \n",
    "            if no match -> `False`      \n",
    "            any match -> `True`"
   ]
  },
  {
   "cell_type": "code",
   "execution_count": null,
   "id": "2ec129a4-8b78-418a-9868-dc4075b7a39c",
   "metadata": {},
   "outputs": [],
   "source": []
  },
  {
   "cell_type": "markdown",
   "id": "9304c88d-90a5-4a7c-90c3-dc5f6d3995b9",
   "metadata": {},
   "source": [
    "The above code finds lines match:\n",
    "* `mhc`\n",
    "* `[\\s\\w*]+` -> followed by a white space, and followed by zero or more letters for one or more times\n",
    "* `\\*` -> followed by the `*` sign\n",
    "* `\\w*` -> followed by any numbers of letters"
   ]
  },
  {
   "cell_type": "markdown",
   "id": "8bdb95f2-f470-4f5c-9891-51415211b19d",
   "metadata": {},
   "source": [
    "### Functions of the re module"
   ]
  },
  {
   "cell_type": "markdown",
   "id": "df5639cc-ac71-464e-9a78-41efebc377f9",
   "metadata": {},
   "source": [
    "* `re.finall(reg, target_string)` -> return a list of all the matches\n",
    "* `re.finditer(reg, target_string)` -> return an iterator of match object (usefull in for loops to allow access to the next match)\n",
    "* `re.compile(reg)` -> store a pattern for repeated use\n",
    "* `re.split(reg, target_string)` -> split the text by the pattern\n",
    "* `re.sub(reg, repl, target_string)` -> substitute each nonoverlapping occurence of the match with the text in `repl`"
   ]
  },
  {
   "cell_type": "code",
   "execution_count": 1,
   "id": "57491a6a-15c2-4e51-ba9b-65dbf1589f04",
   "metadata": {},
   "outputs": [],
   "source": [
    "import re\n",
    "import pyfaidx"
   ]
  },
  {
   "cell_type": "markdown",
   "id": "474e12e9-408a-4cf7-952c-5b8ff4c1c1d9",
   "metadata": {},
   "source": [
    "If your python does not have this module, install by     \n",
    "`%pip install pyfaidx`"
   ]
  },
  {
   "cell_type": "markdown",
   "id": "03a89db5-b5e7-40dd-806d-6beb43b24946",
   "metadata": {
    "jp-MarkdownHeadingCollapsed": true
   },
   "source": [
    "The **pyfaidx** module --> facilitates working with FASTA files.    \n",
    "\n",
    "**pyfaidx.Fasta** object behaves like a dictionary.       \n",
    "* keys -> the sequence names        \n",
    "* values -> FastaRecord\n",
    "* Slicing FastaRecord gives pyfaidx.Sequence object\n",
    "* pyfaidx.Sequence object has an attribute `.seq` that contains the sequence string."
   ]
  },
  {
   "cell_type": "code",
   "execution_count": 7,
   "id": "f82e5f34-1cb7-494a-9372-2fb5adbe3da8",
   "metadata": {},
   "outputs": [],
   "source": [
    "file_path = \"../../regex/data/Ecoli.fasta\"\n",
    "genes = pyfaidx.Fasta(file_path)"
   ]
  },
  {
   "cell_type": "code",
   "execution_count": 8,
   "id": "a5835263-6b81-424d-bab2-8eaa5ec84b18",
   "metadata": {},
   "outputs": [
    {
     "data": {
      "text/plain": [
       "odict_items([('gi|556503834|ref|NC_000913.3|:1978338-2028069', FastaRecord(\"gi|556503834|ref|NC_000913.3|:1978338-2028069\")), ('gi|556503834|ref|NC_000913.3|:4035299-4037302', FastaRecord(\"gi|556503834|ref|NC_000913.3|:4035299-4037302\"))])"
      ]
     },
     "execution_count": 8,
     "metadata": {},
     "output_type": "execute_result"
    }
   ],
   "source": [
    "genes.items()"
   ]
  },
  {
   "cell_type": "code",
   "execution_count": 9,
   "id": "cfc26dc3-bd93-46f1-93b7-df88fc30c9b4",
   "metadata": {},
   "outputs": [
    {
     "data": {
      "text/plain": [
       "['gi|556503834|ref|NC_000913.3|:1978338-2028069',\n",
       " 'gi|556503834|ref|NC_000913.3|:4035299-4037302']"
      ]
     },
     "execution_count": 9,
     "metadata": {},
     "output_type": "execute_result"
    }
   ],
   "source": [
    "records = list(genes.keys())\n",
    "records"
   ]
  },
  {
   "cell_type": "code",
   "execution_count": 10,
   "id": "921ab86e-3793-453f-b93f-f25f281649cb",
   "metadata": {},
   "outputs": [],
   "source": [
    "# extract first sequence from genes dictionary\n",
    "# get sequence start to finish\n",
    "seq1 = genes[records[0]][:]"
   ]
  },
  {
   "cell_type": "code",
   "execution_count": 11,
   "id": "6fb6b887-79e1-44f8-96bb-f64d93caffdf",
   "metadata": {},
   "outputs": [
    {
     "data": {
      "text/plain": [
       "pyfaidx.Sequence"
      ]
     },
     "execution_count": 11,
     "metadata": {},
     "output_type": "execute_result"
    }
   ],
   "source": [
    "type(seq1)"
   ]
  },
  {
   "cell_type": "code",
   "execution_count": 12,
   "id": "d914bbb6-a757-4321-96c8-cce80fab0f44",
   "metadata": {},
   "outputs": [
    {
     "data": {
      "text/plain": [
       "49732"
      ]
     },
     "execution_count": 12,
     "metadata": {},
     "output_type": "execute_result"
    }
   ],
   "source": [
    "# Length of sequence\n",
    "seq1.end"
   ]
  },
  {
   "cell_type": "code",
   "execution_count": 13,
   "id": "09870d13-ef7a-42ed-9bf7-5a7b6e09f7ab",
   "metadata": {},
   "outputs": [],
   "source": [
    "# Get the sequence as a string\n",
    "seq1_str = seq1.seq"
   ]
  },
  {
   "cell_type": "code",
   "execution_count": 14,
   "id": "c6985b24-5cac-4fda-ba8c-e6d1046781cf",
   "metadata": {},
   "outputs": [
    {
     "data": {
      "text/plain": [
       "'AATATGTCCTTACAAATAGAAATGGGTCTTTACACTTATC'"
      ]
     },
     "execution_count": 14,
     "metadata": {},
     "output_type": "execute_result"
    }
   ],
   "source": [
    "# print the first 40 nucleotides\n",
    "seq1_str[:40]"
   ]
  },
  {
   "cell_type": "code",
   "execution_count": 15,
   "id": "f8cecef7-8db2-4165-9849-6642bd1ebf33",
   "metadata": {},
   "outputs": [
    {
     "data": {
      "text/plain": [
       "'GATC'"
      ]
     },
     "execution_count": 15,
     "metadata": {},
     "output_type": "execute_result"
    }
   ],
   "source": [
    "# search for the pattern \"GATC\" with re\n",
    "m = re.search(r\"GATC\", seq1_str)\n",
    "m.group()"
   ]
  },
  {
   "cell_type": "code",
   "execution_count": null,
   "id": "d316e1a7-160f-4d5c-82ff-0652f569b42b",
   "metadata": {},
   "outputs": [],
   "source": [
    "# extract the start and end positions of the match\n",
    "m.start()"
   ]
  },
  {
   "cell_type": "code",
   "execution_count": null,
   "id": "214b02c2-8c28-42f7-baf4-02de1ea4e9e2",
   "metadata": {},
   "outputs": [],
   "source": [
    "m.end()"
   ]
  },
  {
   "cell_type": "markdown",
   "id": "f210bf81-b5f5-4e07-a458-bdfe6ed97189",
   "metadata": {},
   "source": [
    "To find all matches, use `re.findall()`"
   ]
  },
  {
   "cell_type": "code",
   "execution_count": 18,
   "id": "2db615a5-f250-48f9-8880-2cef3ca28563",
   "metadata": {},
   "outputs": [
    {
     "name": "stdout",
     "output_type": "stream",
     "text": [
      "There are 6 items\n",
      "['AACAGCATCGTGC', 'AACTGGCGGGTGC', 'GCACCACCGCGTT', 'GCACAACAAGGTT', 'GCACCGCTGGGTT', 'AACCTGCCGGTGC']\n"
     ]
    }
   ],
   "source": [
    "# find in seq1_str for all matches for\n",
    "# pattern: AACNNNNNNGTGC and GCACNNNNNNGTT\n",
    "m = re.findall(r\"AAC[ATCG]{6}GTGC|GCAC[ATCG]{6}GTT\", seq1_str)\n",
    "if m:\n",
    "    print(\"There are\", len(m), \"items\")\n",
    "    print(m)"
   ]
  },
  {
   "cell_type": "markdown",
   "id": "588c91f2-49f4-43ff-98ef-40d52b92fb20",
   "metadata": {},
   "source": [
    "To find all matches and get their positions, use `re.finditer()`"
   ]
  },
  {
   "cell_type": "code",
   "execution_count": 19,
   "id": "27137403-c37c-40a2-b6e7-b9abf1dc1779",
   "metadata": {},
   "outputs": [
    {
     "name": "stdout",
     "output_type": "stream",
     "text": [
      "18452 AACAGCATCGTGC\n",
      "18750 AACTGGCGGGTGC\n",
      "25767 GCACCACCGCGTT\n",
      "35183 GCACAACAAGGTT\n",
      "40745 GCACCGCTGGGTT\n",
      "42032 AACCTGCCGGTGC\n"
     ]
    }
   ],
   "source": [
    "hits = re.finditer(r\"AAC[ATCG]{6}GTGC|GCAC[ATCG]{6}GTT\", seq1_str)\n",
    "for item in hits:\n",
    "    print(item.start() + 1, item.group())"
   ]
  },
  {
   "cell_type": "code",
   "execution_count": null,
   "id": "588aee1f-9523-47cf-a8a9-83523e494998",
   "metadata": {},
   "outputs": [],
   "source": []
  },
  {
   "cell_type": "code",
   "execution_count": null,
   "id": "5162de2c-55da-4c78-805b-b7ed96e2eacb",
   "metadata": {},
   "outputs": [],
   "source": []
  },
  {
   "cell_type": "code",
   "execution_count": 27,
   "id": "b456b3d7-bc6c-4986-80ee-d202285ac8b2",
   "metadata": {},
   "outputs": [],
   "source": [
    "# match a G, followed by 2 T's\n"
   ]
  },
  {
   "cell_type": "markdown",
   "id": "f4c68eeb-bb72-4228-843a-0ec865e8b885",
   "metadata": {},
   "source": [
    "### Groups in regular expressions\n",
    "* use `()` to structure the regular expression"
   ]
  },
  {
   "cell_type": "code",
   "execution_count": null,
   "id": "3aa100e9-45a6-4d2d-aad9-6af399ccd36a",
   "metadata": {},
   "outputs": [],
   "source": [
    "# match GT twice\n"
   ]
  },
  {
   "cell_type": "markdown",
   "id": "c314b104-58ae-437c-9010-ad5af2d278e4",
   "metadata": {},
   "source": [
    "We can use groups to search for unknown sequence flanked by known sequences    \n",
    "`(known_seq_1)(variable_seq)(known_seq2)`"
   ]
  },
  {
   "cell_type": "code",
   "execution_count": null,
   "id": "4f059445-665a-490e-a1b4-eb914ef34a41",
   "metadata": {},
   "outputs": [],
   "source": []
  },
  {
   "cell_type": "code",
   "execution_count": null,
   "id": "8a35d12b-3bba-4f31-b444-360bb45e2199",
   "metadata": {},
   "outputs": [],
   "source": [
    "# get the second sequence from the Ecoli fasta file \n",
    "\n",
    "# compile regex pattern\n"
   ]
  },
  {
   "cell_type": "markdown",
   "id": "dbe58409-93fc-45b0-931a-a4dd1f10fe35",
   "metadata": {},
   "source": [
    "To return the matches:\n",
    "* Full match: `m.group()` or `m.group(0)`\n",
    "* match for group1: `m.group(1)`\n",
    "* match for group2: `m.group(2)`\n",
    "* match for group3: `m.group(3)`"
   ]
  },
  {
   "cell_type": "code",
   "execution_count": null,
   "id": "9ea6929e-8d10-4ab8-9253-545a9a5160d4",
   "metadata": {},
   "outputs": [],
   "source": []
  },
  {
   "cell_type": "code",
   "execution_count": null,
   "id": "e8781a41-cb51-4b93-bdaf-cef1be6f5277",
   "metadata": {},
   "outputs": [],
   "source": [
    "# Now we can idividually return the matched groups\n",
    "# group(0) returns the entire match\n",
    "# we look at only the first 40 nucleotides\n"
   ]
  },
  {
   "cell_type": "code",
   "execution_count": null,
   "id": "6a0274b2-ca7a-4292-923f-784b66885916",
   "metadata": {},
   "outputs": [],
   "source": [
    "# group(1) returns the first group\n"
   ]
  },
  {
   "cell_type": "code",
   "execution_count": null,
   "id": "2fe315f3-d0ed-4512-89da-fdb45458dcea",
   "metadata": {},
   "outputs": [],
   "source": [
    "# group(2) is the variable middle part\n"
   ]
  },
  {
   "cell_type": "code",
   "execution_count": null,
   "id": "9e580bf6-f611-4f32-85cb-521dd6e96854",
   "metadata": {},
   "outputs": [],
   "source": [
    "# we can perform further analysis on this group\n"
   ]
  },
  {
   "cell_type": "code",
   "execution_count": null,
   "id": "f47f7515-0c80-4ec4-9c12-1202ce0b2219",
   "metadata": {},
   "outputs": [],
   "source": [
    "# group(3) returns the last group\n"
   ]
  },
  {
   "cell_type": "markdown",
   "id": "ffb9fc2f-ceeb-4f03-9404-78b4d1e8393a",
   "metadata": {},
   "source": [
    "### Verbose Regular Expressions"
   ]
  },
  {
   "cell_type": "markdown",
   "id": "36765df8-87c5-4f69-a34b-b9d8f8e52a21",
   "metadata": {},
   "source": [
    "`re.VERBOSE` is a flag in `re` module that lets you add whitespace, line breaks and comments in regular expressions.      `re.VERBOSE` ignores whitespace, line breaks and comments starting with `#`\n",
    "Example: \n",
    "```python\n",
    "regpat = r\"\"\"\n",
    "        \\s     # white space\n",
    "        \\w*    # letters\n",
    "        \\d{3}  # 3 digits\n",
    "        \"\"\"\n",
    "re.search(regpat, target_string, re.VERBOSE).group()\n",
    "```"
   ]
  },
  {
   "cell_type": "code",
   "execution_count": null,
   "id": "11cf3aee-dc0f-4580-93e2-d3523032f61f",
   "metadata": {},
   "outputs": [],
   "source": [
    "# pattern to match a zip code\n",
    "\n"
   ]
  },
  {
   "cell_type": "code",
   "execution_count": null,
   "id": "002c4a9c-7b38-415b-a75c-eebfa9512bd8",
   "metadata": {},
   "outputs": [],
   "source": []
  },
  {
   "cell_type": "code",
   "execution_count": null,
   "id": "9ceb6fc2-5ef5-4d90-ba3b-0a26ee1429a9",
   "metadata": {},
   "outputs": [],
   "source": []
  },
  {
   "cell_type": "code",
   "execution_count": null,
   "id": "6122d900-0967-4a93-a4b3-bddec97fc0ef",
   "metadata": {},
   "outputs": [],
   "source": []
  }
 ],
 "metadata": {
  "kernelspec": {
   "display_name": "Python 3 (ipykernel)",
   "language": "python",
   "name": "python3"
  },
  "language_info": {
   "codemirror_mode": {
    "name": "ipython",
    "version": 3
   },
   "file_extension": ".py",
   "mimetype": "text/x-python",
   "name": "python",
   "nbconvert_exporter": "python",
   "pygments_lexer": "ipython3",
   "version": "3.12.4"
  }
 },
 "nbformat": 4,
 "nbformat_minor": 5
}
