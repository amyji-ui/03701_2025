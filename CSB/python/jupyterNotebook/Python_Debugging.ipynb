{
 "cells": [
  {
   "cell_type": "markdown",
   "id": "d203a2d3",
   "metadata": {},
   "source": [
    "# Debugging"
   ]
  },
  {
   "cell_type": "markdown",
   "id": "8416e948",
   "metadata": {},
   "source": [
    "#### In the code below \n",
    "* import the function normal and uniform from numpy.random\n",
    "* Set a default value \"uniform\" for the argument distribution. And define default values for the other arguments of the function. \n",
    "* If the user does not provide a known distribution, the function returns None, a special Python type used for lack of a value.\n",
    "* The uniform function takes three arguments: a minimum (par1, 0 by default), a maximun (par2, 1 by default), and a value specifying how many numbers should be drawn (1 in this case). The function normal is similar, but the first parameter determines the mean and the second parameter the standart deviation. "
   ]
  },
  {
   "cell_type": "code",
   "execution_count": null,
   "id": "cc58812a",
   "metadata": {},
   "outputs": [],
   "source": [
    "# import a function for normal distribution\n",
    "from numpy.random import normal\n",
    "# import a function for uniform distribution\n",
    "from numpy.random import uniform\n",
    "# a function to perform the sqrt\n",
    "from math import sqrt\n",
    "\n",
    "def get_expected_sqrt_x(distribution = \"uniform\", par1 = 0, par2 = 1, sample_size = 10):\n",
    "    \"\"\" Calculate the expectation of sqrt(X)\n",
    "    where X is a random variable. X can be either uniform or normal, \n",
    "    with parameters specified by the user\"\"\"\n",
    "    total = 0.0\n",
    "    for i in range(sample_size):\n",
    "        if distribution == \"uniform\":\n",
    "            z = uniform(par1, par2, 1)\n",
    "        elif distribution == \"normal\":\n",
    "            z = normal(par1, par2, 1)\n",
    "        else:\n",
    "            print(\"unknown distribution. Quitting...\")\n",
    "        z_value = z[0]\n",
    "        total = total + sqrt(z_value)\n",
    "    return total / sample_size"
   ]
  },
  {
   "cell_type": "markdown",
   "id": "8f43a888",
   "metadata": {},
   "source": [
    "#### run this code:"
   ]
  },
  {
   "cell_type": "code",
   "execution_count": null,
   "id": "41dba4d5-446e-4fdb-97aa-3ca856a9f395",
   "metadata": {},
   "outputs": [],
   "source": [
    "get_expected_sqrt_x(sample_size = 100)"
   ]
  },
  {
   "cell_type": "code",
   "execution_count": null,
   "id": "79d8d086-fa51-4ca1-b5f0-e151b7911808",
   "metadata": {},
   "outputs": [],
   "source": [
    "get_expected_sqrt_x(distribution = \"normal\", par1 = 1, par2 = 0.5, sample_size = 1000)"
   ]
  },
  {
   "cell_type": "markdown",
   "id": "e9162bb2",
   "metadata": {},
   "source": [
    "#### Debugger\n",
    "* Turn on run `%pdb`\n",
    "* With the debugger on, `ipdb>` prompt appears when you run a cell\n",
    "* Check inter-mediate result in `ipdb>`\n",
    "* To exit, in `ipdb>` type `q`\n",
    "* To turn off the debugger, run `%pdb` again"
   ]
  },
  {
   "cell_type": "code",
   "execution_count": null,
   "id": "95cf344e-c327-4eea-82fc-ffed6f521693",
   "metadata": {},
   "outputs": [],
   "source": [
    "%pdb"
   ]
  },
  {
   "cell_type": "code",
   "execution_count": null,
   "id": "e8c41d64-37bb-4f4b-ac20-b1c3ddcb6c64",
   "metadata": {},
   "outputs": [],
   "source": [
    "# call the function again with the same values\n",
    "get_expected_sqrt_x(distribution = \"normal\", par1 = 1, par2 = 0.5, sample_size = 1000)"
   ]
  },
  {
   "cell_type": "code",
   "execution_count": null,
   "id": "a369fb4f-ca13-4f52-b795-adbe86a33812",
   "metadata": {},
   "outputs": [],
   "source": [
    "%pdb"
   ]
  },
  {
   "cell_type": "markdown",
   "id": "81a22660-cd03-4034-b18e-713e24d267d1",
   "metadata": {},
   "source": [
    "From the debugger, we found that the error is due the negative `z_value` in `sqrt(z_value)`. So we can fix this by changing it to `sqrt(abs(z_value))`"
   ]
  },
  {
   "cell_type": "markdown",
   "id": "54fc5684",
   "metadata": {},
   "source": [
    "#### Set a breakpoint\n",
    "* pdb.set_trace( )"
   ]
  },
  {
   "cell_type": "code",
   "execution_count": null,
   "id": "fcf6fb73",
   "metadata": {},
   "outputs": [],
   "source": [
    "import pdb\n",
    "\n",
    "def my_function():\n",
    "    x = 5\n",
    "    y = 10\n",
    "    pdb.set_trace()  # Set a breakpoint here\n",
    "    result = x + y\n",
    "    return result\n",
    "\n",
    "print(my_function())"
   ]
  },
  {
   "cell_type": "code",
   "execution_count": null,
   "id": "6a15da0e",
   "metadata": {},
   "outputs": [],
   "source": []
  }
 ],
 "metadata": {
  "kernelspec": {
   "display_name": "Python 3 (ipykernel)",
   "language": "python",
   "name": "python3"
  },
  "language_info": {
   "codemirror_mode": {
    "name": "ipython",
    "version": 3
   },
   "file_extension": ".py",
   "mimetype": "text/x-python",
   "name": "python",
   "nbconvert_exporter": "python",
   "pygments_lexer": "ipython3",
   "version": "3.13.5"
  }
 },
 "nbformat": 4,
 "nbformat_minor": 5
}
