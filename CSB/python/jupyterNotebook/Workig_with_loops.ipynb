{
 "cells": [
  {
   "cell_type": "markdown",
   "id": "c611c71b-b2bd-4c27-919d-1d7c2c933156",
   "metadata": {},
   "source": [
    "# Working with loops"
   ]
  },
  {
   "cell_type": "markdown",
   "id": "93789b61-fd62-442e-a771-45403a5d0c9d",
   "metadata": {},
   "source": [
    "## For loops"
   ]
  },
  {
   "cell_type": "markdown",
   "id": "c2fbfd43-cd6e-4b0b-8d85-0a9481a9aa7a",
   "metadata": {},
   "source": [
    "For loops in python looks like this:\n",
    "```python\n",
    "for item in object:\n",
    "    # do something with item, e.g.\n",
    "    print(item)   \n",
    "```\n",
    "Note: in a for-loop, what ***item*** acturally is depends on what ***object*** we use.\n",
    "For example, if we use ***list*** \n",
    "```python\n",
    "for item in my_list:\n",
    "    print(item)\n",
    "```\n",
    "here we loop through all elements in the list\n",
    "if we use ***string***\n",
    "```python\n",
    "for item in my_string:\n",
    "    print(item)\n",
    "```\n",
    "here we loop through all characters in the string\n",
    "\n",
    "***Important:*** know the ***datastructure*** of the ***object*** you loop through!"
   ]
  },
  {
   "cell_type": "markdown",
   "id": "640866a3-7dd4-4015-a7f9-2eff7997dc8f",
   "metadata": {},
   "source": [
    "### Loop through a string"
   ]
  },
  {
   "cell_type": "code",
   "execution_count": 1,
   "id": "179f8f71-4204-4685-888c-09c7c77d5ac8",
   "metadata": {},
   "outputs": [
    {
     "name": "stdout",
     "output_type": "stream",
     "text": [
      "H\n",
      "e\n",
      "l\n",
      "l\n",
      "o\n"
     ]
    }
   ],
   "source": [
    "my_string = \"Hello\"\n",
    "for item in my_string:\n",
    "    print(item)"
   ]
  },
  {
   "cell_type": "markdown",
   "id": "f28da213-8bca-444c-995b-91828f70845d",
   "metadata": {},
   "source": [
    "**Note: you can replace \"item\" with any names you want, for example: \"element\", \"a\", \"character\", \"list_member\".**"
   ]
  },
  {
   "cell_type": "markdown",
   "id": "4f369103-3b82-4cc6-8c15-1a7676f3914f",
   "metadata": {},
   "source": [
    "### Loop through a list"
   ]
  },
  {
   "cell_type": "code",
   "execution_count": 2,
   "id": "c1be265a-937a-49a6-87f5-521858faf88f",
   "metadata": {
    "scrolled": true
   },
   "outputs": [
    {
     "name": "stdout",
     "output_type": "stream",
     "text": [
      "1\n",
      "5\n",
      "mystring\n",
      "True\n"
     ]
    }
   ],
   "source": [
    "z = [1, 5, \"mystring\", True]\n",
    "for item in z:\n",
    "    print(item)"
   ]
  },
  {
   "cell_type": "code",
   "execution_count": 3,
   "id": "7885dc97-6a38-4aed-816b-a68a02ad006a",
   "metadata": {},
   "outputs": [
    {
     "name": "stdout",
     "output_type": "stream",
     "text": [
      "1\n",
      "5\n",
      "mystring\n",
      "True\n"
     ]
    }
   ],
   "source": [
    "z = [1, 5, \"mystring\", True]\n",
    "for a in z:\n",
    "    print(a)"
   ]
  },
  {
   "cell_type": "markdown",
   "id": "567af6f9-de0c-43ae-83a6-9a89de917a3d",
   "metadata": {},
   "source": [
    "### Loop through items in a dictionary"
   ]
  },
  {
   "cell_type": "code",
   "execution_count": 4,
   "id": "0e9c6c12-46a6-4e3d-8cd7-236eb3c4b704",
   "metadata": {},
   "outputs": [],
   "source": [
    "d = {0:\"a\", 1:\"b\", 2:\"c\"}"
   ]
  },
  {
   "cell_type": "code",
   "execution_count": 5,
   "id": "543bb1ad-7386-4440-9c4a-8eb3bd5f61f1",
   "metadata": {},
   "outputs": [
    {
     "data": {
      "text/plain": [
       "dict_items([(0, 'a'), (1, 'b'), (2, 'c')])"
      ]
     },
     "execution_count": 5,
     "metadata": {},
     "output_type": "execute_result"
    }
   ],
   "source": [
    "d.items()"
   ]
  },
  {
   "cell_type": "code",
   "execution_count": 6,
   "id": "03476c0f-4e5f-4fb6-b139-6dc1180be954",
   "metadata": {},
   "outputs": [
    {
     "name": "stdout",
     "output_type": "stream",
     "text": [
      "0 -> a\n",
      "1 -> b\n",
      "2 -> c\n"
     ]
    }
   ],
   "source": [
    "# Use a for loop to print the key:value pairs of z\n",
    "for (key,val) in d.items():\n",
    "    print(key, \"->\", val)"
   ]
  },
  {
   "cell_type": "code",
   "execution_count": 7,
   "id": "65d03b39-218d-46c3-a540-6b66e608b19e",
   "metadata": {},
   "outputs": [
    {
     "name": "stdout",
     "output_type": "stream",
     "text": [
      "0 -> a\n",
      "1 -> b\n",
      "2 -> c\n"
     ]
    }
   ],
   "source": [
    "# You can use any name for (key,val) \n",
    "# as long as you follow the format \n",
    "# of the elements in d.items()\n",
    "for (k,v) in d.items():\n",
    "    print(k, \"->\", v)"
   ]
  },
  {
   "cell_type": "markdown",
   "id": "ce235688-80a8-4139-a112-c4f2d560adee",
   "metadata": {},
   "source": [
    "### Loop through numbers\n",
    "* `range()` -> range object that represents the sequence of integers"
   ]
  },
  {
   "cell_type": "code",
   "execution_count": 8,
   "id": "23a55085-3d10-4905-9be5-e120c3ca4a81",
   "metadata": {},
   "outputs": [
    {
     "data": {
      "text/plain": [
       "[0, 1, 2, 3, 4, 5, 6, 7, 8]"
      ]
     },
     "execution_count": 8,
     "metadata": {},
     "output_type": "execute_result"
    }
   ],
   "source": [
    "list(range(9))"
   ]
  },
  {
   "cell_type": "code",
   "execution_count": 9,
   "id": "8d02ddf8-28ff-45f9-a425-dcbbaac063b6",
   "metadata": {},
   "outputs": [
    {
     "name": "stdout",
     "output_type": "stream",
     "text": [
      "0\n",
      "1\n",
      "4\n",
      "9\n",
      "16\n",
      "25\n"
     ]
    }
   ],
   "source": [
    "for x in range(6):\n",
    "    print(x**2)"
   ]
  },
  {
   "cell_type": "markdown",
   "id": "15ccf426-6d72-4d81-8854-e4186b62f12a",
   "metadata": {},
   "source": [
    "### Loop with enumerate\n",
    "* `enumerate` -> add an index to an iterable"
   ]
  },
  {
   "cell_type": "code",
   "execution_count": 10,
   "id": "e5153301-c3a3-4761-877b-d169a8cddadf",
   "metadata": {},
   "outputs": [
    {
     "name": "stdout",
     "output_type": "stream",
     "text": [
      "0 H\n",
      "1 e\n",
      "2 l\n",
      "3 l\n",
      "4 o\n"
     ]
    }
   ],
   "source": [
    "# Use a for loop to print the elements and their indices:\n",
    "for k, x in enumerate(my_string):\n",
    "    print(k,x)\n",
    "# k -> the index\n",
    "# x -> the item (character) in the object (string)"
   ]
  },
  {
   "cell_type": "markdown",
   "id": "d69c7aec-4809-4b1e-b457-da7c8207c780",
   "metadata": {},
   "source": [
    "### Counter\n",
    "`counter += 1` -> increments by 1 each iteration, same as `counter = counter + 1`"
   ]
  },
  {
   "cell_type": "code",
   "execution_count": 11,
   "id": "649eb33b-bec4-4a7a-9f65-20b241284e03",
   "metadata": {},
   "outputs": [
    {
     "name": "stdout",
     "output_type": "stream",
     "text": [
      "0 1\n",
      "1 5\n",
      "2 mystring\n",
      "3 True\n"
     ]
    }
   ],
   "source": [
    "counter = 0\n",
    "for item in z:\n",
    "    print(counter, item)\n",
    "    counter += 1"
   ]
  },
  {
   "cell_type": "markdown",
   "id": "4ceb92ff-5278-4b83-811e-d8b5f7257ed8",
   "metadata": {},
   "source": [
    "## While loops \n",
    "**Basic syntax**\n",
    "```python\n",
    "while condition:\n",
    "    # do something\n",
    "```\n",
    "* `condition` is checked before each iteration\n",
    "    * if `True`, the code inside runs\n",
    "    * if `False`, the loop stops\n",
    "**`while` loop can contain `break`, `continue` and `else`\n",
    "* `else` in `while` loop:\n",
    "    * the `else` block runs only if the `while` loop ends normally\n",
    "    * if the loop is exited with a `break`, the `else` block is skipped\n",
    "* `break` in `while` loop:\n",
    "    * `break` immediately stops the loop, no matter the condition\n",
    "    * `continue` in `while` loop:\n",
    "    * `continue` skips the rest of the code for the current iteration and goes back to check the condition"
   ]
  },
  {
   "cell_type": "markdown",
   "id": "f17365de-5727-4b85-9977-c7d196a87561",
   "metadata": {},
   "source": [
    "### Examples:"
   ]
  },
  {
   "cell_type": "markdown",
   "id": "e707930a-8073-4128-a659-ea51a08ed846",
   "metadata": {},
   "source": [
    "* `break`"
   ]
  },
  {
   "cell_type": "code",
   "execution_count": 12,
   "id": "6caaa33f-e261-4159-a3c7-57a2572e164f",
   "metadata": {},
   "outputs": [
    {
     "name": "stdout",
     "output_type": "stream",
     "text": [
      "1\n",
      "2\n",
      "3\n",
      "4\n",
      "5\n"
     ]
    }
   ],
   "source": [
    "x = 1\n",
    "while x <= 10:\n",
    "    print(x)\n",
    "    if x == 5:\n",
    "        break  # stop the loop when x == 5\n",
    "    x += 1"
   ]
  },
  {
   "cell_type": "markdown",
   "id": "9c061ba8-823f-4bda-a7a0-a80090429616",
   "metadata": {},
   "source": [
    "* `continue`"
   ]
  },
  {
   "cell_type": "code",
   "execution_count": 13,
   "id": "048cc720-ef08-4703-8704-657438f48d22",
   "metadata": {},
   "outputs": [
    {
     "name": "stdout",
     "output_type": "stream",
     "text": [
      "1\n",
      "2\n",
      "4\n",
      "5\n"
     ]
    }
   ],
   "source": [
    "x = 0\n",
    "while x < 5:\n",
    "    x += 1\n",
    "    if x == 3:\n",
    "        continue  # skip printing when x == 3\n",
    "    print(x)"
   ]
  },
  {
   "cell_type": "markdown",
   "id": "3b4a2ec7-0a4a-4100-a8c1-5441ba997c66",
   "metadata": {},
   "source": [
    "* `else`"
   ]
  },
  {
   "cell_type": "code",
   "execution_count": 14,
   "id": "1ab0fb74-8609-4125-b5fa-14516e1de40e",
   "metadata": {},
   "outputs": [
    {
     "name": "stdout",
     "output_type": "stream",
     "text": [
      "3\n",
      "2\n",
      "1\n",
      "Loop finished!\n"
     ]
    }
   ],
   "source": [
    "x = 3\n",
    "while x > 0:\n",
    "    print(x)\n",
    "    x -= 1\n",
    "else:\n",
    "    print(\"Loop finished!\")"
   ]
  },
  {
   "cell_type": "code",
   "execution_count": 15,
   "id": "364f6037-6089-42e6-b246-715f67c92aef",
   "metadata": {},
   "outputs": [
    {
     "name": "stdout",
     "output_type": "stream",
     "text": [
      "3\n",
      "2\n"
     ]
    }
   ],
   "source": [
    "x = 3\n",
    "while x > 0:\n",
    "    print(x)\n",
    "    if x == 2:\n",
    "        break   # exit early\n",
    "    x -= 1\n",
    "else:\n",
    "    print(\"Loop finished naturally\")"
   ]
  },
  {
   "cell_type": "markdown",
   "id": "e186a773-fd7d-4110-bf02-f93c56233cb9",
   "metadata": {},
   "source": [
    "## Save data in a loop\n",
    "To save data generated for each iteration, you can\n",
    "* write to a file\n",
    "* save data in a list\n",
    "* save data in a dictionary\n",
    "* save data in a dataFrame"
   ]
  },
  {
   "cell_type": "markdown",
   "id": "ccb8603d-c155-47cc-bfeb-2b06476c8ea2",
   "metadata": {},
   "source": [
    "### Write to a file"
   ]
  },
  {
   "cell_type": "code",
   "execution_count": 16,
   "id": "55dc1ab6-378f-4bd2-8806-5fe1efd8d7e3",
   "metadata": {},
   "outputs": [],
   "source": [
    "with open(\"results.txt\", \"w\") as f:\n",
    "    x = 1\n",
    "    while x <= 5:\n",
    "        f.write(f\"{x},{x**2}\\n\")\n",
    "        x += 1"
   ]
  },
  {
   "cell_type": "markdown",
   "id": "ae6a4b6b-9c3d-4162-8a71-c1936bac1486",
   "metadata": {},
   "source": [
    "### Save data in a list\n",
    "1. create an empty list before you run the loop\n",
    "2. append result in each iteration to the list\n",
    "3. If the result in each iteration is a number:\n",
    "   * the resulting list is a list of numbers\n",
    "5. If the result in each iteration is a dataFrame:\n",
    "   * the resulting list is a list of dataFames"
   ]
  },
  {
   "cell_type": "code",
   "execution_count": 17,
   "id": "4fa7a912-03bc-4280-9da1-98bbb6cdc714",
   "metadata": {},
   "outputs": [
    {
     "name": "stdout",
     "output_type": "stream",
     "text": [
      "[1, 4, 9, 16, 25]\n"
     ]
    }
   ],
   "source": [
    "results = []\n",
    "x = 1\n",
    "while x <= 5:\n",
    "    results.append(x ** 2)   # save square of x\n",
    "    x += 1\n",
    "\n",
    "print(results)  # [1, 4, 9, 16, 25]"
   ]
  },
  {
   "cell_type": "markdown",
   "id": "3dc3ac59-46da-40ad-a8ef-3a0e76959df1",
   "metadata": {},
   "source": [
    "### Save data in a dictionary"
   ]
  },
  {
   "cell_type": "code",
   "execution_count": 18,
   "id": "1662d89b-8b90-452f-95a5-83642d9e31a5",
   "metadata": {},
   "outputs": [],
   "source": [
    "import csv"
   ]
  },
  {
   "cell_type": "code",
   "execution_count": 19,
   "id": "39559518-a99a-4c09-be62-2205b0a07c8a",
   "metadata": {},
   "outputs": [],
   "source": [
    "# Create an empty dictionary with city as the key and value as the list of populations\n",
    "cityPop = {}\n",
    "\n",
    "with open(\"Dalziel2016_data.csv\") as fr:\n",
    "    reader = csv.DictReader(fr)\n",
    "    for i, row in enumerate(reader):\n",
    "        city = row['loc']\n",
    "        pop = float(row['pop'])\n",
    "        # Use dict.get(key, defualt) -> get the value of a key from dict, if the key does not exit, reture default\n",
    "        cityPop[city] = cityPop.get(city, [])\n",
    "        # add element to the city's population list\n",
    "        cityPop[city].append(pop)"
   ]
  },
  {
   "cell_type": "code",
   "execution_count": 20,
   "id": "c351ed98-1446-4dc3-a131-3d210ec73326",
   "metadata": {},
   "outputs": [
    {
     "data": {
      "text/plain": [
       "dict_keys(['BALTIMORE', 'BOSTON', 'BRIDGEPORT', 'BUFFALO', 'CHICAGO', 'CINCINNATI', 'CLEVELAND', 'COLUMBUS', 'DENVER', 'DETROIT', 'DULUTH', 'FALL RIVER', 'GRAND RAPIDS', 'HARTFORD', 'INDIANAPOLIS', 'KANSAS CITY', 'LOS ANGELES', 'MILWAUKEE', 'MINNEAPOLIS', 'NASHVILLE', 'NEW HAVEN', 'NEW ORLEANS', 'NEW YORK', 'NEWARK', 'PHILADELPHIA', 'PITTSBURGH', 'PROVIDENCE', 'READING.US', 'RICHMOND', 'ROCHESTER', 'SALT LAKE CITY', 'SAN FRANCISCO', 'SEATTLE', 'SPOKANE', 'SPRINGFIELD', 'ST LOUIS', 'TOLEDO', 'TRENTON', 'WASHINGTON', 'WORCESTER'])"
      ]
     },
     "execution_count": 20,
     "metadata": {},
     "output_type": "execute_result"
    }
   ],
   "source": [
    "cityPop.keys()"
   ]
  },
  {
   "cell_type": "markdown",
   "id": "b3024d47-bffc-42aa-8dae-58ce79ed40c3",
   "metadata": {},
   "source": [
    "### Save data in a dataframe\n",
    "* for data structure of columns and rows"
   ]
  },
  {
   "cell_type": "code",
   "execution_count": 21,
   "id": "78dbbb37-bc10-46c6-8149-b07f093d4841",
   "metadata": {},
   "outputs": [],
   "source": [
    "import pandas as pd"
   ]
  },
  {
   "cell_type": "code",
   "execution_count": 22,
   "id": "e55e8a70-ca92-441a-9642-1d09748875fa",
   "metadata": {},
   "outputs": [
    {
     "name": "stdout",
     "output_type": "stream",
     "text": [
      "   x  square\n",
      "0  1       1\n",
      "1  2       4\n",
      "2  3       9\n",
      "3  4      16\n",
      "4  5      25\n"
     ]
    }
   ],
   "source": [
    "data = []\n",
    "x = 1\n",
    "while x <= 5:\n",
    "    data.append({\"x\": x, \"square\": x**2})\n",
    "    x += 1\n",
    "\n",
    "df = pd.DataFrame(data)\n",
    "print(df)"
   ]
  },
  {
   "cell_type": "markdown",
   "id": "9f06e720-5e17-4999-a207-1e71a83317d0",
   "metadata": {},
   "source": [
    "### Save data as a list of dataframes\n",
    "* If your want to save results: X_position, Y_position for loops\n",
    "* Each iteration, you measure the X_position, Y_position for n objects. n can be different in each iteration\n",
    "* To save all X_poistion and Y_position for all measurments\n",
    "    * create an empty list before the loop\n",
    "    * in the loop, save the iteration results as a dataframe\n",
    "    * append the dataframe to the list\n",
    "    * After the loop, concatinate all dataframe in the list"
   ]
  },
  {
   "cell_type": "code",
   "execution_count": 23,
   "id": "eec19fa5-3dd3-4645-8ddf-c2d5428cdab3",
   "metadata": {},
   "outputs": [],
   "source": [
    "import numpy as np"
   ]
  },
  {
   "cell_type": "code",
   "execution_count": 24,
   "id": "83ae8885-2480-4653-8769-99274342e06b",
   "metadata": {},
   "outputs": [],
   "source": [
    "# Let's generate some random data\n",
    "sample_sets = np.random.randint(5, 20, size = 10)\n",
    "\n",
    "# Create an empty list to sort results\n",
    "result_list =[]\n",
    "# loop through sample_sets\n",
    "for n in sample_sets:\n",
    "    x_position = np.random.randn(n)\n",
    "    y_position = np.random.randn(n)\n",
    "    df = pd.DataFrame({\"X Position\": x_position, \"Y Position\": y_position})   # Save n data points in a dataframe\n",
    "    result_list.append(df)       # Append the df to result_list\n",
    "\n",
    "# Concantinate the list of datafarme to get the full data\n",
    "df_full = pd.concat(result_list)"
   ]
  },
  {
   "cell_type": "code",
   "execution_count": 25,
   "id": "c3a7ba9c-8580-448a-b433-a7a53d2c32fd",
   "metadata": {},
   "outputs": [
    {
     "data": {
      "text/html": [
       "<div>\n",
       "<style scoped>\n",
       "    .dataframe tbody tr th:only-of-type {\n",
       "        vertical-align: middle;\n",
       "    }\n",
       "\n",
       "    .dataframe tbody tr th {\n",
       "        vertical-align: top;\n",
       "    }\n",
       "\n",
       "    .dataframe thead th {\n",
       "        text-align: right;\n",
       "    }\n",
       "</style>\n",
       "<table border=\"1\" class=\"dataframe\">\n",
       "  <thead>\n",
       "    <tr style=\"text-align: right;\">\n",
       "      <th></th>\n",
       "      <th>X Position</th>\n",
       "      <th>Y Position</th>\n",
       "    </tr>\n",
       "  </thead>\n",
       "  <tbody>\n",
       "    <tr>\n",
       "      <th>0</th>\n",
       "      <td>0.497569</td>\n",
       "      <td>-0.140075</td>\n",
       "    </tr>\n",
       "    <tr>\n",
       "      <th>1</th>\n",
       "      <td>0.993577</td>\n",
       "      <td>0.816326</td>\n",
       "    </tr>\n",
       "    <tr>\n",
       "      <th>2</th>\n",
       "      <td>-1.291267</td>\n",
       "      <td>0.239710</td>\n",
       "    </tr>\n",
       "    <tr>\n",
       "      <th>3</th>\n",
       "      <td>-0.526855</td>\n",
       "      <td>-0.331950</td>\n",
       "    </tr>\n",
       "    <tr>\n",
       "      <th>4</th>\n",
       "      <td>0.289639</td>\n",
       "      <td>0.240985</td>\n",
       "    </tr>\n",
       "    <tr>\n",
       "      <th>...</th>\n",
       "      <td>...</td>\n",
       "      <td>...</td>\n",
       "    </tr>\n",
       "    <tr>\n",
       "      <th>5</th>\n",
       "      <td>1.576418</td>\n",
       "      <td>-0.648865</td>\n",
       "    </tr>\n",
       "    <tr>\n",
       "      <th>6</th>\n",
       "      <td>-0.736048</td>\n",
       "      <td>1.667659</td>\n",
       "    </tr>\n",
       "    <tr>\n",
       "      <th>7</th>\n",
       "      <td>0.208858</td>\n",
       "      <td>-1.396262</td>\n",
       "    </tr>\n",
       "    <tr>\n",
       "      <th>8</th>\n",
       "      <td>0.800619</td>\n",
       "      <td>-0.144505</td>\n",
       "    </tr>\n",
       "    <tr>\n",
       "      <th>9</th>\n",
       "      <td>0.981077</td>\n",
       "      <td>-0.411940</td>\n",
       "    </tr>\n",
       "  </tbody>\n",
       "</table>\n",
       "<p>105 rows × 2 columns</p>\n",
       "</div>"
      ],
      "text/plain": [
       "    X Position  Y Position\n",
       "0     0.497569   -0.140075\n",
       "1     0.993577    0.816326\n",
       "2    -1.291267    0.239710\n",
       "3    -0.526855   -0.331950\n",
       "4     0.289639    0.240985\n",
       "..         ...         ...\n",
       "5     1.576418   -0.648865\n",
       "6    -0.736048    1.667659\n",
       "7     0.208858   -1.396262\n",
       "8     0.800619   -0.144505\n",
       "9     0.981077   -0.411940\n",
       "\n",
       "[105 rows x 2 columns]"
      ]
     },
     "execution_count": 25,
     "metadata": {},
     "output_type": "execute_result"
    }
   ],
   "source": [
    "df_full"
   ]
  },
  {
   "cell_type": "code",
   "execution_count": 26,
   "id": "4d3f969e-a330-4f8f-973e-1001677b0864",
   "metadata": {},
   "outputs": [
    {
     "data": {
      "text/plain": [
       "105"
      ]
     },
     "execution_count": 26,
     "metadata": {},
     "output_type": "execute_result"
    }
   ],
   "source": [
    "# the number of measurments in df_full\n",
    "len(df_full[\"X Position\"])"
   ]
  },
  {
   "cell_type": "code",
   "execution_count": 27,
   "id": "560f4e96-dc34-4eef-a479-7d5ef783a120",
   "metadata": {},
   "outputs": [
    {
     "name": "stdout",
     "output_type": "stream",
     "text": [
      "105\n"
     ]
    }
   ],
   "source": [
    "# the totoal number of samples from sample_sets\n",
    "print(sum(sample_sets))"
   ]
  }
 ],
 "metadata": {
  "kernelspec": {
   "display_name": "Python 3 (ipykernel)",
   "language": "python",
   "name": "python3"
  },
  "language_info": {
   "codemirror_mode": {
    "name": "ipython",
    "version": 3
   },
   "file_extension": ".py",
   "mimetype": "text/x-python",
   "name": "python",
   "nbconvert_exporter": "python",
   "pygments_lexer": "ipython3",
   "version": "3.13.5"
  }
 },
 "nbformat": 4,
 "nbformat_minor": 5
}
