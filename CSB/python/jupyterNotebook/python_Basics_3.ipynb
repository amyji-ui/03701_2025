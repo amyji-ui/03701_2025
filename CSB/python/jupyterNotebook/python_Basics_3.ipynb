{
 "cells": [
  {
   "cell_type": "markdown",
   "id": "6031dcc2-67e0-4a71-931a-014b4574aedf",
   "metadata": {},
   "source": [
    "# Python Basics\n",
    "# Part 3. Basic Programming"
   ]
  },
  {
   "cell_type": "markdown",
   "id": "f0586379",
   "metadata": {},
   "source": [
    "## 1. Common, General Functions"
   ]
  },
  {
   "cell_type": "markdown",
   "id": "5b837d04",
   "metadata": {},
   "source": [
    "### max and min\n",
    "* Return the largest or smallest item in a string, list, or tuple."
   ]
  },
  {
   "cell_type": "code",
   "execution_count": 1,
   "id": "3bb0bb76",
   "metadata": {},
   "outputs": [
    {
     "data": {
      "text/plain": [
       "8"
      ]
     },
     "execution_count": 1,
     "metadata": {},
     "output_type": "execute_result"
    }
   ],
   "source": [
    "# Create list a with elements 1, 1, 2, 3, 5, 8 \n",
    "max(1,1,2,3,5,8)\n"
   ]
  },
  {
   "cell_type": "code",
   "execution_count": 2,
   "id": "f99db010",
   "metadata": {},
   "outputs": [
    {
     "data": {
      "text/plain": [
       "8"
      ]
     },
     "execution_count": 2,
     "metadata": {},
     "output_type": "execute_result"
    }
   ],
   "source": [
    "# Get the largest item in a\n",
    "a = (1,1,2,3,5,8)\n",
    "max(a)"
   ]
  },
  {
   "cell_type": "markdown",
   "id": "11c609a8-5987-40d1-8066-fb3bfbc1a574",
   "metadata": {},
   "source": [
    "* Use max or min directly by listing variables separated by commas "
   ]
  },
  {
   "cell_type": "code",
   "execution_count": 3,
   "id": "44d12c6d",
   "metadata": {},
   "outputs": [
    {
     "data": {
      "text/plain": [
       "3.71"
      ]
     },
     "execution_count": 3,
     "metadata": {},
     "output_type": "execute_result"
    }
   ],
   "source": [
    "# Get the largest item among 1.2, 3.71, 1.15\n",
    "max(1.2,3.71,1.15)\n"
   ]
  },
  {
   "cell_type": "markdown",
   "id": "608dcb0f-e21d-4c48-a5b1-cbaa9ab8e1bd",
   "metadata": {},
   "source": [
    "* Call function max on a string -- > return the character that has the largest value"
   ]
  },
  {
   "cell_type": "code",
   "execution_count": 4,
   "id": "9ff3c5ef",
   "metadata": {},
   "outputs": [
    {
     "data": {
      "text/plain": [
       "'u'"
      ]
     },
     "execution_count": 4,
     "metadata": {},
     "output_type": "execute_result"
    }
   ],
   "source": [
    "# Use max on string \"scientific computing\"\n",
    "s=\"scientific computing\"\n",
    "max(s)"
   ]
  },
  {
   "cell_type": "code",
   "execution_count": 6,
   "id": "f74fdc88",
   "metadata": {},
   "outputs": [
    {
     "data": {
      "text/plain": [
       "' '"
      ]
     },
     "execution_count": 6,
     "metadata": {},
     "output_type": "execute_result"
    }
   ],
   "source": [
    "# Use min on string \"scientific computing\"\n",
    "min(s)"
   ]
  },
  {
   "cell_type": "markdown",
   "id": "6cf09513-0159-43ec-946c-d4046f6e22f0",
   "metadata": {},
   "source": [
    "* Function ord(\"z\") return the numerical value of \"z\""
   ]
  },
  {
   "cell_type": "code",
   "execution_count": 7,
   "id": "8800042d-bc58-4513-b880-81365b279c10",
   "metadata": {},
   "outputs": [
    {
     "data": {
      "text/plain": [
       "117"
      ]
     },
     "execution_count": 7,
     "metadata": {},
     "output_type": "execute_result"
    }
   ],
   "source": [
    "# Check the numerical value of \"u\"\n",
    "ord(\"u\")"
   ]
  },
  {
   "cell_type": "markdown",
   "id": "df93c6e5",
   "metadata": {},
   "source": [
    "### sum\n",
    "* Return the sum of the elements of a list or a set. \n"
   ]
  },
  {
   "cell_type": "code",
   "execution_count": 8,
   "id": "12bf08d5",
   "metadata": {},
   "outputs": [
    {
     "data": {
      "text/plain": [
       "20"
      ]
     },
     "execution_count": 8,
     "metadata": {},
     "output_type": "execute_result"
    }
   ],
   "source": [
    "# Get the sum of elements in list a\n",
    "sum(a)"
   ]
  },
  {
   "cell_type": "code",
   "execution_count": 9,
   "id": "1d61aef5",
   "metadata": {},
   "outputs": [
    {
     "data": {
      "text/plain": [
       "19"
      ]
     },
     "execution_count": 9,
     "metadata": {},
     "output_type": "execute_result"
    }
   ],
   "source": [
    "# Get the sum of unique elements in list 1, 1, 2, 3, 5, 8\n",
    "# convert the list to a set. A set has no repetition, and it does not have an order. \n",
    "sum(set(a))\n"
   ]
  },
  {
   "cell_type": "markdown",
   "id": "8349167f",
   "metadata": {},
   "source": [
    "### in \n",
    "* Test for membership"
   ]
  },
  {
   "cell_type": "code",
   "execution_count": 12,
   "id": "0f8e110d",
   "metadata": {},
   "outputs": [
    {
     "data": {
      "text/plain": [
       "True"
      ]
     },
     "execution_count": 12,
     "metadata": {},
     "output_type": "execute_result"
    }
   ],
   "source": [
    "# Test if \"s\" is a member of \"string\"\n",
    "(\"s\" in \"string\")"
   ]
  },
  {
   "cell_type": "code",
   "execution_count": 14,
   "id": "7de6e161",
   "metadata": {},
   "outputs": [
    {
     "data": {
      "text/plain": [
       "[False]"
      ]
     },
     "execution_count": 14,
     "metadata": {},
     "output_type": "execute_result"
    }
   ],
   "source": [
    "# Test if 36 is not a member of list [1, 2, 36]\n",
    "[36 not in [1,2,36]]"
   ]
  },
  {
   "cell_type": "code",
   "execution_count": 15,
   "id": "38efb78d",
   "metadata": {},
   "outputs": [
    {
     "data": {
      "text/plain": [
       "True"
      ]
     },
     "execution_count": 15,
     "metadata": {},
     "output_type": "execute_result"
    }
   ],
   "source": [
    "# Test if tuple (1, 2) is a member of list [(1, 3), (1, 2), 1000, 'aaa']\n",
    "((1,2) in [(1,3),(1,2),1000,'aaa'])"
   ]
  },
  {
   "cell_type": "markdown",
   "id": "88af8af9-bfea-4efa-a189-6684269f7ceb",
   "metadata": {},
   "source": [
    "* For dictinaries, you can test whether a key exists"
   ]
  },
  {
   "cell_type": "code",
   "execution_count": 23,
   "id": "f4b128fd",
   "metadata": {},
   "outputs": [],
   "source": [
    "# Test if the key \"c\" exists in dictionary {\"a\": 1, \"b\": 2, \"c\": 3}\n"
   ]
  },
  {
   "cell_type": "markdown",
   "id": "ef73b994",
   "metadata": {},
   "source": [
    "## 2. The Flow of a Program"
   ]
  },
  {
   "attachments": {},
   "cell_type": "markdown",
   "id": "578bf2a0",
   "metadata": {},
   "source": [
    "### Conditional Branching\n",
    "* If a certain condition is met, one or more statements are executed, otherwise other statements may be executed. \r\n"
   ]
  },
  {
   "cell_type": "markdown",
   "id": "1fc2a674-3584-42b1-adc1-915d4d713771",
   "metadata": {},
   "source": [
    "#### if, else"
   ]
  },
  {
   "cell_type": "code",
   "execution_count": 25,
   "id": "3be91573",
   "metadata": {},
   "outputs": [],
   "source": [
    "# Assign valuse to variable x\n",
    "\n",
    "# If x can be divided by 2, print \"Divisible by 2\", otherwise print \"Not divisible by 2\"\n"
   ]
  },
  {
   "cell_type": "markdown",
   "id": "cd2b722c-9c7e-498d-8542-2ae28242781e",
   "metadata": {},
   "source": [
    "#### if, elif, else\n",
    "* Check multiple conditions"
   ]
  },
  {
   "cell_type": "code",
   "execution_count": 27,
   "id": "8fc2963e",
   "metadata": {},
   "outputs": [],
   "source": [
    "# Assign valuse to variable x\n",
    "\n",
    "# If x can be divided by 2, print \"Divisible by 2\". If not, check if x can be divided by 3, if true, print \"Divisible by 3\". \n",
    "# If not, check if x can be divided by 5, if true, print \"Divisible by 5\". If faulse, check if x can be divided by 7, if true, \n",
    "# print \"Divisible by 7\". If faulse, print \"Not divisible by 2,3,5,7\". \n"
   ]
  },
  {
   "attachments": {},
   "cell_type": "markdown",
   "id": "5a4bedd4",
   "metadata": {},
   "source": [
    "### Looping\n",
    "* Repeat a piece of code multiple times"
   ]
  },
  {
   "cell_type": "markdown",
   "id": "e34a7c05",
   "metadata": {},
   "source": [
    "#### while --> repeat a piece of code so long as the specified condition is met. "
   ]
  },
  {
   "cell_type": "code",
   "execution_count": 29,
   "id": "79157c11",
   "metadata": {
    "scrolled": true
   },
   "outputs": [],
   "source": [
    "# Print the integers from 0 to 99\n"
   ]
  },
  {
   "cell_type": "code",
   "execution_count": 31,
   "id": "f9d1acb5",
   "metadata": {},
   "outputs": [],
   "source": [
    "# Print the first few Fibonacci numbers\n",
    "# Fibonacci numbers are the series of numbers where each number is the sum of the two preceding numbers.\n",
    "# Example: 0, 1, 1, 2, 3, 5, 8\n"
   ]
  },
  {
   "cell_type": "markdown",
   "id": "a866eed3",
   "metadata": {},
   "source": [
    "## Beware of infinite loops! To stop execution, click Kernel -> interrupt"
   ]
  },
  {
   "cell_type": "code",
   "execution_count": 33,
   "id": "616c195b",
   "metadata": {},
   "outputs": [],
   "source": [
    "# Example of an infinite loop\n"
   ]
  },
  {
   "cell_type": "markdown",
   "id": "aae50610-4602-4932-917c-4c6ac235c3a9",
   "metadata": {},
   "source": [
    "#### Two fommands to modify the behavior of the loop\n",
    "* break --> stops the cycle\n",
    "* continue --> skips the remaining code within the loop and moves to the next iteration"
   ]
  },
  {
   "cell_type": "markdown",
   "id": "2e496dd8-1a8f-40f6-ba38-13394fdf61d6",
   "metadata": {},
   "source": [
    "#### break "
   ]
  },
  {
   "cell_type": "code",
   "execution_count": 35,
   "id": "ef26eba6",
   "metadata": {},
   "outputs": [],
   "source": [
    "# find the first integer >= 15000 that is divisible by 19\n"
   ]
  },
  {
   "cell_type": "markdown",
   "id": "e5a2e9d8-dda5-4a9b-bb42-7e6e7b89fe3d",
   "metadata": {},
   "source": [
    "#### continue "
   ]
  },
  {
   "cell_type": "code",
   "execution_count": 37,
   "id": "7a56354c",
   "metadata": {
    "scrolled": true
   },
   "outputs": [],
   "source": [
    "# list the first 100 even numbers\n"
   ]
  },
  {
   "attachments": {},
   "cell_type": "markdown",
   "id": "1c41b34f",
   "metadata": {},
   "source": [
    "#### for --> iterate through the elements of a sequence"
   ]
  },
  {
   "cell_type": "code",
   "execution_count": 39,
   "id": "ccaa9d9b",
   "metadata": {},
   "outputs": [],
   "source": [
    "# Print the elements of a list [1, 5, \"mystring\", True]\n",
    "\n",
    "# Note: you can replace \"element\" with any names you want, for example: \"item\", \"a\", \"list_member\".  "
   ]
  },
  {
   "cell_type": "code",
   "execution_count": 41,
   "id": "65c72547",
   "metadata": {},
   "outputs": [],
   "source": [
    "# Print the characters of a string\n",
    "\n",
    "# You can replace \"characters\" here with any names other names. "
   ]
  },
  {
   "cell_type": "markdown",
   "id": "a2da1c74-9d28-471e-9f67-f62e9a8a7bde",
   "metadata": {},
   "source": [
    "* A trick to print the key:value pairs of a dictionary:"
   ]
  },
  {
   "cell_type": "code",
   "execution_count": 43,
   "id": "8573a6a8",
   "metadata": {},
   "outputs": [],
   "source": [
    "# Create a dictionary z with key:value pairs of 0:\"a\", 1:\"b\", 2:\"c\"\n"
   ]
  },
  {
   "cell_type": "code",
   "execution_count": 45,
   "id": "15093da7",
   "metadata": {},
   "outputs": [],
   "source": [
    "# Use built-in method .items() to get the key:value pairs in z\n"
   ]
  },
  {
   "cell_type": "code",
   "execution_count": 47,
   "id": "4b9522da",
   "metadata": {},
   "outputs": [],
   "source": [
    "# Use a for loop to print the key:value pairs of z\n"
   ]
  },
  {
   "attachments": {},
   "cell_type": "markdown",
   "id": "d5a14e2e-20b6-43e3-9838-046783b8a48a",
   "metadata": {},
   "source": [
    "#### range( ) --> useful function when you need to iterate through a range of numbers in a for loop"
   ]
  },
  {
   "cell_type": "code",
   "execution_count": 49,
   "id": "ced91b60",
   "metadata": {},
   "outputs": [],
   "source": [
    "# Use range function to create a list with the range start from 0 and stop at 10 with increments of 1 \n"
   ]
  },
  {
   "cell_type": "code",
   "execution_count": 51,
   "id": "183d4e89",
   "metadata": {},
   "outputs": [],
   "source": [
    "# Use range function to create a list with the range start from 1 and stop at 5 with increments of 1 \n"
   ]
  },
  {
   "cell_type": "code",
   "execution_count": 53,
   "id": "e3c9fee0",
   "metadata": {},
   "outputs": [],
   "source": [
    "# Use range function to create a list with the range start from 0 and stop at 10 with increments of 3 \n"
   ]
  },
  {
   "cell_type": "code",
   "execution_count": 55,
   "id": "d5d8c38e",
   "metadata": {},
   "outputs": [],
   "source": [
    "# Print x^2 for x from 0 to 9\n"
   ]
  },
  {
   "cell_type": "markdown",
   "id": "bcc4277d-c4fd-400e-8924-3a64201b6416",
   "metadata": {},
   "source": [
    "#### enumerate --> function that you can use to access both an element of a list and its index."
   ]
  },
  {
   "cell_type": "code",
   "execution_count": 57,
   "id": "e4160d09",
   "metadata": {},
   "outputs": [],
   "source": [
    "# Make a list of elements and their corresponding index of my_string\n"
   ]
  },
  {
   "cell_type": "code",
   "execution_count": 59,
   "id": "89f12602",
   "metadata": {},
   "outputs": [],
   "source": [
    "# Use a for loop to print the elements and their indices:\n",
    "\n",
    "# Here you can use \"k, x\" or \"index, value\" or anyother names your prefer. "
   ]
  },
  {
   "cell_type": "code",
   "execution_count": 61,
   "id": "4b689ee1",
   "metadata": {},
   "outputs": [],
   "source": [
    "# Create a string z with elements: 1, 5, \"mystring\", True\n",
    "\n",
    "# Use a for loop to print for each element with its index valuse\n"
   ]
  },
  {
   "cell_type": "markdown",
   "id": "ca2b4479-93e7-4fdf-91ce-90bc1f25f11c",
   "metadata": {},
   "source": [
    "#### If you want to apply the same function to all elements of a list, you can use list comprehension."
   ]
  },
  {
   "cell_type": "code",
   "execution_count": 63,
   "id": "7a2b139d",
   "metadata": {},
   "outputs": [],
   "source": [
    "# Create a list a with elements 1 ,2, 5, 14, 42, 132\n",
    "\n",
    "# for each element x in list a, calculate x^2 and append the result to a new list, called b\n"
   ]
  },
  {
   "cell_type": "markdown",
   "id": "646a6cfe",
   "metadata": {},
   "source": [
    "## 3. Working with Files"
   ]
  },
  {
   "cell_type": "markdown",
   "id": "a2ba700c",
   "metadata": {},
   "source": [
    "### Text Files"
   ]
  },
  {
   "cell_type": "markdown",
   "id": "546ef5de-5d9c-407f-95d0-872eb767dc4f",
   "metadata": {},
   "source": [
    "#### Open a file --> f = open(\"file_name.txt\", \"w\")\n",
    "* f --> the file handle. It is an object so you can use f.method() to work on the file.\n",
    "* open() --> function to open a file. \"file_name.txt\" is the path to the file. \"w\" stand for \"writing\", put \"r\" for reading, \"a\" for appending. "
   ]
  },
  {
   "cell_type": "code",
   "execution_count": 65,
   "id": "f6f5d33c",
   "metadata": {},
   "outputs": [],
   "source": [
    "# Open file mytextfile.txt\n"
   ]
  },
  {
   "cell_type": "code",
   "execution_count": 67,
   "id": "9a17d65c",
   "metadata": {},
   "outputs": [],
   "source": [
    "# Get the name of the file with method .name\n"
   ]
  },
  {
   "cell_type": "code",
   "execution_count": 69,
   "id": "7791d157",
   "metadata": {},
   "outputs": [],
   "source": [
    "# Get the mode of the file with method .mode\n"
   ]
  },
  {
   "cell_type": "code",
   "execution_count": 71,
   "id": "fdd4ac26",
   "metadata": {},
   "outputs": [],
   "source": [
    "# Get the encoding of the file with .encoding\n"
   ]
  },
  {
   "cell_type": "markdown",
   "id": "8a29d820-3461-4fa7-9d4a-1471308213fb",
   "metadata": {},
   "source": [
    "#### When a file f is open for writing, you can "
   ]
  },
  {
   "cell_type": "code",
   "execution_count": 73,
   "id": "ae5b48cc",
   "metadata": {},
   "outputs": [],
   "source": [
    "# Write string and go to a new line\n"
   ]
  },
  {
   "cell_type": "code",
   "execution_count": 75,
   "id": "e91a3535",
   "metadata": {},
   "outputs": [],
   "source": [
    "# Write multiple strings provided as a list\n"
   ]
  },
  {
   "cell_type": "markdown",
   "id": "22aacb57-a647-4fbe-8a1a-6f9f218f0b07",
   "metadata": {},
   "source": [
    "#### When you are done reading or writing, you should close the file"
   ]
  },
  {
   "cell_type": "code",
   "execution_count": 77,
   "id": "6d0e160a",
   "metadata": {},
   "outputs": [],
   "source": [
    "# close the file use .close()\n"
   ]
  },
  {
   "cell_type": "markdown",
   "id": "a346a8d8-f31a-443c-8a03-634db60996ff",
   "metadata": {},
   "source": [
    "#### Forgetting to close a file is quite common, and can have unintended consequences. \n",
    "#### To avoid the problem altogether, use the \"with\" statement, which automatically opens and closes the file. \n"
   ]
  },
  {
   "cell_type": "code",
   "execution_count": 79,
   "id": "dc02c6bb",
   "metadata": {},
   "outputs": [],
   "source": [
    "# with\n"
   ]
  },
  {
   "cell_type": "code",
   "execution_count": 81,
   "id": "daa497e8",
   "metadata": {},
   "outputs": [],
   "source": [
    "# Write a program that reads mytextfile.txt and writes it line by line into another file \n"
   ]
  },
  {
   "cell_type": "markdown",
   "id": "f2614cce",
   "metadata": {},
   "source": [
    "### Character-Delimited Files"
   ]
  },
  {
   "cell_type": "markdown",
   "id": "fdb77fcd-dc87-44d0-be36-eddd2f6ec76a",
   "metadata": {},
   "source": [
    "#### We are going to work with the \"Dalziel2016_data.csv\" file you downloaded earlier. Make sure that this file is in the same folder as your current jupyter notebook. "
   ]
  },
  {
   "cell_type": "code",
   "execution_count": 83,
   "id": "0c462d39",
   "metadata": {},
   "outputs": [],
   "source": [
    "# Read the first few lines of this csv file. \n",
    "\n",
    "    # create iterator\n",
    "    \n",
    "        # print each line; delete leading/trailing spaces\n",
    "       "
   ]
  },
  {
   "cell_type": "markdown",
   "id": "4960c88a-6196-4e41-9c79-7e0ddb893e90",
   "metadata": {},
   "source": [
    "#### This is a comma-separated file with five columnes, and the first line specifies the header. Instead of reading it using the methods introduced above for text files, we can use the CSV module:"
   ]
  },
  {
   "cell_type": "code",
   "execution_count": 85,
   "id": "7153727a",
   "metadata": {},
   "outputs": [],
   "source": [
    "# To use the csv, we need to first import it. I will tell you more details about modules and packages in the next lecture. \n",
    "\n",
    "\n",
    "\n",
    "    # Useing csv.DictReader(f) to read the file, each row is converted into a dictionary, with keys created auomatically from the header.\n",
    "\n",
    "        # print as dictionary\n"
   ]
  },
  {
   "cell_type": "code",
   "execution_count": 87,
   "id": "b027eff8",
   "metadata": {},
   "outputs": [],
   "source": [
    "#Select all entreis for the location Washinton and writing them to a new file using the csv.DictWriter:\n",
    "\n",
    "    # Note: Pay attention to the indentations here!"
   ]
  }
 ],
 "metadata": {
  "kernelspec": {
   "display_name": "Python 3 (ipykernel)",
   "language": "python",
   "name": "python3"
  },
  "language_info": {
   "codemirror_mode": {
    "name": "ipython",
    "version": 3
   },
   "file_extension": ".py",
   "mimetype": "text/x-python",
   "name": "python",
   "nbconvert_exporter": "python",
   "pygments_lexer": "ipython3",
   "version": "3.12.4"
  }
 },
 "nbformat": 4,
 "nbformat_minor": 5
}
