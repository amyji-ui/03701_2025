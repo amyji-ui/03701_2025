{
 "cells": [
  {
   "cell_type": "markdown",
   "id": "af441174-2310-4219-ace1-3cd397d51e38",
   "metadata": {},
   "source": [
    "# For loops"
   ]
  },
  {
   "cell_type": "markdown",
   "id": "c0591484-d7ea-431e-be10-ce51bec62eb8",
   "metadata": {},
   "source": [
    "For loops in python looks like this:\n",
    "```python\n",
    "for item in object:\n",
    "    # do something with item, e.g.\n",
    "    print(item)   \n",
    "```\n",
    "Note: in a for-loop, what ***item*** acturally is depends on what ***object*** we use.\n",
    "For example, if we use ***list*** \n",
    "```python\n",
    "for item in my_list:\n",
    "    print(item)\n",
    "```\n",
    "here we loop through all elements in the list\n",
    "if we use ***string***\n",
    "```python\n",
    "for item in my_string:\n",
    "    print(item)\n",
    "```\n",
    "here we loop through all characters in the string\n",
    "\n",
    "***Important:*** know the ***datastructure*** of the ***object*** you loop through!"
   ]
  },
  {
   "cell_type": "markdown",
   "id": "5431af72-1034-4e3f-94f6-45644e4f173d",
   "metadata": {},
   "source": [
    "### Loop through a string"
   ]
  },
  {
   "cell_type": "code",
   "execution_count": 1,
   "id": "be2a1098-f6e6-4722-a7e6-b14cc6bd7c40",
   "metadata": {},
   "outputs": [
    {
     "name": "stdout",
     "output_type": "stream",
     "text": [
      "H\n",
      "e\n",
      "l\n",
      "l\n",
      "o\n"
     ]
    }
   ],
   "source": [
    "my_string = \"Hello\"\n",
    "for item in my_string:\n",
    "    print(item)"
   ]
  },
  {
   "cell_type": "markdown",
   "id": "d1a083fc-d618-49a6-965f-f8baad094197",
   "metadata": {},
   "source": [
    "**Note: you can replace \"item\" with any names you want, for example: \"element\", \"a\", \"character\", \"list_member\".**"
   ]
  },
  {
   "cell_type": "markdown",
   "id": "dd00f990-b242-4c3f-8592-5f5004ae83b8",
   "metadata": {},
   "source": [
    "### Loop through a list"
   ]
  },
  {
   "cell_type": "code",
   "execution_count": 2,
   "id": "118c8b6c-45de-42c7-94be-7a84a02a0955",
   "metadata": {},
   "outputs": [
    {
     "name": "stdout",
     "output_type": "stream",
     "text": [
      "1\n",
      "5\n",
      "mystring\n",
      "True\n"
     ]
    }
   ],
   "source": [
    "z = [1, 5, \"mystring\", True]\n",
    "for item in z:\n",
    "    print(item)"
   ]
  },
  {
   "cell_type": "code",
   "execution_count": null,
   "id": "20be7ca1-2c63-4b9a-888a-6e04609c5b6c",
   "metadata": {},
   "outputs": [],
   "source": [
    "z = [1, 5, \"mystring\", True]\n",
    "for a in z:\n",
    "    print(a)"
   ]
  },
  {
   "cell_type": "markdown",
   "id": "22eeea50-d185-4148-b930-657ebdbf30bc",
   "metadata": {},
   "source": [
    "### Loop through items in a dictionary"
   ]
  },
  {
   "cell_type": "code",
   "execution_count": null,
   "id": "ccd2732f-2960-4260-a55e-5cd2058622ce",
   "metadata": {},
   "outputs": [],
   "source": [
    "d = {0:\"a\", 1:\"b\", 2:\"c\"}"
   ]
  },
  {
   "cell_type": "code",
   "execution_count": null,
   "id": "30cb0ea3-8c74-4597-a163-1c17dd36939c",
   "metadata": {},
   "outputs": [],
   "source": [
    "d.items()"
   ]
  },
  {
   "cell_type": "code",
   "execution_count": null,
   "id": "f93e92f1-8255-461a-863b-0be13e18e81e",
   "metadata": {},
   "outputs": [],
   "source": [
    "# Use a for loop to print the key:value pairs of z\n",
    "for (key,val) in d.items():\n",
    "    print(key, \"->\", val)"
   ]
  },
  {
   "cell_type": "code",
   "execution_count": null,
   "id": "b4b5de1d-241a-4fe1-a0e2-6ec7b44d3fa9",
   "metadata": {},
   "outputs": [],
   "source": [
    "# You can use any name for (key,val) \n",
    "# as long as you follow the format \n",
    "# of the elements in d.items()\n",
    "for (k,v) in d.items():\n",
    "    print(k, \"->\", v)"
   ]
  },
  {
   "cell_type": "markdown",
   "id": "f2f1fc41-6809-4c3c-a78e-a74d105b2fab",
   "metadata": {},
   "source": [
    "### Loop through numbers\n",
    "* `range()` -> range object that represents the sequence of integers"
   ]
  },
  {
   "cell_type": "code",
   "execution_count": null,
   "id": "9fbfc953-3710-4c63-bf41-d9149b8927d7",
   "metadata": {},
   "outputs": [],
   "source": [
    "list(range(9))"
   ]
  },
  {
   "cell_type": "code",
   "execution_count": null,
   "id": "32fa3027-da3a-4c39-9c2c-09a4f2962cb2",
   "metadata": {},
   "outputs": [],
   "source": [
    "for x in range(6):\n",
    "    print(x**2)"
   ]
  },
  {
   "cell_type": "markdown",
   "id": "2cb03657-a268-4ff5-8b84-1498787ccd8f",
   "metadata": {},
   "source": [
    "### Loop with enumerate\n",
    "* `enumerate` -> add an index to an iterable"
   ]
  },
  {
   "cell_type": "code",
   "execution_count": null,
   "id": "0a3ea005-4155-4f30-a153-41cc54a41c11",
   "metadata": {},
   "outputs": [],
   "source": [
    "# Use a for loop to print the elements and their indices:\n",
    "for k, x in enumerate(my_string):\n",
    "    print(k,x)\n",
    "# k -> the index\n",
    "# x -> the item (character) in the object (string)"
   ]
  },
  {
   "cell_type": "markdown",
   "id": "825cfc9d-445c-4a24-8561-19477a3dfb4d",
   "metadata": {},
   "source": [
    "### Counter\n",
    "`counter += 1` -> increments by 1 each iteration, same as `counter = counter + 1`"
   ]
  },
  {
   "cell_type": "code",
   "execution_count": null,
   "id": "a26a2010-3db9-4d89-b277-e220508189ce",
   "metadata": {},
   "outputs": [],
   "source": [
    "counter = 0\n",
    "for item in z:\n",
    "    print(counter, item)\n",
    "    counter += 1"
   ]
  },
  {
   "cell_type": "code",
   "execution_count": null,
   "id": "f26f645f-e788-4b0c-9f0e-830154fb76e3",
   "metadata": {},
   "outputs": [],
   "source": []
  }
 ],
 "metadata": {
  "kernelspec": {
   "display_name": "Python 3 (ipykernel)",
   "language": "python",
   "name": "python3"
  },
  "language_info": {
   "codemirror_mode": {
    "name": "ipython",
    "version": 3
   },
   "file_extension": ".py",
   "mimetype": "text/x-python",
   "name": "python",
   "nbconvert_exporter": "python",
   "pygments_lexer": "ipython3",
   "version": "3.12.4"
  }
 },
 "nbformat": 4,
 "nbformat_minor": 5
}
